{
  "nbformat": 4,
  "nbformat_minor": 0,
  "metadata": {
    "kernelspec": {
      "display_name": "Python 3",
      "language": "python",
      "name": "python3"
    },
    "language_info": {
      "codemirror_mode": {
        "name": "ipython",
        "version": 3
      },
      "file_extension": ".py",
      "mimetype": "text/x-python",
      "name": "python",
      "nbconvert_exporter": "python",
      "pygments_lexer": "ipython3",
      "version": "3.6.6"
    },
    "colab": {
      "name": "INDIVIDUAL NOTEBOOK.ipynb",
      "provenance": [],
      "collapsed_sections": []
    }
  },
  "cells": [
    {
      "cell_type": "markdown",
      "metadata": {
        "id": "tOGC-qoyhJeX"
      },
      "source": [
        "# <b><u> Project Title : Extraction/identification of major topics & themes discussed in news articles. </u></b>"
      ]
    },
    {
      "cell_type": "markdown",
      "metadata": {
        "id": "Y06xIdG26kRF"
      },
      "source": [
        "## <b> Problem Description </b>\n",
        "\n",
        "### In this project, your task is to identify major customer segments on a transnational data set which contains all the transactions occurring between 01/12/2010 and 09/12/2011 for a UK-based and registered non-store online retail.The company mainly sells unique all-occasion gifts. Many customers of the company are wholesalers."
      ]
    },
    {
      "cell_type": "markdown",
      "metadata": {
        "id": "AlLxAtlziMbP"
      },
      "source": [
        "## <b> Data Description </b>\n",
        "\n",
        "### <b>Attribute Information: </b>\n",
        "\n",
        "* ### InvoiceNo: Invoice number. Nominal, a 6-digit integral number uniquely assigned to each transaction. If this code starts with letter 'c', it indicates a cancellation.\n",
        "* ### StockCode: Product (item) code. Nominal, a 5-digit integral number uniquely assigned to each distinct product.\n",
        "* ### Description: Product (item) name. Nominal.\n",
        "* ### Quantity: The quantities of each product (item) per transaction. Numeric.\n",
        "* ### InvoiceDate: Invice Date and time. Numeric, the day and time when each transaction was generated.\n",
        "* ### UnitPrice: Unit price. Numeric, Product price per unit in sterling.\n",
        "* ### CustomerID: Customer number. Nominal, a 5-digit integral number uniquely assigned to each customer.\n",
        "* ### Country: Country name. Nominal, the name of the country where each customer resides."
      ]
    },
    {
      "cell_type": "code",
      "metadata": {
        "colab": {
          "base_uri": "https://localhost:8080/"
        },
        "id": "_EjVEO6Pd8CA",
        "outputId": "6bb2312a-78a5-44d7-8f57-739c45ea1cd9"
      },
      "source": [
        "from google.colab import drive\n",
        "drive.mount('/content/drive')"
      ],
      "execution_count": null,
      "outputs": [
        {
          "output_type": "stream",
          "text": [
            "Mounted at /content/drive\n"
          ],
          "name": "stdout"
        }
      ]
    },
    {
      "cell_type": "code",
      "metadata": {
        "id": "dGWlaz__qB8Z"
      },
      "source": [
        "import pandas as pd\n",
        "import numpy as np\n",
        "import datetime\n",
        "import math\n",
        "import matplotlib.pyplot as plt\n",
        "import matplotlib.mlab as mlab\n",
        "from sklearn import preprocessing\n",
        "from sklearn.cluster import KMeans\n",
        "from sklearn.metrics import silhouette_samples, silhouette_score\n",
        "import matplotlib.cm as cm\n",
        "\n",
        "from mpl_toolkits.mplot3d import Axes3D\n",
        "\n",
        "%matplotlib inline"
      ],
      "execution_count": null,
      "outputs": []
    },
    {
      "cell_type": "code",
      "metadata": {
        "id": "KY9DWlzqqEYg"
      },
      "source": [
        "dfRetail=pd.read_excel('/content/drive/MyDrive/CAPSTONE 4(customer segmentation)-SHAFIL AHAMED/CSV/Copy of Online Retail.xlsx')"
      ],
      "execution_count": null,
      "outputs": []
    },
    {
      "cell_type": "code",
      "metadata": {
        "colab": {
          "base_uri": "https://localhost:8080/",
          "height": 204
        },
        "id": "q373OvVMrjPP",
        "outputId": "580ca91c-a7f8-4323-9137-28ef5ece03a9"
      },
      "source": [
        "dfRetail.head()"
      ],
      "execution_count": null,
      "outputs": [
        {
          "output_type": "execute_result",
          "data": {
            "text/html": [
              "<div>\n",
              "<style scoped>\n",
              "    .dataframe tbody tr th:only-of-type {\n",
              "        vertical-align: middle;\n",
              "    }\n",
              "\n",
              "    .dataframe tbody tr th {\n",
              "        vertical-align: top;\n",
              "    }\n",
              "\n",
              "    .dataframe thead th {\n",
              "        text-align: right;\n",
              "    }\n",
              "</style>\n",
              "<table border=\"1\" class=\"dataframe\">\n",
              "  <thead>\n",
              "    <tr style=\"text-align: right;\">\n",
              "      <th></th>\n",
              "      <th>InvoiceNo</th>\n",
              "      <th>StockCode</th>\n",
              "      <th>Description</th>\n",
              "      <th>Quantity</th>\n",
              "      <th>InvoiceDate</th>\n",
              "      <th>UnitPrice</th>\n",
              "      <th>CustomerID</th>\n",
              "      <th>Country</th>\n",
              "    </tr>\n",
              "  </thead>\n",
              "  <tbody>\n",
              "    <tr>\n",
              "      <th>0</th>\n",
              "      <td>536365</td>\n",
              "      <td>85123A</td>\n",
              "      <td>WHITE HANGING HEART T-LIGHT HOLDER</td>\n",
              "      <td>6</td>\n",
              "      <td>2010-12-01 08:26:00</td>\n",
              "      <td>2.55</td>\n",
              "      <td>17850.0</td>\n",
              "      <td>United Kingdom</td>\n",
              "    </tr>\n",
              "    <tr>\n",
              "      <th>1</th>\n",
              "      <td>536365</td>\n",
              "      <td>71053</td>\n",
              "      <td>WHITE METAL LANTERN</td>\n",
              "      <td>6</td>\n",
              "      <td>2010-12-01 08:26:00</td>\n",
              "      <td>3.39</td>\n",
              "      <td>17850.0</td>\n",
              "      <td>United Kingdom</td>\n",
              "    </tr>\n",
              "    <tr>\n",
              "      <th>2</th>\n",
              "      <td>536365</td>\n",
              "      <td>84406B</td>\n",
              "      <td>CREAM CUPID HEARTS COAT HANGER</td>\n",
              "      <td>8</td>\n",
              "      <td>2010-12-01 08:26:00</td>\n",
              "      <td>2.75</td>\n",
              "      <td>17850.0</td>\n",
              "      <td>United Kingdom</td>\n",
              "    </tr>\n",
              "    <tr>\n",
              "      <th>3</th>\n",
              "      <td>536365</td>\n",
              "      <td>84029G</td>\n",
              "      <td>KNITTED UNION FLAG HOT WATER BOTTLE</td>\n",
              "      <td>6</td>\n",
              "      <td>2010-12-01 08:26:00</td>\n",
              "      <td>3.39</td>\n",
              "      <td>17850.0</td>\n",
              "      <td>United Kingdom</td>\n",
              "    </tr>\n",
              "    <tr>\n",
              "      <th>4</th>\n",
              "      <td>536365</td>\n",
              "      <td>84029E</td>\n",
              "      <td>RED WOOLLY HOTTIE WHITE HEART.</td>\n",
              "      <td>6</td>\n",
              "      <td>2010-12-01 08:26:00</td>\n",
              "      <td>3.39</td>\n",
              "      <td>17850.0</td>\n",
              "      <td>United Kingdom</td>\n",
              "    </tr>\n",
              "  </tbody>\n",
              "</table>\n",
              "</div>"
            ],
            "text/plain": [
              "  InvoiceNo StockCode  ... CustomerID         Country\n",
              "0    536365    85123A  ...    17850.0  United Kingdom\n",
              "1    536365     71053  ...    17850.0  United Kingdom\n",
              "2    536365    84406B  ...    17850.0  United Kingdom\n",
              "3    536365    84029G  ...    17850.0  United Kingdom\n",
              "4    536365    84029E  ...    17850.0  United Kingdom\n",
              "\n",
              "[5 rows x 8 columns]"
            ]
          },
          "metadata": {
            "tags": []
          },
          "execution_count": 5
        }
      ]
    },
    {
      "cell_type": "markdown",
      "metadata": {
        "id": "97RQVjS97Tgu"
      },
      "source": [
        " **Exploratory Data Analysis**"
      ]
    },
    {
      "cell_type": "markdown",
      "metadata": {
        "id": "kAIw177W7zCr"
      },
      "source": [
        " Top 10 ordering countrie"
      ]
    },
    {
      "cell_type": "code",
      "metadata": {
        "colab": {
          "base_uri": "https://localhost:8080/",
          "height": 398
        },
        "id": "BF0gsW4K73vK",
        "outputId": "c4366d32-5e2a-4c50-ad4f-aeab0b185c06"
      },
      "source": [
        "dfRetail.Country.value_counts().head(10).plot.bar(figsize=(8,5))"
      ],
      "execution_count": null,
      "outputs": [
        {
          "output_type": "execute_result",
          "data": {
            "text/plain": [
              "<matplotlib.axes._subplots.AxesSubplot at 0x7f10096b49d0>"
            ]
          },
          "metadata": {
            "tags": []
          },
          "execution_count": 6
        },
        {
          "output_type": "display_data",
          "data": {
            "image/png": "[encoded data removed]",
            "text/plain": [
              "<Figure size 576x360 with 1 Axes>"
            ]
          },
          "metadata": {
            "tags": [],
            "needs_background": "light"
          }
        }
      ]
    },
    {
      "cell_type": "markdown",
      "metadata": {
        "id": "4nM5hV-l8Q7_"
      },
      "source": [
        "**Unique customers and order share of top customers**"
      ]
    },
    {
      "cell_type": "code",
      "metadata": {
        "colab": {
          "base_uri": "https://localhost:8080/"
        },
        "id": "wZUvuRIs8Jc9",
        "outputId": "25a5cfc9-27e1-4c88-922a-b6e3c26c06e4"
      },
      "source": [
        "len(dfRetail.CustomerID.unique())"
      ],
      "execution_count": null,
      "outputs": [
        {
          "output_type": "execute_result",
          "data": {
            "text/plain": [
              "4373"
            ]
          },
          "metadata": {
            "tags": []
          },
          "execution_count": 7
        }
      ]
    },
    {
      "cell_type": "markdown",
      "metadata": {
        "id": "ItwSTTa28gsF"
      },
      "source": [
        "\n",
        "There are 4373 unique customer records in the dataset\n"
      ]
    },
    {
      "cell_type": "code",
      "metadata": {
        "colab": {
          "base_uri": "https://localhost:8080/"
        },
        "id": "v1T7wSl48X-H",
        "outputId": "d21c4ead-642d-438f-9937-39309b367fde"
      },
      "source": [
        "(dfRetail.CustomerID.value_counts()/sum(dfRetail.CustomerID.value_counts())*100).head(n=15).cumsum()"
      ],
      "execution_count": null,
      "outputs": [
        {
          "output_type": "execute_result",
          "data": {
            "text/plain": [
              "17841.0     1.962249\n",
              "14911.0     3.413228\n",
              "14096.0     4.673708\n",
              "12748.0     5.814728\n",
              "14606.0     6.498553\n",
              "15311.0     7.110850\n",
              "14646.0     7.623350\n",
              "13089.0     8.079807\n",
              "13263.0     8.492020\n",
              "14298.0     8.895138\n",
              "15039.0     9.265809\n",
              "14156.0     9.614850\n",
              "18118.0     9.930462\n",
              "14159.0    10.228376\n",
              "14796.0    10.514737\n",
              "Name: CustomerID, dtype: float64"
            ]
          },
          "metadata": {
            "tags": []
          },
          "execution_count": 8
        }
      ]
    },
    {
      "cell_type": "markdown",
      "metadata": {
        "id": "CO1nrLiZ9DP2"
      },
      "source": [
        "It is seen that only 10 out of 4000+ customers are responsible for 10% of total orders. These must be the wholesale customers of the retail store"
      ]
    },
    {
      "cell_type": "code",
      "metadata": {
        "colab": {
          "base_uri": "https://localhost:8080/"
        },
        "id": "2hsYif3xEIaj",
        "outputId": "348713d4-5a63-4037-f5fa-d49e647da38a"
      },
      "source": [
        "#Find number of unique items in stock\n",
        "print(f\"Number of unique item stock codes: {len(dfRetail.StockCode.unique())}\")\n",
        "print(f\"Number of unique item descriptions: {len(dfRetail.Description.unique())}\")"
      ],
      "execution_count": null,
      "outputs": [
        {
          "output_type": "stream",
          "text": [
            "Number of unique item stock codes: 4070\n",
            "Number of unique item descriptions: 4224\n"
          ],
          "name": "stdout"
        }
      ]
    },
    {
      "cell_type": "code",
      "metadata": {
        "colab": {
          "base_uri": "https://localhost:8080/",
          "height": 204
        },
        "id": "dpj9EeF6EM9_",
        "outputId": "feb2ba17-6b56-408e-de0d-7b6a3c13c31e"
      },
      "source": [
        "#Find out the stock units that have more than one description\n",
        "dfStockDesc = dfRetail.groupby([\"StockCode\",\"Description\"]).count().reset_index()\n",
        "dfStockDesc.StockCode.value_counts()[dfStockDesc.StockCode.value_counts()>1].reset_index().head()"
      ],
      "execution_count": null,
      "outputs": [
        {
          "output_type": "execute_result",
          "data": {
            "text/html": [
              "<div>\n",
              "<style scoped>\n",
              "    .dataframe tbody tr th:only-of-type {\n",
              "        vertical-align: middle;\n",
              "    }\n",
              "\n",
              "    .dataframe tbody tr th {\n",
              "        vertical-align: top;\n",
              "    }\n",
              "\n",
              "    .dataframe thead th {\n",
              "        text-align: right;\n",
              "    }\n",
              "</style>\n",
              "<table border=\"1\" class=\"dataframe\">\n",
              "  <thead>\n",
              "    <tr style=\"text-align: right;\">\n",
              "      <th></th>\n",
              "      <th>index</th>\n",
              "      <th>StockCode</th>\n",
              "    </tr>\n",
              "  </thead>\n",
              "  <tbody>\n",
              "    <tr>\n",
              "      <th>0</th>\n",
              "      <td>20713</td>\n",
              "      <td>8</td>\n",
              "    </tr>\n",
              "    <tr>\n",
              "      <th>1</th>\n",
              "      <td>23084</td>\n",
              "      <td>7</td>\n",
              "    </tr>\n",
              "    <tr>\n",
              "      <th>2</th>\n",
              "      <td>85175</td>\n",
              "      <td>6</td>\n",
              "    </tr>\n",
              "    <tr>\n",
              "      <th>3</th>\n",
              "      <td>21830</td>\n",
              "      <td>6</td>\n",
              "    </tr>\n",
              "    <tr>\n",
              "      <th>4</th>\n",
              "      <td>23343</td>\n",
              "      <td>5</td>\n",
              "    </tr>\n",
              "  </tbody>\n",
              "</table>\n",
              "</div>"
            ],
            "text/plain": [
              "   index  StockCode\n",
              "0  20713          8\n",
              "1  23084          7\n",
              "2  85175          6\n",
              "3  21830          6\n",
              "4  23343          5"
            ]
          },
          "metadata": {
            "tags": []
          },
          "execution_count": 10
        }
      ]
    },
    {
      "cell_type": "code",
      "metadata": {
        "colab": {
          "base_uri": "https://localhost:8080/"
        },
        "id": "MQUubHMsEXX1",
        "outputId": "6306e744-6e10-41dd-8183-a6827cd3dbb0"
      },
      "source": [
        "dfRetail[dfRetail['StockCode'] == \n",
        "         dfStockDesc.StockCode.value_counts()\n",
        "         [dfStockDesc.StockCode.value_counts()>1].reset_index()\n",
        "         ['index'][8]]['Description'].unique()"
      ],
      "execution_count": null,
      "outputs": [
        {
          "output_type": "execute_result",
          "data": {
            "text/plain": [
              "array(['SET/3 ROSE CANDLE IN JEWELLED BOX', 'wet pallet', 'damages',\n",
              "       '???missing', 'AMAZON'], dtype=object)"
            ]
          },
          "metadata": {
            "tags": []
          },
          "execution_count": 11
        }
      ]
    },
    {
      "cell_type": "markdown",
      "metadata": {
        "id": "MQTYW-1a9kJb"
      },
      "source": [
        " **Exploring Quantity and Unit Price fields**"
      ]
    },
    {
      "cell_type": "code",
      "metadata": {
        "colab": {
          "base_uri": "https://localhost:8080/"
        },
        "id": "uWROWm5x9Un3",
        "outputId": "a3a15009-32e4-427b-c991-39af7cf58a98"
      },
      "source": [
        "dfRetail.Quantity.describe()"
      ],
      "execution_count": null,
      "outputs": [
        {
          "output_type": "execute_result",
          "data": {
            "text/plain": [
              "count    541909.000000\n",
              "mean          9.552250\n",
              "std         218.081158\n",
              "min      -80995.000000\n",
              "25%           1.000000\n",
              "50%           3.000000\n",
              "75%          10.000000\n",
              "max       80995.000000\n",
              "Name: Quantity, dtype: float64"
            ]
          },
          "metadata": {
            "tags": []
          },
          "execution_count": 12
        }
      ]
    },
    {
      "cell_type": "markdown",
      "metadata": {
        "id": "SfmN7dB39zqG"
      },
      "source": [
        "We see 10 goods being sold on an average with a standard deviation of around 200. Also, the minimum quantity includes a negative value, this implies that the dataset includes returned items as well, a common scenario in retail domain"
      ]
    },
    {
      "cell_type": "code",
      "metadata": {
        "colab": {
          "base_uri": "https://localhost:8080/"
        },
        "id": "Oush4hhL9842",
        "outputId": "ef1126a0-800e-4e1a-aeb7-a96d4cb39541"
      },
      "source": [
        "dfRetail.UnitPrice.describe()"
      ],
      "execution_count": null,
      "outputs": [
        {
          "output_type": "execute_result",
          "data": {
            "text/plain": [
              "count    541909.000000\n",
              "mean          4.611114\n",
              "std          96.759853\n",
              "min      -11062.060000\n",
              "25%           1.250000\n",
              "50%           2.080000\n",
              "75%           4.130000\n",
              "max       38970.000000\n",
              "Name: UnitPrice, dtype: float64"
            ]
          },
          "metadata": {
            "tags": []
          },
          "execution_count": 13
        }
      ]
    },
    {
      "cell_type": "markdown",
      "metadata": {
        "id": "ZS_yHnwa-Kc6"
      },
      "source": [
        "The unit price field echoes the similar observations as Quantity variable"
      ]
    },
    {
      "cell_type": "markdown",
      "metadata": {
        "id": "QpjhIr38-bNZ"
      },
      "source": [
        " **Data preprocessing and filtering:**"
      ]
    },
    {
      "cell_type": "markdown",
      "metadata": {
        "id": "qI85nnGX-xTp"
      },
      "source": [
        "**Filter UK only data**:   \n",
        "We noticed in the exploratory data analysis phase that majority of the transactions belonged to UK, so it makes sense to consider only this country data for maximum impact"
      ]
    },
    {
      "cell_type": "code",
      "metadata": {
        "id": "9kDznjWN-7wS"
      },
      "source": [
        "dfRetail = dfRetail[dfRetail.Country == \"United Kingdom\"]"
      ],
      "execution_count": null,
      "outputs": []
    },
    {
      "cell_type": "markdown",
      "metadata": {
        "id": "u9I9hBoxASTC"
      },
      "source": [
        "**Exclude records without customer IDs**"
      ]
    },
    {
      "cell_type": "code",
      "metadata": {
        "colab": {
          "base_uri": "https://localhost:8080/"
        },
        "id": "d2zIIdNK_mBc",
        "outputId": "34f71abb-1658-4211-b50a-d3879cb218ad"
      },
      "source": [
        "dfRetail = dfRetail[~dfRetail.CustomerID.isnull()]\n",
        "dfRetail.shape"
      ],
      "execution_count": null,
      "outputs": [
        {
          "output_type": "execute_result",
          "data": {
            "text/plain": [
              "(361878, 8)"
            ]
          },
          "metadata": {
            "tags": []
          },
          "execution_count": 15
        }
      ]
    },
    {
      "cell_type": "markdown",
      "metadata": {
        "id": "DhcMxgDjAmfD"
      },
      "source": [
        "**Feature Engineering - Building features for RFM model:**"
      ]
    },
    {
      "cell_type": "markdown",
      "metadata": {
        "id": "UWqKp74jA1DX"
      },
      "source": [
        "**1. Recency:**   \n",
        "We fix a reference date for finding the recent transactions. The reference date would be a day after the most recent transaction date in the dataset. Then we calculate the days difference between the most recent transaction carried out by the customer and this reference date\n",
        "\n"
      ]
    },
    {
      "cell_type": "code",
      "metadata": {
        "id": "m0Tzp74kO2JA"
      },
      "source": [
        "dfRetail['InvoiceDate'] = pd.to_datetime(dfRetail['InvoiceDate'],format='%d-%m-%Y %H:%M')"
      ],
      "execution_count": null,
      "outputs": []
    },
    {
      "cell_type": "code",
      "metadata": {
        "colab": {
          "base_uri": "https://localhost:8080/"
        },
        "id": "_XT7Is7jPFGs",
        "outputId": "e153c024-8a66-45f2-9ffb-7a2268734dcb"
      },
      "source": [
        "max_date = max(dfRetail['InvoiceDate'])\n",
        "max_date"
      ],
      "execution_count": null,
      "outputs": [
        {
          "output_type": "execute_result",
          "data": {
            "text/plain": [
              "Timestamp('2011-12-09 12:49:00')"
            ]
          },
          "metadata": {
            "tags": []
          },
          "execution_count": 17
        }
      ]
    },
    {
      "cell_type": "code",
      "metadata": {
        "colab": {
          "base_uri": "https://localhost:8080/",
          "height": 204
        },
        "id": "k7448_vOPSV2",
        "outputId": "266ef240-9409-4e79-ced1-d9410bde8d7f"
      },
      "source": [
        "dfRetail['Diff'] = max_date - dfRetail['InvoiceDate']\n",
        "dfRetail.head()"
      ],
      "execution_count": null,
      "outputs": [
        {
          "output_type": "execute_result",
          "data": {
            "text/html": [
              "<div>\n",
              "<style scoped>\n",
              "    .dataframe tbody tr th:only-of-type {\n",
              "        vertical-align: middle;\n",
              "    }\n",
              "\n",
              "    .dataframe tbody tr th {\n",
              "        vertical-align: top;\n",
              "    }\n",
              "\n",
              "    .dataframe thead th {\n",
              "        text-align: right;\n",
              "    }\n",
              "</style>\n",
              "<table border=\"1\" class=\"dataframe\">\n",
              "  <thead>\n",
              "    <tr style=\"text-align: right;\">\n",
              "      <th></th>\n",
              "      <th>InvoiceNo</th>\n",
              "      <th>StockCode</th>\n",
              "      <th>Description</th>\n",
              "      <th>Quantity</th>\n",
              "      <th>InvoiceDate</th>\n",
              "      <th>UnitPrice</th>\n",
              "      <th>CustomerID</th>\n",
              "      <th>Country</th>\n",
              "      <th>Diff</th>\n",
              "    </tr>\n",
              "  </thead>\n",
              "  <tbody>\n",
              "    <tr>\n",
              "      <th>0</th>\n",
              "      <td>536365</td>\n",
              "      <td>85123A</td>\n",
              "      <td>WHITE HANGING HEART T-LIGHT HOLDER</td>\n",
              "      <td>6</td>\n",
              "      <td>2010-12-01 08:26:00</td>\n",
              "      <td>2.55</td>\n",
              "      <td>17850.0</td>\n",
              "      <td>United Kingdom</td>\n",
              "      <td>373 days 04:23:00</td>\n",
              "    </tr>\n",
              "    <tr>\n",
              "      <th>1</th>\n",
              "      <td>536365</td>\n",
              "      <td>71053</td>\n",
              "      <td>WHITE METAL LANTERN</td>\n",
              "      <td>6</td>\n",
              "      <td>2010-12-01 08:26:00</td>\n",
              "      <td>3.39</td>\n",
              "      <td>17850.0</td>\n",
              "      <td>United Kingdom</td>\n",
              "      <td>373 days 04:23:00</td>\n",
              "    </tr>\n",
              "    <tr>\n",
              "      <th>2</th>\n",
              "      <td>536365</td>\n",
              "      <td>84406B</td>\n",
              "      <td>CREAM CUPID HEARTS COAT HANGER</td>\n",
              "      <td>8</td>\n",
              "      <td>2010-12-01 08:26:00</td>\n",
              "      <td>2.75</td>\n",
              "      <td>17850.0</td>\n",
              "      <td>United Kingdom</td>\n",
              "      <td>373 days 04:23:00</td>\n",
              "    </tr>\n",
              "    <tr>\n",
              "      <th>3</th>\n",
              "      <td>536365</td>\n",
              "      <td>84029G</td>\n",
              "      <td>KNITTED UNION FLAG HOT WATER BOTTLE</td>\n",
              "      <td>6</td>\n",
              "      <td>2010-12-01 08:26:00</td>\n",
              "      <td>3.39</td>\n",
              "      <td>17850.0</td>\n",
              "      <td>United Kingdom</td>\n",
              "      <td>373 days 04:23:00</td>\n",
              "    </tr>\n",
              "    <tr>\n",
              "      <th>4</th>\n",
              "      <td>536365</td>\n",
              "      <td>84029E</td>\n",
              "      <td>RED WOOLLY HOTTIE WHITE HEART.</td>\n",
              "      <td>6</td>\n",
              "      <td>2010-12-01 08:26:00</td>\n",
              "      <td>3.39</td>\n",
              "      <td>17850.0</td>\n",
              "      <td>United Kingdom</td>\n",
              "      <td>373 days 04:23:00</td>\n",
              "    </tr>\n",
              "  </tbody>\n",
              "</table>\n",
              "</div>"
            ],
            "text/plain": [
              "  InvoiceNo StockCode  ...         Country              Diff\n",
              "0    536365    85123A  ...  United Kingdom 373 days 04:23:00\n",
              "1    536365     71053  ...  United Kingdom 373 days 04:23:00\n",
              "2    536365    84406B  ...  United Kingdom 373 days 04:23:00\n",
              "3    536365    84029G  ...  United Kingdom 373 days 04:23:00\n",
              "4    536365    84029E  ...  United Kingdom 373 days 04:23:00\n",
              "\n",
              "[5 rows x 9 columns]"
            ]
          },
          "metadata": {
            "tags": []
          },
          "execution_count": 18
        }
      ]
    },
    {
      "cell_type": "markdown",
      "metadata": {
        "id": "vyPuIblUL4Gq"
      },
      "source": [
        "**Recency**"
      ]
    },
    {
      "cell_type": "code",
      "metadata": {
        "id": "b7jRjOuIPhQK",
        "colab": {
          "base_uri": "https://localhost:8080/",
          "height": 204
        },
        "outputId": "11052eb0-5e7b-49ab-ae40-af6a61a81478"
      },
      "source": [
        "# Compute last transaction date to get the recency of customers\n",
        "rfm_r = dfRetail.groupby('CustomerID')['Diff'].min().reset_index()\n",
        "rfm_r.head()"
      ],
      "execution_count": null,
      "outputs": [
        {
          "output_type": "execute_result",
          "data": {
            "text/html": [
              "<div>\n",
              "<style scoped>\n",
              "    .dataframe tbody tr th:only-of-type {\n",
              "        vertical-align: middle;\n",
              "    }\n",
              "\n",
              "    .dataframe tbody tr th {\n",
              "        vertical-align: top;\n",
              "    }\n",
              "\n",
              "    .dataframe thead th {\n",
              "        text-align: right;\n",
              "    }\n",
              "</style>\n",
              "<table border=\"1\" class=\"dataframe\">\n",
              "  <thead>\n",
              "    <tr style=\"text-align: right;\">\n",
              "      <th></th>\n",
              "      <th>CustomerID</th>\n",
              "      <th>Diff</th>\n",
              "    </tr>\n",
              "  </thead>\n",
              "  <tbody>\n",
              "    <tr>\n",
              "      <th>0</th>\n",
              "      <td>12346.0</td>\n",
              "      <td>325 days 02:32:00</td>\n",
              "    </tr>\n",
              "    <tr>\n",
              "      <th>1</th>\n",
              "      <td>12747.0</td>\n",
              "      <td>1 days 22:15:00</td>\n",
              "    </tr>\n",
              "    <tr>\n",
              "      <th>2</th>\n",
              "      <td>12748.0</td>\n",
              "      <td>0 days 00:29:00</td>\n",
              "    </tr>\n",
              "    <tr>\n",
              "      <th>3</th>\n",
              "      <td>12749.0</td>\n",
              "      <td>3 days 02:53:00</td>\n",
              "    </tr>\n",
              "    <tr>\n",
              "      <th>4</th>\n",
              "      <td>12820.0</td>\n",
              "      <td>2 days 21:37:00</td>\n",
              "    </tr>\n",
              "  </tbody>\n",
              "</table>\n",
              "</div>"
            ],
            "text/plain": [
              "   CustomerID              Diff\n",
              "0     12346.0 325 days 02:32:00\n",
              "1     12747.0   1 days 22:15:00\n",
              "2     12748.0   0 days 00:29:00\n",
              "3     12749.0   3 days 02:53:00\n",
              "4     12820.0   2 days 21:37:00"
            ]
          },
          "metadata": {
            "tags": []
          },
          "execution_count": 19
        }
      ]
    },
    {
      "cell_type": "code",
      "metadata": {
        "colab": {
          "base_uri": "https://localhost:8080/",
          "height": 204
        },
        "id": "zZEzRlxPPvun",
        "outputId": "505daee2-d229-4f32-bf79-76bc50a9ecc3"
      },
      "source": [
        "rfm_r['Diff'] = rfm_r['Diff'].dt.days\n",
        "rfm_r.columns = ['CustomerID','Recency']\n",
        "rfm_r.head()"
      ],
      "execution_count": null,
      "outputs": [
        {
          "output_type": "execute_result",
          "data": {
            "text/html": [
              "<div>\n",
              "<style scoped>\n",
              "    .dataframe tbody tr th:only-of-type {\n",
              "        vertical-align: middle;\n",
              "    }\n",
              "\n",
              "    .dataframe tbody tr th {\n",
              "        vertical-align: top;\n",
              "    }\n",
              "\n",
              "    .dataframe thead th {\n",
              "        text-align: right;\n",
              "    }\n",
              "</style>\n",
              "<table border=\"1\" class=\"dataframe\">\n",
              "  <thead>\n",
              "    <tr style=\"text-align: right;\">\n",
              "      <th></th>\n",
              "      <th>CustomerID</th>\n",
              "      <th>Recency</th>\n",
              "    </tr>\n",
              "  </thead>\n",
              "  <tbody>\n",
              "    <tr>\n",
              "      <th>0</th>\n",
              "      <td>12346.0</td>\n",
              "      <td>325</td>\n",
              "    </tr>\n",
              "    <tr>\n",
              "      <th>1</th>\n",
              "      <td>12747.0</td>\n",
              "      <td>1</td>\n",
              "    </tr>\n",
              "    <tr>\n",
              "      <th>2</th>\n",
              "      <td>12748.0</td>\n",
              "      <td>0</td>\n",
              "    </tr>\n",
              "    <tr>\n",
              "      <th>3</th>\n",
              "      <td>12749.0</td>\n",
              "      <td>3</td>\n",
              "    </tr>\n",
              "    <tr>\n",
              "      <th>4</th>\n",
              "      <td>12820.0</td>\n",
              "      <td>2</td>\n",
              "    </tr>\n",
              "  </tbody>\n",
              "</table>\n",
              "</div>"
            ],
            "text/plain": [
              "   CustomerID  Recency\n",
              "0     12346.0      325\n",
              "1     12747.0        1\n",
              "2     12748.0        0\n",
              "3     12749.0        3\n",
              "4     12820.0        2"
            ]
          },
          "metadata": {
            "tags": []
          },
          "execution_count": 20
        }
      ]
    },
    {
      "cell_type": "markdown",
      "metadata": {
        "id": "6-FzGhomS3rE"
      },
      "source": [
        "**Calculating frequency**"
      ]
    },
    {
      "cell_type": "code",
      "metadata": {
        "colab": {
          "base_uri": "https://localhost:8080/",
          "height": 204
        },
        "id": "qrEqERncSCwU",
        "outputId": "f81e8b01-43d9-476a-940b-975598f46274"
      },
      "source": [
        "rfm_f = dfRetail.groupby('CustomerID')['InvoiceNo'].count().reset_index()\n",
        "rfm_f.columns = ['CustomerID', 'Frequency']\n",
        "rfm_f.head()"
      ],
      "execution_count": null,
      "outputs": [
        {
          "output_type": "execute_result",
          "data": {
            "text/html": [
              "<div>\n",
              "<style scoped>\n",
              "    .dataframe tbody tr th:only-of-type {\n",
              "        vertical-align: middle;\n",
              "    }\n",
              "\n",
              "    .dataframe tbody tr th {\n",
              "        vertical-align: top;\n",
              "    }\n",
              "\n",
              "    .dataframe thead th {\n",
              "        text-align: right;\n",
              "    }\n",
              "</style>\n",
              "<table border=\"1\" class=\"dataframe\">\n",
              "  <thead>\n",
              "    <tr style=\"text-align: right;\">\n",
              "      <th></th>\n",
              "      <th>CustomerID</th>\n",
              "      <th>Frequency</th>\n",
              "    </tr>\n",
              "  </thead>\n",
              "  <tbody>\n",
              "    <tr>\n",
              "      <th>0</th>\n",
              "      <td>12346.0</td>\n",
              "      <td>2</td>\n",
              "    </tr>\n",
              "    <tr>\n",
              "      <th>1</th>\n",
              "      <td>12747.0</td>\n",
              "      <td>103</td>\n",
              "    </tr>\n",
              "    <tr>\n",
              "      <th>2</th>\n",
              "      <td>12748.0</td>\n",
              "      <td>4642</td>\n",
              "    </tr>\n",
              "    <tr>\n",
              "      <th>3</th>\n",
              "      <td>12749.0</td>\n",
              "      <td>231</td>\n",
              "    </tr>\n",
              "    <tr>\n",
              "      <th>4</th>\n",
              "      <td>12820.0</td>\n",
              "      <td>59</td>\n",
              "    </tr>\n",
              "  </tbody>\n",
              "</table>\n",
              "</div>"
            ],
            "text/plain": [
              "   CustomerID  Frequency\n",
              "0     12346.0          2\n",
              "1     12747.0        103\n",
              "2     12748.0       4642\n",
              "3     12749.0        231\n",
              "4     12820.0         59"
            ]
          },
          "metadata": {
            "tags": []
          },
          "execution_count": 21
        }
      ]
    },
    {
      "cell_type": "markdown",
      "metadata": {
        "id": "NVdT9W71S7xc"
      },
      "source": [
        "**Calculating Monetary**"
      ]
    },
    {
      "cell_type": "code",
      "metadata": {
        "colab": {
          "base_uri": "https://localhost:8080/",
          "height": 204
        },
        "id": "hJlYGbk7TBWp",
        "outputId": "1f36b928-ccb7-4a19-e44b-fc2d06b1dc31"
      },
      "source": [
        "# New Attribute : Monetary\n",
        "\n",
        "dfRetail['Amount'] = dfRetail['Quantity']*dfRetail['UnitPrice']\n",
        "rfm_m = dfRetail.groupby('CustomerID')['Amount'].sum().reset_index()\n",
        "rfm_m.head()"
      ],
      "execution_count": null,
      "outputs": [
        {
          "output_type": "execute_result",
          "data": {
            "text/html": [
              "<div>\n",
              "<style scoped>\n",
              "    .dataframe tbody tr th:only-of-type {\n",
              "        vertical-align: middle;\n",
              "    }\n",
              "\n",
              "    .dataframe tbody tr th {\n",
              "        vertical-align: top;\n",
              "    }\n",
              "\n",
              "    .dataframe thead th {\n",
              "        text-align: right;\n",
              "    }\n",
              "</style>\n",
              "<table border=\"1\" class=\"dataframe\">\n",
              "  <thead>\n",
              "    <tr style=\"text-align: right;\">\n",
              "      <th></th>\n",
              "      <th>CustomerID</th>\n",
              "      <th>Amount</th>\n",
              "    </tr>\n",
              "  </thead>\n",
              "  <tbody>\n",
              "    <tr>\n",
              "      <th>0</th>\n",
              "      <td>12346.0</td>\n",
              "      <td>0.00</td>\n",
              "    </tr>\n",
              "    <tr>\n",
              "      <th>1</th>\n",
              "      <td>12747.0</td>\n",
              "      <td>4196.01</td>\n",
              "    </tr>\n",
              "    <tr>\n",
              "      <th>2</th>\n",
              "      <td>12748.0</td>\n",
              "      <td>29072.10</td>\n",
              "    </tr>\n",
              "    <tr>\n",
              "      <th>3</th>\n",
              "      <td>12749.0</td>\n",
              "      <td>3868.20</td>\n",
              "    </tr>\n",
              "    <tr>\n",
              "      <th>4</th>\n",
              "      <td>12820.0</td>\n",
              "      <td>942.34</td>\n",
              "    </tr>\n",
              "  </tbody>\n",
              "</table>\n",
              "</div>"
            ],
            "text/plain": [
              "   CustomerID    Amount\n",
              "0     12346.0      0.00\n",
              "1     12747.0   4196.01\n",
              "2     12748.0  29072.10\n",
              "3     12749.0   3868.20\n",
              "4     12820.0    942.34"
            ]
          },
          "metadata": {
            "tags": []
          },
          "execution_count": 22
        }
      ]
    },
    {
      "cell_type": "code",
      "metadata": {
        "colab": {
          "base_uri": "https://localhost:8080/",
          "height": 204
        },
        "id": "cdaP8Lx2VDux",
        "outputId": "d5cbca66-cbe0-4c3d-f41f-f0eeee16db0e"
      },
      "source": [
        "rfm = rfm_r.merge(rfm_f,how='inner',on=['CustomerID'])\n",
        "rfm =rfm.merge(rfm_m,how='inner',on=['CustomerID'])\n",
        "rfm.head()"
      ],
      "execution_count": null,
      "outputs": [
        {
          "output_type": "execute_result",
          "data": {
            "text/html": [
              "<div>\n",
              "<style scoped>\n",
              "    .dataframe tbody tr th:only-of-type {\n",
              "        vertical-align: middle;\n",
              "    }\n",
              "\n",
              "    .dataframe tbody tr th {\n",
              "        vertical-align: top;\n",
              "    }\n",
              "\n",
              "    .dataframe thead th {\n",
              "        text-align: right;\n",
              "    }\n",
              "</style>\n",
              "<table border=\"1\" class=\"dataframe\">\n",
              "  <thead>\n",
              "    <tr style=\"text-align: right;\">\n",
              "      <th></th>\n",
              "      <th>CustomerID</th>\n",
              "      <th>Recency</th>\n",
              "      <th>Frequency</th>\n",
              "      <th>Amount</th>\n",
              "    </tr>\n",
              "  </thead>\n",
              "  <tbody>\n",
              "    <tr>\n",
              "      <th>0</th>\n",
              "      <td>12346.0</td>\n",
              "      <td>325</td>\n",
              "      <td>2</td>\n",
              "      <td>0.00</td>\n",
              "    </tr>\n",
              "    <tr>\n",
              "      <th>1</th>\n",
              "      <td>12747.0</td>\n",
              "      <td>1</td>\n",
              "      <td>103</td>\n",
              "      <td>4196.01</td>\n",
              "    </tr>\n",
              "    <tr>\n",
              "      <th>2</th>\n",
              "      <td>12748.0</td>\n",
              "      <td>0</td>\n",
              "      <td>4642</td>\n",
              "      <td>29072.10</td>\n",
              "    </tr>\n",
              "    <tr>\n",
              "      <th>3</th>\n",
              "      <td>12749.0</td>\n",
              "      <td>3</td>\n",
              "      <td>231</td>\n",
              "      <td>3868.20</td>\n",
              "    </tr>\n",
              "    <tr>\n",
              "      <th>4</th>\n",
              "      <td>12820.0</td>\n",
              "      <td>2</td>\n",
              "      <td>59</td>\n",
              "      <td>942.34</td>\n",
              "    </tr>\n",
              "  </tbody>\n",
              "</table>\n",
              "</div>"
            ],
            "text/plain": [
              "   CustomerID  Recency  Frequency    Amount\n",
              "0     12346.0      325          2      0.00\n",
              "1     12747.0        1        103   4196.01\n",
              "2     12748.0        0       4642  29072.10\n",
              "3     12749.0        3        231   3868.20\n",
              "4     12820.0        2         59    942.34"
            ]
          },
          "metadata": {
            "tags": []
          },
          "execution_count": 23
        }
      ]
    },
    {
      "cell_type": "markdown",
      "metadata": {
        "id": "DgNsfj1VVMD1"
      },
      "source": [
        "Removing outliers"
      ]
    },
    {
      "cell_type": "code",
      "metadata": {
        "colab": {
          "base_uri": "https://localhost:8080/",
          "height": 531
        },
        "id": "IWnlChwTVOgy",
        "outputId": "760b88f4-b0dc-4fdc-a106-84f1dba784fd"
      },
      "source": [
        "# Outlier Analysis of Amount Frequency and Recency\n",
        "import matplotlib.pyplot as plt\n",
        "import seaborn as sns\n",
        "\n",
        "attributes = ['Recency','Frequency','Amount',]\n",
        "plt.rcParams['figure.figsize'] = [10,8]\n",
        "sns.boxplot(data = rfm[attributes], orient=\"v\", palette=\"Set2\" ,whis=1.5,saturation=1, width=0.7)\n",
        "plt.title(\"Outliers Variable Distribution\", fontsize = 14, fontweight = 'bold')\n",
        "plt.ylabel(\"Range\", fontweight = 'bold')\n",
        "plt.xlabel(\"Attributes\", fontweight = 'bold')"
      ],
      "execution_count": null,
      "outputs": [
        {
          "output_type": "execute_result",
          "data": {
            "text/plain": [
              "Text(0.5, 0, 'Attributes')"
            ]
          },
          "metadata": {
            "tags": []
          },
          "execution_count": 24
        },
        {
          "output_type": "display_data",
          "data": {
            "image/png": "[encoded data removed]",
            "text/plain": [
              "<Figure size 720x576 with 1 Axes>"
            ]
          },
          "metadata": {
            "tags": [],
            "needs_background": "light"
          }
        }
      ]
    },
    {
      "cell_type": "code",
      "metadata": {
        "id": "tSz3HwrZVhZS"
      },
      "source": [
        "# Removing (statistical) outliers for Amount\n",
        "Q1 = rfm.Amount.quantile(0.05)\n",
        "Q3 = rfm.Amount.quantile(0.95)\n",
        "IQR = Q3 - Q1\n",
        "rfm = rfm[(rfm.Amount >= Q1 - 1.5*IQR) & (rfm.Amount <= Q3 + 1.5*IQR)]\n",
        "\n",
        "# Removing (statistical) outliers for Recency\n",
        "Q1 = rfm.Recency.quantile(0.05)\n",
        "Q3 = rfm.Recency.quantile(0.95)\n",
        "IQR = Q3 - Q1\n",
        "rfm = rfm[(rfm.Recency >= Q1 - 1.5*IQR) & (rfm.Recency <= Q3 + 1.5*IQR)]\n",
        "\n",
        "# Removing (statistical) outliers for Frequency\n",
        "Q1 = rfm.Frequency.quantile(0.05)\n",
        "Q3 = rfm.Frequency.quantile(0.95)\n",
        "IQR = Q3 - Q1\n",
        "rfm = rfm[(rfm.Frequency >= Q1 - 1.5*IQR) & (rfm.Frequency <= Q3 + 1.5*IQR)]"
      ],
      "execution_count": null,
      "outputs": []
    },
    {
      "cell_type": "markdown",
      "metadata": {
        "id": "MAolQ4iyVnSq"
      },
      "source": [
        "Rescaling the Attributes by Standardisation (mean-0, sigma-1)"
      ]
    },
    {
      "cell_type": "code",
      "metadata": {
        "colab": {
          "base_uri": "https://localhost:8080/"
        },
        "id": "7NGwYsEDVuDJ",
        "outputId": "4e098e34-4c05-4bf2-bd9f-8709c76b9e9a"
      },
      "source": [
        "# Rescaling the attributes\n",
        "import sklearn\n",
        "from sklearn.preprocessing import StandardScaler\n",
        "\n",
        "rfm_df = rfm[['Recency','Frequency', 'Amount']]\n",
        "\n",
        "# Instantiate\n",
        "scaler = StandardScaler()\n",
        "\n",
        "# fit_transform\n",
        "rfm_df_scaled = scaler.fit_transform(rfm_df)\n",
        "rfm_df_scaled.shape"
      ],
      "execution_count": null,
      "outputs": [
        {
          "output_type": "execute_result",
          "data": {
            "text/plain": [
              "(3880, 3)"
            ]
          },
          "metadata": {
            "tags": []
          },
          "execution_count": 26
        }
      ]
    },
    {
      "cell_type": "code",
      "metadata": {
        "colab": {
          "base_uri": "https://localhost:8080/",
          "height": 204
        },
        "id": "m0kMcaF2V516",
        "outputId": "78a4618a-966d-44b0-f935-a60e9126e3fe"
      },
      "source": [
        "rfm_df_scaled = pd.DataFrame(rfm_df_scaled)\n",
        "rfm_df_scaled.columns = ['Amount', 'Frequency', 'Recency']\n",
        "rfm_df_scaled.head()\n"
      ],
      "execution_count": null,
      "outputs": [
        {
          "output_type": "execute_result",
          "data": {
            "text/html": [
              "<div>\n",
              "<style scoped>\n",
              "    .dataframe tbody tr th:only-of-type {\n",
              "        vertical-align: middle;\n",
              "    }\n",
              "\n",
              "    .dataframe tbody tr th {\n",
              "        vertical-align: top;\n",
              "    }\n",
              "\n",
              "    .dataframe thead th {\n",
              "        text-align: right;\n",
              "    }\n",
              "</style>\n",
              "<table border=\"1\" class=\"dataframe\">\n",
              "  <thead>\n",
              "    <tr style=\"text-align: right;\">\n",
              "      <th></th>\n",
              "      <th>Amount</th>\n",
              "      <th>Frequency</th>\n",
              "      <th>Recency</th>\n",
              "    </tr>\n",
              "  </thead>\n",
              "  <tbody>\n",
              "    <tr>\n",
              "      <th>0</th>\n",
              "      <td>2.317310</td>\n",
              "      <td>-0.746427</td>\n",
              "      <td>-0.727974</td>\n",
              "    </tr>\n",
              "    <tr>\n",
              "      <th>1</th>\n",
              "      <td>-0.908516</td>\n",
              "      <td>0.256975</td>\n",
              "      <td>1.805920</td>\n",
              "    </tr>\n",
              "    <tr>\n",
              "      <th>2</th>\n",
              "      <td>-0.888603</td>\n",
              "      <td>1.528614</td>\n",
              "      <td>1.607962</td>\n",
              "    </tr>\n",
              "    <tr>\n",
              "      <th>3</th>\n",
              "      <td>-0.898559</td>\n",
              "      <td>-0.180150</td>\n",
              "      <td>-0.158912</td>\n",
              "    </tr>\n",
              "    <tr>\n",
              "      <th>4</th>\n",
              "      <td>1.202210</td>\n",
              "      <td>-0.706688</td>\n",
              "      <td>-0.671982</td>\n",
              "    </tr>\n",
              "  </tbody>\n",
              "</table>\n",
              "</div>"
            ],
            "text/plain": [
              "     Amount  Frequency   Recency\n",
              "0  2.317310  -0.746427 -0.727974\n",
              "1 -0.908516   0.256975  1.805920\n",
              "2 -0.888603   1.528614  1.607962\n",
              "3 -0.898559  -0.180150 -0.158912\n",
              "4  1.202210  -0.706688 -0.671982"
            ]
          },
          "metadata": {
            "tags": []
          },
          "execution_count": 27
        }
      ]
    },
    {
      "cell_type": "markdown",
      "metadata": {
        "id": "wscOAhfQXDfH"
      },
      "source": [
        "##**K-MEANS CLUSTERING**"
      ]
    },
    {
      "cell_type": "code",
      "metadata": {
        "colab": {
          "base_uri": "https://localhost:8080/",
          "height": 204
        },
        "id": "KOioSjmTXX8W",
        "outputId": "b9f00cfe-4674-4347-bbff-af1a93337916"
      },
      "source": [
        "# k-means with some arbitrary k\n",
        "from sklearn.cluster import KMeans\n",
        "kmeans = KMeans(n_clusters=4, max_iter=50)\n",
        "kmeans.fit(rfm_df_scaled)\n",
        "# assign the label\n",
        "rfm['Cluster_Id'] = kmeans.labels_\n",
        "rfm.head()"
      ],
      "execution_count": null,
      "outputs": [
        {
          "output_type": "execute_result",
          "data": {
            "text/html": [
              "<div>\n",
              "<style scoped>\n",
              "    .dataframe tbody tr th:only-of-type {\n",
              "        vertical-align: middle;\n",
              "    }\n",
              "\n",
              "    .dataframe tbody tr th {\n",
              "        vertical-align: top;\n",
              "    }\n",
              "\n",
              "    .dataframe thead th {\n",
              "        text-align: right;\n",
              "    }\n",
              "</style>\n",
              "<table border=\"1\" class=\"dataframe\">\n",
              "  <thead>\n",
              "    <tr style=\"text-align: right;\">\n",
              "      <th></th>\n",
              "      <th>CustomerID</th>\n",
              "      <th>Recency</th>\n",
              "      <th>Frequency</th>\n",
              "      <th>Amount</th>\n",
              "      <th>Cluster_Id</th>\n",
              "    </tr>\n",
              "  </thead>\n",
              "  <tbody>\n",
              "    <tr>\n",
              "      <th>0</th>\n",
              "      <td>12346.0</td>\n",
              "      <td>325</td>\n",
              "      <td>2</td>\n",
              "      <td>0.00</td>\n",
              "      <td>0</td>\n",
              "    </tr>\n",
              "    <tr>\n",
              "      <th>1</th>\n",
              "      <td>12747.0</td>\n",
              "      <td>1</td>\n",
              "      <td>103</td>\n",
              "      <td>4196.01</td>\n",
              "      <td>1</td>\n",
              "    </tr>\n",
              "    <tr>\n",
              "      <th>3</th>\n",
              "      <td>12749.0</td>\n",
              "      <td>3</td>\n",
              "      <td>231</td>\n",
              "      <td>3868.20</td>\n",
              "      <td>1</td>\n",
              "    </tr>\n",
              "    <tr>\n",
              "      <th>4</th>\n",
              "      <td>12820.0</td>\n",
              "      <td>2</td>\n",
              "      <td>59</td>\n",
              "      <td>942.34</td>\n",
              "      <td>3</td>\n",
              "    </tr>\n",
              "    <tr>\n",
              "      <th>5</th>\n",
              "      <td>12821.0</td>\n",
              "      <td>213</td>\n",
              "      <td>6</td>\n",
              "      <td>92.72</td>\n",
              "      <td>0</td>\n",
              "    </tr>\n",
              "  </tbody>\n",
              "</table>\n",
              "</div>"
            ],
            "text/plain": [
              "   CustomerID  Recency  Frequency   Amount  Cluster_Id\n",
              "0     12346.0      325          2     0.00           0\n",
              "1     12747.0        1        103  4196.01           1\n",
              "3     12749.0        3        231  3868.20           1\n",
              "4     12820.0        2         59   942.34           3\n",
              "5     12821.0      213          6    92.72           0"
            ]
          },
          "metadata": {
            "tags": []
          },
          "execution_count": 31
        }
      ]
    },
    {
      "cell_type": "code",
      "metadata": {
        "colab": {
          "base_uri": "https://localhost:8080/",
          "height": 542
        },
        "id": "PgtVrY6jXsIp",
        "outputId": "ece694ed-c0dd-40bc-d4ae-c1e3592efadd"
      },
      "source": [
        "### visualize the result\n",
        "import plotly.express as px\n",
        "rfm[\"Cluster_Id\"] = rfm[\"Cluster_Id\"].astype(str) #convert to string\n",
        "fig = px.scatter_3d(rfm, x='Recency', y='Frequency', z='Amount',\n",
        "              color='Cluster_Id')\n",
        "fig.show()"
      ],
      "execution_count": null,
      "outputs": [
        {
          "output_type": "display_data",
          "data": {
            "text/html": [
              "<html>\n",
              "<head><meta charset=\"utf-8\" /></head>\n",
              "<body>\n",
              "    <div>\n",
              "            <script src=\"https://cdnjs.cloudflare.com/ajax/libs/mathjax/2.7.5/MathJax.js?config=TeX-AMS-MML_SVG\"></script><script type=\"text/javascript\">if (window.MathJax) {MathJax.Hub.Config({SVG: {font: \"STIX-Web\"}});}</script>\n",
              "                <script type=\"text/javascript\">window.PlotlyConfig = {MathJaxConfig: 'local'};</script>\n",
              "        <script src=\"https://cdn.plot.ly/plotly-latest.min.js\"></script>    \n",
              "            <div id=\"1b339016-627e-4a4d-aad0-dca3408b6301\" class=\"plotly-graph-div\" style=\"height:525px; width:100%;\"></div>\n",
              "            <script type=\"text/javascript\">\n",
              "                \n",
              "                    window.PLOTLYENV=window.PLOTLYENV || {};\n",
              "                    \n",
              "                if (document.getElementById(\"1b339016-627e-4a4d-aad0-dca3408b6301\")) {\n",
              "                    Plotly.newPlot(\n",
              "                        '1b339016-627e-4a4d-aad0-dca3408b6301',\n",
              "                        [{\"hoverlabel\": {\"namelength\": 0}, \"hovertemplate\": \"Cluster_Id=0<br>Recency=%{x}<br>Frequency=%{y}<br>Amount=%{z}\", \"legendgroup\": \"Cluster_Id=0\", \"marker\": {\"color\": \"#636efa\", \"symbol\": \"circle\"}, \"mode\": \"markers\", \"name\": \"Cluster_Id=0\", \"scene\": \"scene\", \"showlegend\": true, \"type\": \"scatter3d\", \"x\": [325, 213, 321, 261, 282, 172, 266, 289, 372, 210, 185, 365, 326, 281, 275, 213, 185, 204, 264, 148, 160, 300, 287, 305, 197, 211, 155, 239, 291, 195, 317, 173, 322, 371, 356, 253, 290, 211, 249, 253, 190, 372, 191, 266, 178, 157, 233, 372, 238, 268, 261, 273, 196, 332, 202, 143, 312, 281, 267, 336, 267, 239, 199, 272, 201, 225, 211, 261, 202, 156, 268, 262, 365, 322, 155, 189, 359, 267, 164, 154, 350, 315, 153, 200, 260, 172, 276, 256, 268, 256, 353, 365, 280, 329, 203, 184, 191, 254, 258, 165, 182, 235, 190, 178, 197, 231, 240, 232, 311, 282, 311, 243, 260, 204, 182, 318, 215, 172, 242, 205, 308, 155, 306, 311, 312, 173, 252, 215, 256, 164, 196, 178, 300, 150, 151, 186, 285, 182, 324, 154, 317, 302, 266, 270, 218, 246, 280, 268, 245, 216, 218, 199, 240, 150, 373, 287, 287, 151, 203, 250, 366, 309, 254, 366, 301, 157, 358, 158, 211, 252, 168, 325, 244, 357, 188, 203, 297, 325, 182, 351, 168, 294, 263, 170, 168, 360, 175, 153, 371, 307, 145, 286, 206, 212, 205, 197, 277, 154, 224, 284, 175, 265, 283, 276, 266, 266, 319, 266, 364, 324, 153, 273, 353, 318, 372, 233, 212, 238, 265, 215, 173, 275, 296, 330, 201, 217, 238, 371, 246, 176, 178, 372, 325, 183, 234, 175, 277, 317, 253, 154, 331, 225, 196, 211, 222, 224, 206, 234, 162, 157, 234, 218, 259, 270, 164, 156, 214, 365, 319, 294, 357, 184, 190, 296, 217, 310, 361, 217, 298, 305, 180, 189, 310, 246, 256, 253, 164, 149, 206, 174, 311, 300, 187, 235, 259, 185, 150, 310, 151, 280, 371, 168, 226, 371, 305, 274, 242, 238, 203, 184, 184, 311, 262, 265, 169, 156, 200, 168, 241, 279, 234, 371, 187, 208, 263, 217, 213, 198, 273, 373, 190, 247, 293, 263, 231, 280, 319, 165, 161, 369, 196, 199, 366, 179, 196, 267, 148, 311, 185, 261, 209, 252, 206, 335, 253, 204, 153, 212, 245, 252, 270, 246, 245, 197, 211, 169, 158, 172, 266, 255, 169, 198, 151, 269, 273, 318, 274, 212, 178, 372, 172, 212, 256, 281, 307, 214, 181, 329, 166, 310, 240, 245, 169, 232, 239, 225, 164, 218, 356, 372, 320, 324, 322, 259, 366, 153, 356, 224, 238, 318, 175, 365, 318, 225, 357, 233, 310, 238, 276, 217, 298, 237, 148, 280, 168, 323, 337, 354, 171, 200, 289, 270, 198, 326, 283, 333, 207, 156, 332, 365, 157, 372, 254, 361, 240, 143, 213, 169, 185, 171, 325, 289, 188, 263, 170, 312, 322, 253, 261, 248, 263, 330, 312, 361, 282, 261, 353, 337, 160, 362, 171, 188, 330, 155, 232, 253, 172, 162, 287, 216, 277, 351, 177, 150, 161, 176, 252, 288, 336, 182, 300, 178, 157, 203, 335, 232, 189, 316, 217, 296, 251, 266, 171, 264, 200, 283, 233, 364, 200, 197, 211, 282, 304, 217, 244, 240, 183, 357, 142, 305, 207, 319, 336, 171, 253, 303, 186, 276, 368, 311, 198, 156, 226, 252, 149, 193, 368, 173, 177, 247, 190, 153, 172, 371, 372, 193, 238, 310, 276, 364, 303, 235, 164, 210, 245, 259, 309, 195, 269, 173, 220, 268, 259, 364, 287, 291, 283, 298, 154, 263, 239, 248, 218, 182, 170, 205, 189, 315, 366, 262, 367, 249, 246, 156, 295, 268, 281, 251, 224, 236, 360, 170, 266, 234, 317, 202, 218, 189, 211, 169, 260, 365, 257, 176, 360, 352, 372, 196, 176, 339, 169, 212, 213, 330, 217, 195, 156, 283, 157, 290, 332, 197, 266, 246, 322, 269, 264, 301, 301, 190, 301, 262, 212, 197, 190, 149, 217, 177, 274, 164, 191, 173, 296, 160, 359, 296, 371, 276, 185, 171, 189, 164, 290, 242, 363, 193, 364, 154, 373, 248, 231, 276, 218, 185, 182, 235, 253, 245, 273, 222, 245, 177, 169, 367, 188, 361, 365, 255, 240, 226, 218, 266, 368, 261, 301, 363, 297, 171, 372, 371, 214, 318, 184, 293, 272, 259, 364, 281, 364, 162, 173, 191, 360, 226, 156, 183, 227, 196, 186, 333, 365, 186, 194, 366, 298, 289, 276, 370, 211, 235, 184, 238, 186, 226, 188, 266, 254, 218, 371, 287, 149, 184, 245, 156, 193, 265, 313, 317, 261, 158, 164, 287, 317, 232, 161, 184, 334, 275, 246, 238, 194, 283, 288, 217, 201, 177, 226, 273, 168, 252, 233, 309, 308, 263, 182, 312, 204, 362, 207, 227, 240, 307, 360, 364, 279, 300, 354, 178, 311, 302, 238, 237, 218, 189, 163, 306, 218, 329, 162, 184, 312, 246, 147, 176, 144, 191, 203, 364, 157, 190, 260, 247, 358, 289, 220, 160, 261, 308, 360, 359, 279, 176, 269, 371, 217, 196, 358, 205, 331, 242, 190, 252, 235, 213, 238, 216, 173, 311, 169, 275, 372, 218, 276, 227, 263, 357, 235, 260, 252, 168, 184, 187, 169, 320, 200, 231, 372, 234, 177, 358, 262, 158, 198, 254, 158, 280, 179, 190, 302, 217, 184, 372, 304, 368, 323, 204, 184, 169, 173, 364, 303, 211, 322, 161, 224, 172, 158, 164, 246, 373, 309, 281, 372, 159, 232, 146, 198, 248, 170, 371, 373, 165, 210, 241, 371, 364, 165, 184, 236, 224, 281, 361, 234, 256, 372, 154, 152, 333, 153, 202, 358, 287, 172, 288, 257, 154, 373, 216, 329, 273, 311, 329, 248, 368, 289, 367, 213, 242, 210, 294, 360, 150, 300, 176, 175, 353, 217, 248, 191, 261, 150, 199, 156, 325, 236, 205, 219, 263, 217, 191, 325, 218, 300, 354, 357, 277, 180], \"y\": [2, 6, 12, 9, 18, 12, 27, 20, 3, 46, 107, 2, 66, 4, 7, 7, 3, 4, 10, 22, 28, 1, 23, 19, 8, 22, 9, 34, 92, 28, 7, 29, 15, 3, 11, 14, 33, 18, 8, 15, 11, 14, 9, 7, 6, 29, 8, 10, 1, 53, 3, 7, 1, 3, 75, 1, 8, 42, 1, 37, 5, 66, 5, 16, 9, 10, 59, 22, 58, 36, 9, 11, 1, 14, 42, 54, 11, 5, 22, 1, 21, 17, 24, 54, 42, 22, 22, 90, 29, 29, 19, 44, 15, 35, 1, 21, 26, 54, 2, 17, 10, 64, 86, 61, 16, 11, 8, 23, 18, 20, 29, 12, 15, 22, 76, 4, 14, 44, 27, 33, 10, 53, 24, 19, 24, 13, 19, 66, 23, 49, 108, 13, 16, 25, 16, 3, 31, 8, 4, 14, 1, 20, 48, 51, 13, 10, 108, 21, 12, 6, 38, 30, 23, 26, 1, 9, 35, 12, 14, 17, 7, 33, 17, 7, 36, 12, 1, 29, 19, 1, 17, 28, 22, 18, 28, 19, 21, 12, 43, 7, 10, 16, 31, 27, 9, 3, 39, 33, 5, 35, 2, 11, 10, 16, 16, 44, 11, 22, 28, 38, 28, 21, 14, 88, 8, 7, 24, 156, 29, 1, 21, 15, 1, 67, 22, 3, 40, 52, 6, 108, 25, 25, 32, 3, 8, 2, 21, 5, 21, 41, 54, 9, 8, 10, 16, 112, 20, 8, 54, 19, 29, 10, 8, 17, 27, 27, 42, 9, 12, 34, 18, 6, 18, 21, 1, 47, 6, 11, 8, 4, 4, 75, 11, 7, 5, 14, 23, 3, 22, 9, 40, 22, 4, 130, 19, 18, 30, 10, 30, 17, 19, 31, 23, 64, 19, 5, 4, 56, 58, 29, 1, 101, 27, 3, 25, 2, 3, 22, 30, 21, 57, 5, 8, 20, 34, 30, 30, 80, 170, 132, 61, 1, 2, 13, 8, 22, 8, 1, 10, 71, 93, 19, 7, 21, 52, 41, 6, 6, 44, 30, 4, 63, 2, 70, 17, 4, 13, 22, 37, 13, 28, 18, 20, 10, 7, 43, 18, 57, 10, 12, 5, 13, 8, 87, 40, 75, 12, 20, 70, 55, 67, 5, 13, 22, 3, 30, 25, 5, 70, 1, 49, 48, 5, 15, 23, 26, 5, 6, 71, 20, 31, 14, 22, 10, 13, 14, 95, 29, 4, 27, 41, 7, 11, 3, 6, 29, 9, 20, 7, 25, 9, 11, 5, 32, 16, 23, 8, 23, 14, 143, 15, 33, 6, 8, 34, 10, 6, 21, 16, 25, 31, 21, 24, 1, 16, 29, 16, 99, 17, 5, 72, 5, 63, 7, 17, 1, 8, 43, 31, 1, 7, 6, 8, 34, 10, 48, 6, 17, 45, 2, 5, 9, 28, 25, 60, 58, 58, 157, 88, 70, 46, 92, 1, 7, 27, 26, 78, 24, 28, 17, 14, 1, 168, 39, 13, 31, 30, 1, 13, 18, 2, 36, 36, 28, 2, 37, 56, 5, 1, 12, 2, 22, 89, 5, 6, 6, 7, 41, 12, 6, 14, 10, 1, 7, 7, 22, 29, 25, 3, 210, 40, 17, 17, 20, 54, 8, 22, 15, 106, 32, 24, 93, 62, 41, 11, 24, 4, 7, 19, 12, 40, 60, 25, 12, 21, 12, 12, 2, 6, 2, 11, 6, 98, 8, 86, 76, 29, 22, 39, 10, 8, 1, 23, 74, 23, 2, 1, 38, 18, 12, 10, 13, 18, 30, 8, 35, 30, 16, 13, 21, 1, 37, 1, 29, 1, 29, 14, 2, 7, 19, 18, 44, 37, 19, 137, 8, 7, 35, 91, 16, 24, 21, 14, 2, 3, 54, 67, 33, 6, 11, 8, 23, 44, 14, 3, 1, 11, 20, 2, 9, 8, 32, 5, 23, 4, 45, 60, 15, 5, 6, 21, 9, 83, 20, 43, 11, 9, 33, 13, 19, 19, 26, 50, 16, 22, 13, 13, 17, 157, 15, 30, 3, 31, 17, 3, 35, 1, 11, 14, 8, 13, 11, 6, 11, 26, 5, 16, 5, 23, 9, 27, 62, 14, 8, 2, 9, 3, 3, 21, 5, 94, 3, 45, 37, 152, 46, 1, 16, 9, 2, 13, 7, 24, 1, 34, 40, 19, 12, 66, 121, 98, 16, 15, 38, 11, 12, 24, 26, 8, 19, 13, 38, 135, 45, 44, 8, 9, 14, 33, 21, 26, 16, 7, 26, 21, 2, 87, 1, 1, 12, 6, 4, 32, 22, 43, 5, 71, 15, 1, 90, 12, 9, 10, 18, 9, 32, 14, 24, 20, 15, 16, 10, 16, 4, 15, 80, 10, 29, 67, 4, 9, 49, 21, 73, 14, 16, 9, 39, 23, 69, 15, 1, 53, 1, 6, 12, 17, 9, 19, 59, 35, 34, 28, 71, 3, 62, 4, 116, 2, 13, 43, 19, 8, 9, 1, 61, 8, 17, 9, 181, 24, 12, 10, 40, 18, 52, 88, 11, 6, 9, 13, 3, 25, 2, 17, 42, 43, 6, 29, 8, 6, 45, 29, 55, 9, 63, 3, 77, 26, 7, 8, 54, 22, 11, 16, 19, 19, 8, 24, 31, 5, 35, 7, 10, 1, 6, 18, 8, 35, 1, 1, 57, 38, 3, 12, 14, 46, 5, 37, 26, 15, 17, 25, 58, 11, 10, 47, 12, 6, 26, 8, 21, 94, 34, 16, 115, 32, 11, 12, 58, 40, 1, 1, 12, 20, 1, 19, 1, 26, 48, 85, 14, 31, 31, 65, 12, 30, 13, 29, 5, 2, 40, 33, 14, 28, 31, 22, 5, 19, 7, 5, 19, 27, 1, 25, 36, 13, 29, 29, 7, 21, 39, 19, 1, 28, 30, 17, 14, 2, 8, 1, 18, 23, 10, 140, 33, 44, 17, 16, 7, 18, 68, 19, 43, 15, 24, 4, 10, 5, 126, 1, 88, 22, 4, 8, 10, 7], \"z\": [0.0, 92.72, 253.05, 215.05, 312.38, 134.1, 354.09000000000003, 299.75, 38.1, 1106.4000000000003, 1607.0600000000009, -14.899999999999999, 599.9699999999998, 374.0, 298.0, 313.77, 331.0, 216.5, 138.68, 363.65, 405.38, -3.75, 462.95000000000005, 108.07, 144.8, 738.6, 39.24, 377.2, 535.32, 455.8799999999999, 120.94999999999999, 468.95000000000005, 178.47, 50.550000000000004, 190.54999999999998, 471.57000000000005, 560.4700000000001, 348.15000000000003, 183.4, 307.53000000000003, 346.98, 205.85999999999999, 228.8, 177.14999999999998, 58.08, 272.38, 101.18999999999998, 350.05999999999995, 30.599999999999998, 254.7299999999999, 77.3, 109.80000000000001, 3096.0, 110.94999999999999, 1250.3700000000003, -611.86, 112.75, 414.69999999999993, 71.4, 236.01999999999995, 333.74, 847.4100000000001, 163.20000000000002, 108.21000000000001, 257.7, 160.95, 101.16999999999973, 329.56, 600.07, 1030.3999999999999, 944.1, 200.29000000000002, 590.0, 196.15, 361.10999999999996, 873.7399999999998, 197.95, 142.5, 365.2900000000001, 63.75, 300.4199999999999, 1308.48, 431.82, 860.1200000000002, 775.8499999999999, 303.93, 377.6000000000001, 609.9500000000002, 439.03000000000003, 623.4, 263.75000000000006, 721.3200000000003, 222.99, 534.5700000000002, 59.8, 307.72, 457.3400000000001, 283.71, 590.0, 356.98, 143.25, 229.58999999999997, 1431.7800000000009, 1092.7699999999998, 291.0, 184.64, 313.79999999999995, 454.24, 316.26, 321.04999999999995, 452.82000000000005, 110.97, 251.20999999999998, 483.8000000000001, 270.79000000000013, 91.80000000000001, 141.86, 192.85000000000005, 239.49000000000004, 1384.25, 117.99999999999999, 781.0300000000002, 142.40000000000003, 219.51999999999998, 399.9900000000001, 177.34000000000003, 257.22999999999996, 354.7999999999999, 346.6000000000001, 379.65000000000003, 1550.8500000000008, 189.47, -71.45999999999998, 486.82000000000005, 232.60000000000005, 59.5, 64.23000000000002, 72.0, -32.0, 308.58, 99.5, 330.78999999999996, 806.4100000000004, 296.87999999999994, 252.06000000000003, 228.83999999999997, 1053.9399999999996, 138.28, 306.55, 199.85000000000002, 610.5899999999999, 339.59999999999997, 350.75, 291.53999999999996, 79.6, 296.24999999999994, 741.26, 282.6, 4.263256414560601e-14, 127.84000000000002, 230.4, 558.3199999999997, 277.07000000000005, 112.6, 1140.35, 174.65, -102.0, 384.7999999999999, 271.24000000000007, 85.0, 363.4, 201.16, 299.56, 540.45, 506.8000000000001, 349.54999999999995, 821.1, 155.93, 740.9499999999997, 172.24999999999997, 802.8499999999999, 307.4, 922.0999999999997, 361.28, 158.85, 101.99999999999999, 674.4499999999998, 322.96, -102.45, 664.54, 80.7, 264.7, 357.9800000000001, 311.3, 633.71, 685.9299999999998, 328.8, 631.9000000000001, 440.0, 626.6499999999999, 147.20000000000005, 141.41, 154.98999999999998, 375.1299999999999, 183.59999999999997, 152.55, 265.85, 904.67, 182.24999999999997, 76.32000000000001, 216.20999999999998, 386.53, -19.9, 483.85999999999996, 311.81000000000006, 157.2, 259.43000000000006, 1345.6200000000003, 118.75, 1110.52, 289.36000000000007, 122.53999999999999, 574.0, 197.65, 962.6999999999998, 185.39999999999998, 308.25999999999993, -1192.2000000000003, 632.4, 683.17, 822.0600000000001, 161.00000000000003, 146.85, 213.70000000000002, 280.55, 1677.4799999999998, 136.77, 302.58, 935.06, 319.4700000000001, 492.6499999999999, 112.32000000000002, 134.04, 413.85, 197.1, 229.71000000000004, 343.11, 166.85, 311.65000000000003, 554.2199999999999, 289.91, 134.7, 409.57, 258.7, 51.0, 1078.96, 90.6, 174.4, 155.00000000000003, 100.5, 76.55, 257.67999999999995, 617.05, 142.4, 67.94999999999999, 1063.0, 122.7, 265.2, 397.76, 131.9, 483.25, 119.93000000000002, 113.64, 1058.6200000000008, 215.7, 316.24999999999994, 636.5100000000001, 129.20000000000002, 463.38000000000005, 340.93, 538.8100000000001, 457.4699999999999, 275.28, 932.8499999999997, 171.8, 103.25000000000001, 652.8, 289.2399999999999, 165.07000000000005, 218.05999999999992, 35.400000000000006, 1029.2599999999995, 134.15999999999997, 39.75, 393.3299999999999, 660.0, 406.08000000000004, 379.50999999999993, 393.28000000000003, 320.58, 848.48, -21.849999999999998, 114.55999999999999, 344.9000000000001, 668.6100000000001, 597.09, 243.21999999999994, 291.04999999999984, 1269.9900000000002, 411.5300000000001, 765.55, -2.55, 52.0, 112.80000000000001, 172.9, 188.60999999999996, 109.12999999999998, 179.0, 268.58, 313.48999999999995, 1423.2099999999991, 294.3, 53.8, 300.52, 876.4199999999997, 386.1499999999999, 200.10000000000002, 131.45, 845.5500000000002, 155.42999999999998, 271.85, 1110.3399999999997, 48.800000000000004, 321.4299999999999, 2139.76, 62.85, 309.4, 278.15000000000003, 701.3300000000002, 327.24999999999994, 519.68, 364.80000000000007, 369.2, 135.9, 125.65, 468.77, 599.9000000000001, 977.77, 310.05, 58.49000000000001, 126.70000000000002, 206.21, 102.11999999999998, 296.7499999999999, 334.54, 429.8699999999999, 156.91000000000003, 170.04, 265.9999999999999, 4464.0999999999985, 180.35000000000002, 135.93, 633.66, 343.62, 121.17000000000002, 215.78, 1489.5, 370.79999999999995, 1109.5300000000007, 106.2, 880.8500000000004, 893.66, 88.19999999999999, 306.94, 381.32000000000005, 457.80999999999995, 649.5, 635.1, 1002.54, 247.65999999999997, 463.75, 266.4, 330.11, 127.14999999999998, 178.96000000000006, 259.45, 1313.6600000000008, 608.65, 158.16000000000003, 487.75, 162.99999999999997, 1034.5, 135.75, 40.5, 87.5, 622.8499999999999, 316.58000000000004, 331.18, 88.94999999999997, 325.04999999999995, 305.75, 114.10000000000001, 585.0, 454.9000000000001, 310.47999999999996, 409.4000000000001, 154.41, 429.6, 197.0, 2247.5099999999998, 321.05, 514.1500000000001, 98.45, 232.14999999999998, 623.1600000000001, 178.95000000000002, 119.30000000000001, 277.40999999999997, 113.12, 180.93999999999997, 574.02, 302.27000000000004, 327.97, 165.0, 204.5, 311.71, 1028.56, 351.6699999999999, 252.42000000000004, 201.59999999999997, 473.80999999999983, 115.65, 777.02, 418.9200000000001, 318.05, -1592.49, 596.85, 635.76, 394.14000000000004, 500.0, 107.45000000000002, 94.0, 349.1, 267.17999999999995, 190.53000000000003, 572.8099999999998, 97.7, 383.34, 200.16000000000003, 594.0, 113.5, 155.17, 494.64000000000004, 179.10000000000002, 447.2200000000001, 237.07000000000002, 216.76, 1048.8500000000006, 233.81000000000006, 147.09000000000003, 492.35999999999996, 1000.2700000000002, 250.0, 121.0, 267.03000000000003, 229.32999999999993, 459.8999999999997, 110.92000000000003, 127.85999999999999, 90.12, 217.2, 134.55, 702.2500000000001, 258.8799999999998, 127.1, 455.30000000000007, 456.58, -30.19, 104.76, 270.03000000000003, -94.0, 647.4000000000003, 425.13999999999993, 599.9, 816.0, 511.31999999999994, 958.8999999999997, 309.8, 76.32000000000001, 173.05, 136.8, 409.9800000000001, 664.0299999999996, 211.5, 143.10000000000002, 133.25, 150.3, 203.1, 212.3, 62.0, 294.11999999999995, 162.3, 79.2, 253.04000000000002, 104.9, 1021.6100000000001, 475.28000000000003, 351.3, -451.42, 3724.7700000000013, 1303.9099999999999, 206.98000000000002, -840.7600000000001, 532.94, 836.7899999999998, 118.95, 160.71, 149.64, 313.28, 438.24, 495.3599999999999, 446.8699999999998, 524.52, 263.54999999999995, 179.17, 222.05, 56.25, 191.93999999999997, 264.62, 123.10000000000001, 334.23, 167.49999999999997, 336.03000000000003, 363.6000000000001, 127.08000000000003, 207.15, 416.8600000000001, 31.799999999999997, 325.1, 181.0, 314.1, 99.77, 430.93999999999977, 101.39999999999999, 407.49999999999994, 628.2800000000001, 331.24000000000007, 437.69999999999993, 855.0200000000001, 137.9, 134.8, -29.95, 335.32000000000005, 372.0900000000001, 584.3199999999999, 94.35, 79.2, 436.17999999999995, 315.06000000000006, 320.62, 185.05, 336.96, 611.88, 161.38000000000002, 135.75000000000003, 592.8800000000001, 232.21, 187.15000000000003, 289.35, 517.5499999999998, -7.95, 535.3400000000001, 175.2, 734.1299999999999, 76.32000000000001, 1829.04, 348.2000000000001, 37.4, 441.6000000000001, 314.45, 365.27000000000004, 1062.7499999999998, 914.9300000000002, 259.39000000000004, 846.7200000000007, 255.11999999999998, 308.32000000000005, 542.03, 1522.7499999999998, 114.56, 389.44000000000005, -295.09000000000003, 732.6300000000002, 46.95, -31.65, 1141.2399999999996, 357.94999999999993, 559.8699999999999, 810.6000000000001, 168.3, 142.5, 275.4000000000001, 602.2700000000001, 226.37, 404.40000000000003, 207.50000000000003, 214.80000000000004, 109.95000000000002, 101.10000000000001, 53.5, 153.9, 210.31999999999996, 676.2, 362.95000000000005, 94.36, 221.19000000000005, 299.59999999999997, 161.04999999999998, 167.25, 82.56, 302.69999999999993, 241.06, 642.81, 188.89, 674.6899999999999, 311.92, 208.36, 151.42, 223.95, 314.86, 139.35000000000002, 379.4000000000001, 826.5299999999999, 86.12, 319.1, 363.7, 248.10000000000002, 162.70000000000005, 1036.6200000000003, 290.35999999999996, 455.25, 339.3, -95.92999999999981, 379.72999999999996, 173.7, 865.5999999999999, -30.599999999999998, 70.44, 233.45000000000002, 463.95, 225.14999999999995, 140.70000000000002, 75.66, 120.99, 506.18999999999994, 151.85000000000002, 204.41, 129.45, 333.08000000000004, 217.9, 487.51, 833.7799999999996, 214.06, 123.24, 39.12, 135.4, 129.75, 1276.0, 112.75000000000001, 1998.0, 911.5299999999993, 319.8000000000001, 623.7500000000002, 292.46999999999997, 775.0700000000003, 272.81999999999994, 3.75, 312.55000000000007, 207.5, 2002.4, 239.4, 106.83, 594.9000000000001, 34.0, 1145.6, 380.3899999999999, 294.65, 110.38000000000001, 414.88000000000005, 867.8300000000002, 460.58999999999986, 275.64, 479.3500000000001, 358.37999999999994, 197.22, 199.15000000000003, 413.46000000000004, 582.9000000000001, 124.57, 332.40999999999997, 345.8900000000001, 276.72999999999996, 1578.6700000000005, 145.93000000000004, 213.03000000000014, 113.44000000000001, 391.5200000000001, 230.25000000000003, 816.7299999999999, 406.48000000000013, 493.67, 416.64, 110.55000000000001, 201.19, 319.0199999999999, 251.51999999999998, 1078.9600000000005, 179.0, -1.25, 702.0, 287.02, 154.82999999999998, 388.33000000000004, 642.0199999999999, 247.14, 234.24, 534.4699999999999, 270.19999999999993, 25.5, 665.7800000000004, 163.29999999999998, 116.19999999999997, 157.02, 307.46, 345.29999999999995, 298.89000000000004, 157.09, 380.5, 465.32, 579.0, 1503.5, 158.68, 224.90999999999997, 59.9, 306.13, 711.79, 203.95, 262.62, 1352.9100000000003, 226.85, 113.5, 426.78999999999985, 393.48999999999995, 3466.6700000000005, 149.89, 379.95000000000005, 171.45, 283.28, 63.440000000000005, 1065.3500000000001, 246.04000000000008, 550.8000000000001, 250.03999999999994, -152.64000000000001, 96.8, 306.6, 193.63999999999996, 110.75, 178.21999999999997, 365.84999999999985, 312.22999999999996, 168.4, 495.7699999999999, 372.49999999999983, 508.8, 457.91, 203.86999999999995, 1928.72, 32.65, 771.8499999999999, 403.30000000000007, 378.30000000000007, 177.09999999999997, 120.9, -4287.63, 517.5300000000002, 131.7, 249.85999999999999, 289.96000000000004, 710.2900000000002, 396.87000000000006, 374.57, 271.04999999999995, 622.88, 288.59999999999997, 1145.84, 605.5799999999999, 153.94, 145.0, 422.70000000000005, 164.39999999999998, 76.5, 170.75, -11.8, -141.48000000000002, 267.16000000000014, 306.84, 157.9, 344.13999999999993, 185.64999999999998, 124.73999999999998, 215.72000000000003, 175.27, 2044.3700000000003, 116.01, 309.36, 571.2, 218.52000000000004, 503.59999999999985, 108.5, 101.55000000000001, 995.6599999999997, 117.54999999999998, 205.7, 298.10999999999996, 290.40000000000003, 338.95000000000005, 154.95000000000002, 417.95000000000005, 885.1899999999998, 152.39999999999998, 267.08000000000004, 137.45, 153.0, 326.4, 139.35, 303.97, 98.80000000000001, 674.5199999999999, 80.64, 15.0, 371.87999999999994, 1143.2699999999995, 56.4, 188.01999999999998, 225.9, 350.3899999999999, -24.049999999999997, 205.48000000000002, 605.8, 311.26, 208.96999999999997, 148.21, 252.79999999999998, 330.9, 155.89999999999998, 658.2600000000002, 237.61, 178.51999999999998, 458.91999999999985, 133.35000000000002, 203.87, 602.0900000000005, 203.85999999999993, 112.25000000000004, 541.0999999999999, 155.79999999999998, 14.999999999999993, 72.9, 243.2799999999999, 295.61000000000007, 207.50000000000003, 244.08, 99.14000000000003, 149.58, 358.56000000000006, 557.3, 12.75, 73.78, 123.07000000000002, 277.34999999999997, 228.2, 582.5899999999999, 136.04, 353.18999999999994, 300.91999999999996, 811.4499999999999, 198.57, 630.84, 93.35, 76.1, 169.46999999999997, 252.24000000000004, 174.79999999999998, 102.79, 187.29000000000005, 236.78000000000003, 73.5, 70.02, 172.29000000000002, 74.4, 363.65, 720.5200000000001, 101.69999999999999, 453.0, -5.5067062021407764e-14, 489.6, 336.13, 689.95, 101.33999999999999, 580.05, 430.6999999999999, 264.65, 76.32000000000001, 220.1, 181.11999999999998, 111.14999999999999, 112.55, 715.4999999999999, 152.65, -35.400000000000006, 1014.8999999999999, 530.1500000000002, 302.46000000000004, 1133.64, 448.65, 600.5200000000001, 304.25, 274.51, 207.79999999999998, 212.96000000000004, 1396.9900000000007, 160.42000000000002, 248.41999999999993, 232.48000000000002, 626.38, 297.78000000000003, 158.95000000000002, 93.75, 2066.170000000001, 440.0, 1561.6099999999997, 342.92, -50.1, 138.89999999999998, 180.6, 80.82]}, {\"hoverlabel\": {\"namelength\": 0}, \"hovertemplate\": \"Cluster_Id=2<br>Recency=%{x}<br>Frequency=%{y}<br>Amount=%{z}\", \"legendgroup\": \"Cluster_Id=2\", \"marker\": {\"color\": \"#EF553B\", \"symbol\": \"circle\"}, \"mode\": \"markers\", \"name\": \"Cluster_Id=2\", \"scene\": \"scene\", \"showlegend\": true, \"type\": \"scatter3d\", \"x\": [1, 3, 37, 58, 143, 65, 7, 3, 11, 39, 22, 4, 138, 34, 1, 14, 15, 30, 0, 3, 7, 155, 2, 0, 2, 52, 3, 113, 31, 13, 125, 30, 8, 89, 4, 72, 49, 15, 84, 8, 35, 15, 7, 14, 10, 9, 58, 59, 2, 12, 17, 52, 10, 2, 22, 3, 6, 36, 63, 31, 38, 81, 67, 2, 8, 60, 20, 30, 1, 39, 50, 0, 4, 13, 16, 0, 45, 2, 0, 59, 0, 32, 33, 0, 65, 73, 5, 40, 12, 15, 10, 107, 5, 11, 23, 4, 24, 32, 8, 16, 42, 9, 0, 2, 30, 25, 4, 119, 49, 24, 4, 16, 3, 1, 11, 70, 1, 63, 33, 137, 30, 15, 5, 58, 95, 17, 6, 122, 1, 53, 20, 0, 0, 20, 71, 79, 56, 1, 21, 2, 210, 6, 4, 8, 30, 38, 29, 19, 31, 3, 9, 42, 9, 17, 1, 40, 26, 3, 3, 7, 15, 73, 51, 3, 22, 3, 10, 1, 1, 8, 50, 8, 40, 10, 10, 90, 52, 11, 1, 41, 28, 25, 31, 21, 9, 42, 8, 6, 1, 50, 7, 2, 10, 1, 7, 7, 70, 88, 7, 20, 10, 16, 44, 31, 108, 32, 8, 0, 3, 10, 15, 3, 10, 0, 18, 6, 9, 0, 18, 147, 63, 28, 103, 17, 26, 6, 42, 25, 2, 16, 17, 31, 59, 25, 58, 3, 23, 9, 6, 95, 2, 179, 5, 18, 14, 34, 19, 0, 8, 3, 51, 15, 4, 0, 8, 28, 25, 3, 1, 31, 10, 10, 14, 9, 8, 1, 9, 7, 1, 4, 7, 50, 39, 40, 3, 89, 52, 34, 63, 57, 77, 2, 12, 20, 2, 29, 9, 34, 71, 115, 146, 11, 9, 8, 22, 24, 40, 37, 9, 17, 17, 9, 29, 6, 49, 51, 3, 8, 17, 1, 2, 25, 1, 10, 51, 65, 66, 133, 6, 58, 42, 25, 43, 1, 66, 48, 11, 25, 56, 40, 7, 168, 9, 33, 83, 64, 18, 32, 11, 8, 1, 19, 15, 0, 29, 94, 32, 20, 52, 22, 11, 11, 63, 35, 1, 18, 21, 7, 24, 8, 76, 8, 4, 120, 15, 56, 2, 4, 15, 104, 165, 167, 18, 87, 72, 8, 8, 0, 32, 1, 139, 34, 40, 35, 18, 2, 0, 60, 80, 9, 29, 25, 0, 0, 16, 48, 72, 69, 17, 3, 15, 40, 7, 62, 9, 19, 3, 0, 15, 3, 89, 1, 14, 23, 16, 38, 24, 21, 2, 11, 29, 11, 47, 7, 3, 2, 1, 39, 3, 65, 2, 55, 22, 17, 44, 9, 56, 28, 17, 51, 2, 8, 38, 8, 10, 50, 71, 22, 2, 3, 2, 29, 44, 7, 7, 31, 16, 44, 2, 20, 5, 8, 25, 63, 5, 27, 24, 31, 3, 0, 17, 81, 3, 1, 59, 0, 12, 35, 1, 28, 7, 1, 63, 98, 2, 19, 33, 23, 51, 6, 63, 49, 21, 51, 17, 18, 108, 162, 66, 8, 3, 17, 30, 0, 29, 16, 53, 17, 9, 23, 16, 2, 8, 84, 8, 14, 16, 25, 45, 78, 28, 10, 113, 32, 9, 9, 28, 0, 10, 22, 10, 30, 36, 21, 63, 11, 30, 1, 7, 4, 28, 22, 155, 79, 8, 51, 12, 21, 3, 12, 16, 2, 0, 28, 10, 78, 31, 95, 73, 27, 8, 17, 32, 34, 122, 6, 27, 2, 49, 151, 4, 15, 30, 28, 32, 4, 7, 10, 27, 35, 26, 39, 3, 15, 41, 59, 8, 7, 24, 14, 156, 14, 22, 40, 38, 125, 4, 10, 15, 1, 28, 1, 0, 15, 15, 0, 0, 205, 28, 0, 0, 0, 7, 6, 49, 108, 59, 1, 72, 3, 22, 40, 52, 17, 5, 35, 0, 11, 10, 3, 65, 42, 43, 0, 9, 16, 37, 16, 2, 95, 15, 3, 18, 11, 3, 4, 0, 7, 96, 24, 152, 26, 81, 15, 13, 71, 4, 41, 26, 5, 2, 58, 1, 71, 0, 8, 20, 37, 24, 73, 31, 35, 3, 5, 113, 22, 7, 44, 97, 81, 11, 7, 67, 7, 29, 7, 12, 8, 4, 3, 70, 1, 2, 8, 71, 9, 71, 6, 86, 38, 172, 2], \"y\": [103, 231, 39, 175, 116, 108, 317, 154, 63, 96, 75, 50, 109, 84, 130, 120, 118, 219, 183, 244, 96, 24, 68, 222, 124, 176, 134, 26, 196, 137, 75, 146, 132, 235, 142, 105, 139, 174, 136, 122, 133, 314, 94, 183, 110, 229, 150, 109, 34, 207, 143, 91, 202, 224, 187, 81, 107, 88, 135, 77, 109, 268, 119, 169, 132, 158, 173, 155, 164, 105, 128, 159, 103, 167, 199, 260, 112, 162, 117, 143, 436, 177, 224, 179, 121, 136, 175, 176, 341, 180, 89, 129, 166, 228, 201, 80, 147, 188, 148, 98, 166, 112, 216, 39, 90, 197, 135, 86, 118, 208, 194, 323, 343, 143, 117, 208, 143, 120, 177, 66, 137, 74, 174, 206, 81, 142, 33, 307, 118, 104, 165, 155, 114, 119, 149, 126, 148, 137, 47, 160, 138, 20, 152, 158, 340, 115, 112, 239, 125, 155, 212, 171, 84, 243, 152, 241, 209, 333, 181, 217, 252, 35, 124, 157, 173, 161, 167, 201, 134, 245, 164, 327, 165, 248, 88, 103, 118, 109, 107, 194, 73, 183, 118, 159, 80, 116, 148, 111, 78, 107, 143, 156, 103, 238, 108, 162, 110, 180, 123, 104, 123, 163, 130, 118, 69, 140, 191, 95, 183, 107, 287, 124, 206, 222, 264, 148, 382, 293, 258, 180, 246, 72, 281, 144, 145, 123, 193, 194, 164, 316, 101, 203, 229, 216, 333, 107, 114, 216, 76, 129, 273, 241, 330, 384, 197, 164, 102, 96, 126, 153, 175, 113, 199, 237, 259, 168, 421, 133, 210, 115, 350, 415, 197, 359, 341, 238, 278, 149, 61, 102, 137, 134, 256, 255, 121, 110, 138, 158, 130, 143, 131, 147, 124, 364, 168, 172, 198, 160, 216, 115, 158, 182, 155, 207, 143, 276, 239, 158, 145, 112, 101, 101, 197, 106, 84, 81, 133, 110, 95, 93, 1, 142, 110, 166, 119, 126, 111, 89, 275, 150, 88, 109, 200, 194, 12, 106, 233, 151, 96, 95, 137, 196, 85, 153, 122, 193, 300, 306, 329, 219, 286, 104, 127, 189, 86, 155, 299, 125, 99, 164, 160, 218, 220, 200, 180, 166, 108, 228, 263, 261, 116, 117, 215, 151, 104, 91, 214, 157, 177, 119, 238, 116, 81, 155, 135, 216, 168, 79, 177, 237, 117, 214, 297, 72, 176, 295, 149, 192, 188, 44, 87, 206, 135, 274, 139, 123, 134, 276, 140, 140, 191, 142, 147, 137, 75, 151, 249, 267, 160, 119, 77, 103, 103, 185, 35, 177, 97, 113, 275, 140, 103, 218, 385, 212, 184, 237, 165, 312, 134, 180, 131, 227, 167, 31, 354, 284, 212, 117, 89, 78, 118, 237, 136, 139, 99, 127, 28, 219, 151, 179, 115, 90, 134, 142, 295, 124, 274, 135, 134, 109, 168, 120, 167, 156, 320, 154, 84, 235, 94, 110, 118, 228, 109, 358, 210, 198, 172, 232, 372, 109, 282, 174, 99, 111, 202, 236, 148, 182, 171, 368, 146, 136, 169, 113, 4, 181, 261, 86, 207, 133, 222, 174, 97, 184, 119, 153, 123, 261, 208, 161, 262, 170, 154, 79, 236, 203, 228, 185, 269, 128, 193, 242, 176, 255, 158, 197, 322, 287, 164, 150, 191, 166, 117, 139, 123, 159, 178, 203, 125, 209, 151, 105, 327, 213, 242, 305, 283, 249, 91, 149, 121, 129, 169, 217, 234, 155, 102, 316, 101, 154, 148, 174, 81, 162, 189, 96, 115, 198, 125, 262, 134, 27, 229, 105, 145, 87, 76, 89, 237, 152, 213, 164, 274, 208, 116, 294, 142, 135, 136, 204, 183, 215, 128, 253, 27, 213, 59, 208, 135, 138, 140, 279, 107, 219, 90, 86, 110, 140, 106, 260, 394, 88, 152, 177, 299, 214, 253, 201, 167, 215, 270, 238, 142, 315, 124, 297, 169, 239, 93, 161, 117, 68, 115, 228, 119, 130, 126, 146, 108, 120, 198, 169, 99, 48, 137, 193, 93, 105, 157, 194, 134, 190, 147, 64, 378, 49, 220, 172, 137, 199, 223, 148, 280, 193, 38, 43, 249, 329, 179, 180, 123, 191, 128, 138, 76, 153, 227, 127, 7, 70, 213, 109, 378, 364, 197, 43, 221, 90, 119, 166, 202, 134, 115, 89, 104, 105, 78, 177, 16, 123, 140, 170], \"z\": [4196.010000000001, 3868.2000000000016, 6748.4000000000015, 2612.8599999999988, 2714.269999999999, 1680.76, 2162.680000000001, 1535.7700000000007, 2919.809999999999, 2128.83, 3075.0400000000013, 2483.6299999999997, 2982.350000000001, 2062.6999999999994, 2156.4499999999994, 1504.2700000000004, 2053.7, 4143.020000000001, 4734.259999999999, 3979.0400000000022, 1841.0299999999995, 7092.06, 6854.509999999997, 4786.990000000001, 3365.4300000000003, 3346.2800000000016, 2584.3999999999996, 6912.0, 3079.1000000000013, 1805.9099999999994, 3595.4800000000005, 1452.8700000000006, 2205.6300000000006, 3866.3299999999977, 2056.29, 1740.6299999999999, 2545.3800000000006, 5055.790000000004, 2385.7999999999993, 1379.7500000000007, 1310.14, 2817.0300000000007, 3957.7800000000016, 1648.7900000000009, 1797.78, 3384.0899999999974, 1205.8999999999999, 2150.8499999999995, 6083.040000000002, 1357.6000000000015, 1922.1000000000008, 2107.6600000000008, 3717.6699999999996, 4404.440000000001, 2709.1200000000003, 2000.8599999999992, 1456.7899999999993, 5815.490000000002, 2140.0699999999993, 7072.799999999994, 3617.5699999999983, 3536.819999999998, 2543.720000000002, 3085.4899999999984, 2191.220000000001, 3312.2500000000005, 3626.8100000000004, 4122.28, 2312.7999999999997, 1848.9799999999993, 2601.5500000000006, 3550.6999999999975, 3794.49, 3408.0599999999995, 3465.6700000000023, 2531.579999999998, 1776.809999999999, 2479.159999999999, 1785.1599999999983, 2109.0699999999997, 1093.6500000000003, 3755.3800000000006, 2263.76, 3448.2899999999986, 3539.530000000001, 4149.2800000000025, 605.0599999999998, 874.7099999999997, 2092.32, 2445.119999999998, 1976.1199999999992, 1990.2800000000009, 697.04, 1115.4300000000005, 1610.460000000001, 1995.6799999999998, 2117.02, 1575.1600000000003, 2597.5200000000013, 1809.34, 2707.329999999999, 2421.470000000002, 2202.3099999999995, 3119.4400000000014, 2504.1299999999987, 2265.119999999999, 2295.3099999999986, 2369.1600000000008, 1809.8100000000002, 2766.179999999997, 724.0, 3102.420000000001, 2154.680000000001, 5145.119999999995, 3190.550000000001, 1521.7600000000002, 2771.869999999999, 2631.700000000001, 1132.13, 3906.2700000000013, 2635.7900000000004, 2202.99, 691.7299999999999, 3385.619999999999, 2651.46, 2187.3100000000013, 3192.54, 3104.9500000000035, 2751.250000000001, 1786.7900000000004, 3219.7700000000004, 2538.749999999999, 1860.8599999999992, 2588.1199999999994, 2867.2, 2347.0499999999984, 2580.909999999999, 1682.0800000000004, 4912.41, 2427.3199999999974, 3246.091, 3515.6800000000003, 1026.4200000000003, 2702.2199999999993, 2503.2299999999996, 1861.11, 2590.46, 4098.800000000001, 3409.6600000000003, 2313.140000000001, 3865.2600000000034, 4582.639999999999, 2874.7200000000007, 2360.0899999999997, 2929.840000000001, 3542.1899999999996, 652.8199999999993, 1307.4100000000026, 1018.4299999999998, 4063.100000000003, 3092.9700000000003, 5976.79, 2688.48, 5669.65, 2774.1699999999964, 2740.3, 2740.4300000000017, 3580.130000000001, 4690.31, 2949.57, 3108.0600000000018, 1620.93, 719.7799999999997, 4640.769999999999, 2067.1300000000006, 1900.89, 2208.2999999999997, 1777.9200000000008, 1925.36, 3427.849999999999, 2201.64, 3315.710000000002, 2043.9300000000003, 775.4600000000004, 3093.8599999999997, 2323.5000000000014, 2535.8799999999987, 1904.0500000000002, 2879.7000000000003, 3087.27, 2618.230000000001, 3729.3400000000042, 2307.4499999999994, 3873.2999999999984, 4819.329999999998, 2855.3499999999995, 1803.76, 2995.7200000000007, 2319.6800000000007, 2456.979999999999, 1530.749999999999, 2539.4600000000005, 2166.3799999999983, 2128.23, 3717.349999999999, 1770.5600000000013, 3172.040000000002, 2556.6800000000007, 4039.9799999999987, 2606.53, 576.2999999999998, 1937.2500000000002, 1058.0600000000002, 4263.64, 3918.9000000000005, 1230.1400000000003, 2255.5099999999984, 1039.5800000000008, 907.0999999999999, 2103.059999999999, 1965.9000000000003, 2272.4000000000015, 1936.8400000000013, 2068.150000000001, 1183.5800000000002, 2362.8400000000006, 1957.3200000000004, 815.32, 3543.2600000000016, 2012.1700000000012, 2102.0899999999997, 1867.6800000000007, 620.0399999999998, 2925.910000000001, 2841.0900000000047, 2916.1700000000005, 2024.4500000000005, 2381.040000000002, 2174.1800000000007, 3073.7700000000023, 2803.690000000001, 1603.7200000000014, 1052.5500000000004, 1598.2400000000007, 1447.140000000001, 570.4599999999998, 1740.6000000000001, 1765.76, 2757.0699999999997, 939.2100000000002, 2952.3400000000024, 2042.149999999999, 1417.2899999999997, 1947.5499999999997, 2456.5300000000007, 771.1700000000003, 1236.2800000000013, 2070.97, 1250.7600000000014, 2235.2999999999997, 2486.219999999999, 1546.9099999999999, 4911.140000000007, 2838.199999999997, 2664.2599999999998, 1592.1800000000007, 1158.3, 2686.3399999999997, 3899.1000000000004, 1625.9699999999993, 2423.07, 2195.5799999999995, 2175.369999999998, 2087.879999999999, 2226.9099999999985, 1641.2000000000012, 3295.7599999999993, 2456.7999999999997, 3189.8099999999995, 2836.6899999999982, 2749.8900000000003, 2939.640000000002, 1485.5400000000006, 2744.4800000000005, 3478.8499999999976, 5842.950000000003, 1487.8000000000013, 1116.5699999999993, 1931.4200000000028, 1641.7599999999998, 1246.3199999999995, 1261.7799999999997, 1661.3300000000006, 5064.01, 1391.6100000000001, 2124.9900000000025, 1325.8200000000006, 3135.9800000000005, 2420.8400000000024, 4410.139999999998, 2298.930000000001, 3439.4100000000008, 2760.5599999999977, 2199.309999999999, 3447.4, 2350.0000000000005, 1869.500000000001, 1624.0499999999997, 2186.2000000000003, 4670.080000000001, 3861.0, 1827.7999999999984, 1661.44, 5756.890000000001, 1758.9199999999994, 3376.9600000000005, 1738.5900000000006, 2515.8400000000006, 2485.820000000002, 2239.9499999999994, 2306.519999999999, 4596.510000000002, 3610.3100000000004, 3774.1000000000013, 3787.0900000000006, 2650.7299999999996, 1862.140000000001, 1330.4500000000005, 1867.6899999999991, 2360.55, 2213.1100000000006, 3631.89, 2183.54, 1056.44, 3450.8400000000015, 3974.3699999999994, 1429.9, 1483.1399999999999, 1122.5300000000007, 1418.2600000000016, 1388.370000000001, 6945.02, 6568.719999999998, 3563.1099999999997, 2575.0, 3090.8500000000017, 1967.250000000005, 1299.230000000001, 3497.140000000001, 979.2600000000004, 909.2300000000001, 2963.1900000000014, 1911.890000000001, 2574.650000000001, 811.0200000000001, 2348.819999999999, 1502.3500000000001, 2007.4399999999994, 1517.0800000000029, 3542.5099999999948, 1655.76, 1319.6899999999998, 2552.86, 3429.9700000000003, 1767.53, 2422.64, 3224.5300000000016, 2865.6400000000003, 3147.3100000000013, 1887.2000000000005, 812.9999999999998, 2242.0100000000007, 2635.4900000000007, 2881.0200000000013, 1744.02, 3324.09, 2981.499999999999, 6423.5999999999985, 2644.46, 1542.14, 2293.6199999999994, 945.5799999999999, 3329.719999999999, 2181.21, 4788.769999999996, 2451.229999999999, 2318.880000000002, 532.9599999999995, 3245.4700000000007, 2593.9400000000005, 2303.750000000001, 948.0500000000001, 2666.61, 3848.5499999999984, 2171.3199999999997, 1905.45, 1641.4800000000005, 2084.900000000002, 3650.8699999999994, 2974.6499999999974, 1438.8500000000008, 977.2099999999992, 832.88, 4330.670000000001, 5126.34, 1521.790000000001, 967.4499999999998, 1232.1799999999996, 1491.2400000000007, 2461.850000000001, 6102.259999999999, 1705.2599999999989, 1634.53, 4389.810000000001, 4199.85, 3429.55, 3408.4799999999987, 1475.02, 2816.9700000000007, 1451.2800000000004, 2735.3700000000003, 615.389999999999, 1701.939999999998, 3362.7100000000023, 690.5399999999996, 1483.3100000000013, 3450.2399999999993, 1111.7899999999993, 2140.2200000000003, 1459.8600000000008, 2173.5299999999997, 2806.9000000000005, 981.5099999999999, 3204.16, 1337.4800000000016, 1667.9700000000018, 867.1099999999998, 6287.770000000002, 1880.22, 3506.5400000000013, 2419.8399999999992, 3741.9799999999955, 1906.0699999999988, 3024.6200000000013, 3770.600000000001, 1880.4199999999996, 6617.650000000001, 3991.9400000000032, 4913.32, 1080.6199999999992, 1821.5199999999993, 3054.8700000000013, 1096.32, 3693.8100000000013, 3598.260000000001, 3665.6199999999985, 2609.2999999999993, 5203.51, 1423.2899999999997, 1496.6800000000005, 1531.509999999999, 2236.7400000000002, 5305.829999999999, 2755.5600000000004, 3085.9600000000046, 1583.2000000000003, 1959.3800000000003, 1469.4500000000005, 6675.709999999997, 2024.949999999999, 1553.66, 1320.5600000000004, 2131.9000000000005, 2941.0500000000025, 1486.9000000000003, 4061.239999999999, 2126.9300000000017, 2028.8800000000017, 1908.2500000000002, 1522.2500000000005, 3640.669999999999, 616.79, 1841.1800000000005, 2158.3700000000003, 3482.7400000000002, 1314.6800000000003, 1603.4600000000007, 650.4300000000004, 757.44, 1811.470000000002, 2494.4600000000005, 2965.690000000001, 950.2599999999999, 1627.1300000000006, 6748.8, 1026.9399999999996, 2266.249999999998, 5664.569999999999, 3313.79, 3622.9500000000007, 4073.2799999999993, 3038.670000000001, 2630.6400000000012, 4379.6500000000015, 2183.04, 2878.1500000000005, 6654.26, 3794.519999999997, 933.6199999999995, 1370.8700000000003, 4022.4600000000028, 3013.8300000000013, 5150.270000000002, 3029.870000000001, 3278.36, 1773.9200000000008, 4711.21, 1382.0200000000013, 1054.6699999999996, 2269.2099999999996, 2191.8400000000006, 1304.7599999999993, 1484.6300000000003, 2246.8100000000013, 1695.660000000002, 2242.25, 1706.2800000000022, 1201.5100000000014, 1201.4900000000002, 912.74, 3317.9700000000003, 3167.7300000000014, 1774.6200000000003, 2761.49, 2023.47, 853.7199999999998, 1519.0800000000004, 809.7000000000002, 1281.5599999999997, 3085.4799999999996, 981.6500000000001, 2528.670000000001, 2596.4499999999994, 2781.499999999998, 1903.1300000000012, 3049.880000000001, 1894.1100000000017, 4345.500000000007, 1809.0500000000004, 1920.1999999999998, 5461.620000000001, 1625.0500000000004, 3989.5700000000006, 1842.5599999999995, 1272.6100000000013, 848.5899999999997, 1735.1799999999998, 3228.8399999999992, 5116.129999999999, 2655.2200000000007, 2385.480000000001, 1446.09, 2003.8500000000008, 2949.7500000000014, 1555.05, 2050.079999999999, 1991.009999999999, 3802.8100000000018, 1777.7800000000007, 991.8499999999998, 2463.170000000001, 4892.240000000001, 3518.0299999999993, 1707.2099999999996, 2466.4000000000005, 3755.6499999999983, 3286.9099999999994, 2275.58, 2095.1300000000015, 3563.8499999999995, 2299.670000000001, 2741.079999999998, 1960.7200000000003, 1906.0900000000015, 2144.5299999999997, 1641.6800000000019, 1419.7300000000012, 1875.1100000000006, 2514.76, 908.9900000000005, 781.3600000000001, 1159.5200000000011, 1349.5200000000011, 1342.6800000000012, 7330.800000000001, 2129.9600000000023, 2633.85, 4200.969999999999, 1853.1299999999997, 2333.420000000001, 2210.2600000000007, 2504.8599999999997, 1648.9500000000003, 1881.3600000000017, 1843.0599999999997, 1926.8799999999997, 3541.9200000000005, 2745.28, 2920.0400000000013, 3540.1000000000017, 2385.0000000000023, 1952.4499999999998, 901.2100000000007, 4012.559999999999, 1498.5100000000014, 1133.0700000000004, 2404.170000000001, 1479.22, 2215.020000000001, 3911.5599999999995, 2827.929999999999, 1103.9200000000003, 1992.759999999999, 2047.0000000000011, 1784.1200000000008, 2361.9700000000034, 2768.9799999999996, 3886.670000000001, 2571.7400000000025, 2954.7500000000014, 2055.5099999999993, 3406.7200000000003, 3106.6200000000003, 1622.2200000000016, 2459.3300000000004, 3191.5299999999993, 2201.050000000001, 2508.89, 1781.1199999999992, 2380.6399999999994, 3371.1300000000006, 2515.680000000001, 1863.3500000000001, 2786.05, 2291.079999999999, 1797.5699999999997, 1739.9199999999994, 2273.1800000000003, 1215.4600000000003, 665.86, 1865.1899999999994, 1965.5500000000013, 1251.84, 4627.619999999998, 1714.6000000000024, 3661.069999999999, 1995.460000000001, 1560.5300000000007, 2312.7000000000007, 5155.659999999998, 2059.2000000000007, 3159.9999999999995, 1889.400000000002, 1119.8100000000004, 2894.33, 4301.22, 1296.4400000000012, 2622.569999999998, 740.7899999999995, 1511.3000000000025, 1483.56, 668.1100000000002, 2085.649999999999, 2380.080000000001, 3864.440000000002, 2538.7200000000007, 2633.009999999999, 3651.969999999997, 3770.12, 3017.2999999999993, 911.1500000000001, 2692.85, 1418.0300000000013, 1826.2100000000016, 1141.3399999999992, 2888.750000000001, 2861.5500000000006, 1793.1700000000008, 1843.75, 5083.060000000003, 1979.3, 2621.379999999999, 2019.7700000000004, 2716.5999999999995, 1796.48, 2058.090000000001, 2232.49, 2507.5599999999995, 4314.719999999999, 2265.38, 2595.000000000001, 3064.78]}, {\"hoverlabel\": {\"namelength\": 0}, \"hovertemplate\": \"Cluster_Id=1<br>Recency=%{x}<br>Frequency=%{y}<br>Amount=%{z}\", \"legendgroup\": \"Cluster_Id=1\", \"marker\": {\"color\": \"#00cc96\", \"symbol\": \"circle\"}, \"mode\": \"markers\", \"name\": \"Cluster_Id=1\", \"scene\": \"scene\", \"showlegend\": true, \"type\": \"scatter3d\", \"x\": [2, 70, 74, 59, 2, 5, 2, 31, 144, 33, 69, 28, 21, 30, 96, 107, 78, 51, 137, 83, 142, 17, 44, 8, 24, 87, 62, 67, 23, 30, 41, 17, 58, 2, 127, 7, 16, 63, 87, 4, 121, 77, 23, 16, 25, 45, 130, 35, 143, 1, 8, 5, 9, 6, 88, 9, 2, 111, 6, 29, 18, 0, 73, 30, 22, 22, 3, 77, 21, 106, 105, 55, 8, 72, 6, 63, 0, 22, 30, 10, 38, 54, 57, 137, 79, 8, 98, 30, 63, 63, 24, 71, 12, 23, 81, 9, 129, 0, 3, 3, 20, 70, 20, 70, 98, 39, 2, 128, 43, 2, 116, 21, 19, 93, 77, 93, 22, 21, 107, 18, 39, 25, 9, 13, 5, 32, 48, 94, 21, 121, 45, 18, 63, 26, 7, 3, 45, 64, 44, 39, 10, 18, 94, 60, 135, 18, 9, 14, 93, 9, 8, 56, 121, 126, 77, 80, 73, 23, 10, 95, 111, 92, 50, 17, 124, 91, 3, 13, 11, 61, 60, 36, 30, 112, 63, 15, 40, 63, 121, 17, 59, 38, 136, 7, 0, 103, 119, 22, 8, 3, 21, 1, 0, 69, 71, 16, 2, 81, 31, 92, 13, 76, 69, 63, 10, 15, 65, 7, 70, 121, 79, 58, 17, 66, 49, 89, 80, 98, 25, 120, 10, 74, 21, 72, 126, 17, 0, 73, 8, 106, 133, 43, 4, 63, 134, 107, 18, 9, 10, 18, 66, 73, 1, 91, 22, 23, 26, 24, 17, 28, 38, 57, 99, 10, 98, 60, 37, 65, 77, 57, 104, 51, 7, 10, 17, 22, 16, 70, 63, 8, 126, 73, 72, 20, 85, 49, 29, 40, 14, 78, 33, 42, 85, 39, 11, 95, 25, 27, 6, 81, 83, 143, 18, 16, 49, 22, 24, 14, 31, 14, 64, 35, 52, 46, 44, 64, 25, 28, 39, 88, 39, 116, 30, 58, 99, 67, 36, 51, 15, 73, 30, 119, 9, 34, 45, 113, 10, 85, 59, 148, 50, 74, 18, 17, 62, 58, 24, 38, 7, 31, 31, 14, 116, 35, 38, 28, 36, 135, 27, 17, 71, 2, 94, 95, 53, 123, 32, 53, 49, 62, 81, 102, 6, 12, 9, 75, 3, 42, 65, 116, 66, 51, 63, 5, 144, 5, 18, 32, 57, 21, 17, 24, 10, 64, 24, 91, 51, 87, 8, 56, 0, 57, 73, 30, 119, 63, 85, 54, 2, 6, 70, 119, 92, 26, 21, 49, 15, 36, 3, 49, 49, 53, 35, 22, 74, 10, 57, 85, 108, 34, 22, 16, 78, 64, 10, 0, 78, 20, 21, 70, 48, 14, 72, 59, 26, 16, 65, 11, 29, 14, 45, 133, 115, 109, 76, 52, 46, 16, 6, 121, 60, 62, 21, 28, 77, 32, 108, 8, 31, 19, 123, 64, 105, 28, 63, 20, 4, 128, 40, 101, 124, 32, 2, 56, 11, 36, 137, 4, 84, 30, 22, 13, 3, 19, 143, 83, 7, 122, 60, 1, 129, 1, 45, 3, 2, 133, 46, 48, 35, 74, 19, 39, 86, 70, 38, 97, 10, 32, 84, 66, 8, 67, 106, 3, 59, 1, 10, 94, 89, 30, 2, 42, 3, 91, 109, 51, 43, 80, 29, 110, 141, 50, 150, 73, 50, 87, 30, 20, 7, 8, 2, 39, 17, 18, 107, 50, 46, 106, 64, 114, 123, 22, 63, 16, 20, 126, 38, 120, 9, 5, 59, 42, 18, 21, 43, 51, 25, 37, 8, 8, 64, 140, 129, 33, 118, 106, 70, 34, 91, 21, 84, 56, 17, 49, 21, 98, 142, 7, 0, 53, 18, 8, 59, 10, 154, 109, 97, 17, 11, 73, 42, 71, 19, 10, 49, 38, 50, 25, 50, 87, 63, 46, 23, 21, 10, 100, 60, 32, 63, 1, 23, 107, 36, 24, 57, 64, 15, 9, 58, 10, 17, 18, 56, 63, 75, 34, 0, 12, 2, 16, 40, 49, 21, 6, 10, 43, 10, 3, 71, 8, 31, 56, 90, 50, 35, 50, 21, 58, 8, 66, 76, 3, 17, 4, 86, 26, 19, 60, 23, 2, 15, 30, 70, 106, 43, 30, 136, 14, 2, 13, 28, 23, 24, 42, 5, 146, 24, 46, 3, 38, 11, 15, 112, 28, 43, 86, 44, 14, 74, 144, 58, 43, 28, 16, 111, 57, 3, 126, 54, 25, 9, 6, 28, 16, 63, 3, 2, 52, 50, 60, 8, 14, 74, 36, 73, 63, 20, 9, 28, 52, 17, 9, 22, 8, 118, 35, 59, 12, 8, 51, 25, 28, 6, 3, 2, 8, 76, 19, 26, 18, 131, 78, 147, 9, 84, 7, 22, 10, 20, 1, 73, 2, 35, 85, 70, 115, 29, 50, 31, 13, 71, 22, 8, 78, 24, 11, 146, 58, 7, 95, 14, 49, 29, 67, 127, 106, 36, 56, 56, 18, 15, 38, 45, 47, 50, 35, 53, 42, 33, 38, 11, 32, 79, 30, 7, 71, 3, 89, 71, 42, 30, 64, 24, 4, 11, 7, 70, 31, 77, 45, 93, 9, 104, 77, 21, 20, 53, 103, 42, 3, 83, 8, 30, 17, 23, 28, 17, 17, 14, 133, 129, 49, 84, 22, 65, 59, 17, 127, 14, 2, 45, 3, 10, 133, 30, 73, 0, 44, 17, 68, 25, 71, 65, 28, 69, 13, 119, 60, 8, 91, 58, 78, 84, 9, 0, 59, 44, 87, 36, 112, 1, 28, 9, 44, 73, 64, 121, 35, 15, 126, 66, 99, 134, 106, 63, 150, 21, 23, 15, 56, 3, 30, 65, 46, 49, 21, 28, 9, 63, 60, 63, 95, 74, 109, 63, 3, 43, 63, 103, 52, 34, 31, 52, 65, 80, 115, 86, 0, 34, 71, 28, 39, 95, 74, 20, 136, 128, 39, 8, 39, 4, 15, 112, 15, 0, 91, 148, 17, 25, 9, 84, 24, 58, 37, 14, 26, 22, 78, 7, 21, 130, 54, 25, 29, 29, 24, 93, 28, 84, 8, 34, 42, 1, 112, 13, 76, 39, 92, 22, 27, 17, 7, 80, 44, 1, 32, 83, 24, 32, 18, 6, 10, 113, 53, 3, 36, 59, 23, 28, 11, 49, 18, 2, 103, 11, 31, 37, 68, 24, 23, 49, 46, 70, 100, 29, 34, 26, 7, 78, 51, 35, 27, 51, 9, 35, 32, 10, 49, 3, 140, 116, 99, 74, 44, 16, 89, 52, 133, 18, 36, 90, 92, 8, 44, 22, 43, 24, 105, 50, 39, 39, 80, 48, 52, 23, 8, 17, 116, 119, 3, 27, 17, 59, 8, 142, 11, 145, 23, 11, 14, 48, 65, 114, 14, 65, 48, 15, 77, 8, 133, 12, 39, 50, 65, 24, 64, 31, 63, 115, 5, 68, 132, 24, 10, 9, 43, 8, 149, 112, 75, 106, 45, 50, 45, 49, 35, 78, 106, 2, 63, 43, 2, 50, 98, 28, 57, 43, 44, 64, 24, 58, 63, 45, 37, 18, 51, 136, 18, 25, 21, 40, 100, 32, 14, 1, 1, 92, 59, 79, 0, 23, 16, 7, 19, 66, 20, 63, 111, 133, 82, 7, 16, 0, 33, 31, 73, 19, 16, 22, 2, 83, 16, 76, 88, 122, 29, 18, 43, 3, 54, 87, 23, 21, 34, 35, 46, 38, 16, 45, 11, 29, 42, 91, 91, 86, 7, 64, 30, 21, 36, 119, 85, 53, 32, 144, 44, 9, 16, 21, 44, 16, 81, 100, 58, 98, 106, 11, 87, 49, 8, 41, 6, 61, 65, 84, 142, 7, 58, 72, 51, 38, 21, 59, 18, 52, 87, 133, 4, 49, 15, 63, 16, 7, 58, 94, 15, 125, 93, 49, 137, 60, 72, 66, 63, 16, 44, 15, 39, 74, 58, 22, 30, 54, 24, 44, 88, 80, 18, 78, 80, 36, 56, 86, 32, 70, 40, 77, 56, 33, 23, 61, 52, 50, 16, 73, 70, 116, 22, 71, 30, 116, 9, 22, 107, 138, 37, 91, 17, 2, 119, 34, 0, 127, 43, 17, 36, 106, 74, 15, 43, 10, 20, 17, 62, 32, 6, 9, 31, 52, 11, 17, 18, 36, 1, 32, 65, 8, 60, 74, 89, 59, 28, 52, 49, 144, 18, 94, 69, 18, 18, 53, 56, 21, 43, 25, 44, 112, 24, 80, 105, 56, 63, 27, 5, 66, 45, 33, 0, 135, 87, 44, 27, 63, 20, 73, 87, 24, 9, 75, 15, 76, 32, 46, 72, 2, 8, 4, 106, 24, 31, 19, 4, 29, 60, 24, 80, 3, 21, 4, 106, 2, 53, 95, 2, 34, 23, 20, 5, 53, 14, 2, 2, 126, 73, 70, 112, 79, 70, 68, 50, 74, 60, 15, 3, 3, 40, 30, 74, 32, 69, 14, 3, 51, 80, 78, 73, 31, 22, 24, 105, 4, 38, 71, 15, 140, 15, 18, 67, 14, 27, 54, 33, 42, 72, 4, 60, 0, 75, 43, 68, 134, 36, 45, 2, 77, 25, 90, 51, 31, 51, 52, 46, 24, 17, 44, 30, 57, 64, 7, 96, 19, 47, 57, 56, 67, 59, 79, 73, 99, 19, 122, 7, 3, 56, 88, 64, 22, 102, 142, 98, 4, 102, 2, 95, 15, 38, 50, 92, 38, 0, 127, 39, 63, 49, 42, 52, 3, 9, 23, 14, 105, 59, 28, 140, 22, 76, 24, 66, 66, 37, 14, 34, 0, 64, 25, 11, 115, 28, 81, 63, 35, 8, 23, 48, 60, 20, 115, 3, 25, 52, 0, 54, 25, 138, 3, 56, 122, 108, 29, 0, 8, 86, 38, 115, 7, 3, 38, 2, 76, 60, 29, 4, 6, 10, 29, 22, 72, 45, 4, 50, 16, 29, 7, 40, 30, 44, 60, 110, 63, 11, 85, 15, 77, 29, 137, 26, 2, 8, 112, 84, 114, 27, 128, 27, 81, 8, 58, 142, 113, 17, 35, 35, 77, 21, 24, 108, 3, 21, 8, 17, 9, 28, 46, 5, 7, 2, 118, 49, 106, 15, 0, 105, 22, 51, 23, 74, 17, 7, 31, 21, 21, 38, 49, 74, 43, 55, 56, 46, 105, 58, 35, 29, 23, 53, 53, 52, 59, 31, 6, 64, 18, 95, 2, 34, 24, 12, 10, 107, 52, 14, 119, 3, 116, 17, 4, 40, 106, 147, 51, 138, 1, 126, 107, 34, 57, 129, 21, 25, 31, 3, 28, 16, 100, 11, 20, 14, 94, 77, 138, 17, 45, 99, 7, 17, 13, 22, 123, 85, 93, 45, 14, 85, 7, 35, 128, 50, 23, 10, 16, 48, 72, 16, 39, 70, 10, 64, 3, 18, 14, 7, 19, 77, 21, 114, 35, 0, 15, 11, 2, 43, 78, 41, 49, 44, 18, 71, 120, 32, 17, 87, 1, 39, 17, 126, 14, 42, 78, 22, 50, 9, 9, 44, 78, 73, 3, 64, 58, 7, 75, 16, 8, 2, 69, 24, 71, 127, 30, 14, 16, 53, 23, 1, 10, 0, 53, 120, 53, 29, 25, 8, 42, 23, 42, 129, 19, 13, 94, 18, 13, 23, 70, 28, 4, 6, 99, 84, 11, 17, 49, 32, 56, 129, 5, 59, 20, 32, 14, 80, 1, 30, 8, 30, 86, 119, 64, 60, 134, 20, 28, 72, 10, 140, 25, 18, 3, 0, 15, 73, 3, 52, 23, 43, 126, 135, 141, 131, 29, 34, 10, 44, 25, 126, 57, 8, 78, 38, 53, 8, 8, 112, 99, 16, 21, 32, 50, 14, 56, 10, 20, 71, 52, 84, 73, 29, 24, 39, 21, 36, 73, 10, 12, 36, 3, 50, 1, 32, 49, 2, 46, 41, 84, 80, 11, 1, 12, 142, 29, 106, 79, 43, 2, 3, 11, 31, 128, 18, 55, 43, 22, 84, 28, 20, 70, 8, 58, 3, 44, 87, 63, 132, 44, 10, 35, 133, 28, 51, 137, 4, 48, 130, 7, 36, 71, 39, 65, 116, 141, 31, 37, 51, 28, 35, 144, 21, 55, 11, 121, 36, 11, 3, 22, 69, 27, 3, 80, 107, 51, 98, 3, 64, 21, 35, 31, 18, 53, 24, 44, 65, 9, 8, 21, 132, 74, 39, 18, 35, 25, 15, 60, 92, 126, 10, 36, 37, 18, 11, 25, 148, 23, 60, 18, 8, 28, 62, 116, 140, 45, 50, 31, 134, 2, 74, 12, 8, 56, 9, 30, 3, 60, 32, 58, 86, 6, 30, 113, 23, 14, 14, 77, 71, 63, 94, 105, 35, 28, 25, 88, 30, 28, 21, 92, 49, 81, 29, 2, 45, 23, 113, 16, 50, 88, 24, 42, 139, 22, 71, 133, 37, 1, 17, 20, 57, 73, 7, 42], \"y\": [59, 47, 5, 25, 94, 25, 56, 27, 24, 123, 34, 52, 91, 51, 50, 84, 115, 6, 3, 11, 2, 49, 12, 13, 42, 7, 72, 86, 82, 34, 24, 72, 4, 24, 2, 52, 28, 29, 31, 45, 9, 27, 107, 63, 9, 103, 75, 30, 103, 23, 65, 80, 17, 16, 109, 10, 33, 5, 151, 20, 4, 78, 30, 13, 31, 27, 73, 5, 67, 31, 6, 4, 107, 47, 1, 40, 43, 47, 10, 99, 75, 37, 30, 48, 28, 43, 18, 35, 14, 78, 8, 10, 69, 49, 15, 2, 22, 112, 6, 18, 24, 26, 30, 6, 1, 8, 20, 2, 60, 50, 31, 76, 82, 55, 15, 2, 46, 63, 46, 23, 7, 17, 4, 86, 15, 85, 89, 79, 4, 82, 42, 65, 13, 32, 48, 43, 72, 17, 11, 84, 2, 29, 63, 29, 3, 46, 57, 8, 22, 56, 143, 92, 7, 5, 21, 2, 43, 39, 32, 67, 13, 27, 16, 25, 26, 23, 14, 1, 38, 87, 8, 101, 15, 16, 30, 8, 46, 11, 85, 40, 7, 31, 5, 59, 2, 81, 1, 57, 77, 26, 78, 75, 20, 110, 11, 25, 21, 12, 19, 53, 21, 51, 8, 14, 16, 43, 16, 27, 51, 32, 42, 24, 60, 20, 1, 23, 38, 53, 97, 36, 51, 13, 47, 39, 39, 3, 11, 27, 30, 18, 24, 19, 28, 16, 10, 78, 29, 74, 67, 54, 46, 10, 12, 13, 62, 19, 71, 53, 65, 17, 27, 41, 18, 99, 10, 22, 81, 10, 69, 34, 14, 86, 52, 36, 45, 67, 18, 17, 22, 44, 10, 4, 59, 44, 38, 9, 5, 27, 6, 15, 66, 25, 38, 87, 98, 124, 52, 34, 33, 82, 49, 85, 38, 85, 26, 46, 85, 23, 11, 21, 58, 16, 26, 41, 99, 23, 27, 43, 98, 76, 44, 19, 86, 94, 12, 62, 64, 101, 8, 40, 28, 5, 80, 6, 63, 56, 16, 58, 12, 87, 9, 25, 65, 57, 6, 9, 55, 12, 28, 8, 103, 60, 43, 28, 42, 20, 63, 43, 33, 3, 35, 42, 72, 28, 24, 76, 25, 57, 70, 17, 22, 9, 57, 115, 31, 31, 45, 17, 13, 39, 23, 13, 10, 76, 59, 96, 40, 46, 93, 15, 4, 55, 20, 9, 58, 5, 101, 94, 24, 11, 77, 30, 7, 61, 24, 7, 3, 36, 66, 60, 16, 40, 15, 27, 30, 17, 19, 26, 34, 18, 30, 20, 45, 11, 21, 27, 17, 59, 23, 7, 46, 49, 11, 5, 36, 30, 92, 12, 11, 15, 28, 15, 54, 11, 17, 13, 41, 86, 5, 87, 40, 47, 30, 34, 39, 20, 68, 39, 31, 16, 6, 15, 92, 66, 93, 6, 6, 34, 54, 56, 4, 6, 10, 82, 52, 14, 43, 46, 42, 65, 12, 4, 70, 14, 105, 21, 26, 84, 76, 35, 14, 11, 40, 72, 3, 5, 16, 44, 46, 52, 30, 47, 26, 67, 46, 7, 12, 6, 26, 50, 49, 41, 52, 29, 52, 58, 29, 26, 43, 24, 71, 42, 6, 44, 39, 44, 39, 10, 9, 70, 59, 12, 7, 61, 118, 43, 36, 15, 42, 75, 5, 52, 66, 33, 29, 75, 34, 27, 11, 47, 61, 7, 64, 3, 16, 35, 87, 8, 24, 41, 28, 26, 19, 90, 24, 71, 6, 60, 31, 9, 38, 41, 58, 41, 46, 56, 131, 59, 14, 62, 73, 26, 26, 104, 8, 76, 55, 45, 98, 14, 30, 27, 1, 17, 12, 9, 6, 55, 59, 98, 70, 20, 109, 62, 37, 17, 6, 90, 43, 7, 30, 47, 11, 13, 14, 47, 49, 7, 6, 7, 12, 107, 98, 57, 71, 18, 73, 18, 16, 4, 17, 12, 18, 65, 10, 19, 32, 76, 111, 48, 10, 113, 21, 32, 69, 34, 12, 123, 24, 17, 6, 29, 152, 53, 55, 50, 7, 20, 4, 17, 135, 13, 24, 41, 28, 16, 7, 2, 29, 102, 29, 50, 127, 29, 30, 4, 99, 117, 14, 74, 102, 44, 7, 15, 54, 71, 69, 22, 29, 139, 25, 10, 71, 55, 37, 29, 52, 45, 17, 56, 59, 28, 70, 92, 5, 30, 41, 38, 19, 71, 11, 7, 39, 6, 9, 60, 3, 35, 27, 15, 3, 30, 6, 46, 4, 15, 82, 12, 13, 59, 12, 47, 11, 53, 48, 13, 29, 29, 45, 40, 70, 6, 28, 10, 20, 66, 61, 59, 12, 6, 48, 11, 4, 72, 98, 50, 47, 17, 11, 54, 15, 6, 33, 73, 23, 55, 119, 98, 24, 69, 9, 35, 87, 13, 79, 45, 78, 44, 11, 3, 14, 64, 20, 20, 55, 85, 42, 61, 27, 83, 38, 6, 37, 34, 18, 32, 21, 11, 73, 41, 4, 61, 27, 77, 144, 20, 128, 35, 20, 32, 135, 72, 61, 37, 48, 7, 111, 27, 127, 133, 3, 98, 80, 71, 114, 121, 57, 53, 82, 104, 26, 76, 42, 27, 35, 60, 31, 49, 11, 25, 23, 9, 35, 102, 40, 84, 21, 45, 80, 1, 22, 28, 87, 15, 16, 111, 52, 29, 73, 69, 26, 67, 20, 23, 22, 92, 55, 7, 29, 103, 5, 23, 18, 63, 21, 19, 51, 19, 36, 10, 13, 97, 38, 9, 43, 52, 43, 2, 58, 31, 99, 52, 52, 83, 22, 34, 6, 44, 55, 18, 47, 78, 19, 12, 23, 82, 11, 2, 48, 63, 47, 42, 52, 12, 3, 21, 59, 41, 28, 26, 58, 12, 48, 1, 38, 33, 36, 49, 49, 10, 62, 13, 36, 88, 17, 26, 21, 32, 23, 9, 14, 13, 29, 44, 4, 27, 3, 117, 37, 12, 85, 12, 14, 74, 50, 13, 42, 58, 100, 39, 28, 8, 53, 2, 6, 83, 10, 53, 59, 29, 25, 62, 62, 30, 58, 7, 11, 7, 57, 53, 29, 27, 77, 76, 14, 29, 46, 2, 55, 35, 16, 68, 13, 15, 18, 57, 10, 1, 4, 86, 41, 15, 29, 81, 61, 29, 56, 31, 20, 31, 8, 7, 53, 31, 57, 104, 45, 51, 44, 125, 9, 24, 5, 84, 23, 16, 52, 54, 2, 17, 67, 60, 6, 45, 6, 49, 3, 104, 18, 19, 34, 68, 49, 61, 15, 25, 15, 25, 52, 32, 21, 6, 21, 47, 1, 11, 94, 9, 19, 13, 35, 21, 33, 12, 110, 78, 67, 10, 9, 19, 12, 18, 59, 53, 20, 35, 118, 128, 91, 32, 4, 73, 26, 81, 8, 9, 88, 3, 65, 29, 93, 21, 29, 45, 9, 37, 63, 11, 28, 10, 25, 18, 21, 14, 35, 76, 13, 42, 8, 98, 119, 69, 8, 31, 48, 43, 112, 41, 74, 49, 62, 33, 69, 51, 41, 69, 50, 12, 24, 65, 28, 50, 11, 22, 97, 30, 80, 14, 18, 24, 40, 45, 76, 128, 131, 49, 18, 12, 14, 87, 51, 116, 30, 143, 21, 74, 7, 18, 14, 29, 60, 19, 43, 91, 42, 7, 28, 122, 84, 21, 24, 65, 49, 43, 38, 14, 27, 52, 3, 35, 131, 33, 90, 94, 148, 32, 28, 46, 101, 64, 28, 32, 17, 100, 55, 28, 65, 6, 75, 39, 83, 9, 34, 84, 70, 68, 64, 102, 33, 21, 21, 11, 31, 40, 53, 1, 67, 67, 39, 83, 57, 48, 29, 6, 49, 16, 16, 32, 38, 16, 40, 38, 37, 31, 37, 30, 22, 18, 89, 19, 22, 35, 85, 3, 69, 87, 23, 58, 15, 8, 11, 11, 15, 46, 31, 67, 11, 6, 15, 36, 57, 98, 63, 19, 66, 46, 24, 43, 6, 14, 97, 96, 47, 38, 25, 48, 20, 21, 51, 93, 7, 69, 18, 124, 61, 45, 25, 25, 17, 109, 19, 79, 27, 12, 22, 4, 44, 37, 16, 69, 19, 37, 118, 20, 41, 10, 153, 15, 47, 38, 92, 60, 28, 39, 34, 70, 106, 90, 5, 53, 51, 18, 130, 76, 97, 111, 128, 32, 102, 33, 59, 88, 35, 100, 86, 73, 29, 23, 63, 45, 35, 31, 7, 54, 73, 102, 52, 18, 1, 2, 6, 8, 17, 132, 24, 86, 63, 4, 36, 14, 3, 135, 4, 85, 2, 28, 17, 35, 53, 18, 42, 31, 39, 62, 97, 97, 11, 86, 86, 4, 3, 35, 6, 42, 13, 14, 17, 77, 31, 56, 45, 5, 32, 74, 17, 11, 58, 31, 19, 19, 5, 106, 58, 46, 28, 6, 31, 33, 10, 27, 53, 85, 12, 7, 62, 31, 32, 34, 66, 30, 33, 9, 29, 48, 20, 64, 72, 95, 52, 12, 35, 21, 24, 76, 31, 17, 32, 53, 20, 6, 98, 92, 10, 44, 30, 62, 62, 16, 13, 60, 10, 123, 27, 22, 19, 27, 43, 84, 28, 53, 1, 4, 45, 69, 95, 25, 34, 22, 43, 13, 89, 58, 146, 26, 49, 76, 50, 16, 60, 3, 155, 5, 95, 16, 18, 24, 60, 103, 67, 23, 28, 28, 95, 26, 26, 28, 22, 8, 23, 47, 10, 11, 64, 11, 12, 14, 20, 9, 19, 2, 72, 8, 28, 11, 129, 7, 6, 1, 39, 26, 101, 37, 101, 69, 163, 82, 44, 60, 93, 19, 38, 57, 143, 130, 60, 89, 6, 77, 54, 53, 49, 62, 57, 19, 61, 42, 87, 16, 1, 54, 18, 7, 101, 14, 31, 31, 42, 42, 39, 22, 3, 7, 12, 95, 41, 23, 50, 44, 44, 53, 12, 15, 75, 16, 7, 3, 9, 2, 11, 22, 28, 32, 77, 22, 15, 71, 98, 10, 22, 65, 48, 92, 14, 84, 62, 82, 62, 1, 64, 80, 25, 28, 2, 9, 64, 52, 64, 77, 52, 65, 42, 121, 30, 135, 43, 38, 7, 40, 24, 52, 48, 35, 85, 9, 14, 23, 20, 15, 67, 102, 5, 14, 60, 16, 64, 131, 23, 2, 61, 20, 35, 29, 96, 40, 13, 7, 104, 25, 63, 28, 47, 47, 36, 25, 29, 105, 19, 40, 31, 55, 69, 57, 87, 18, 112, 78, 16, 124, 12, 127, 80, 38, 6, 27, 9, 94, 45, 124, 112, 102, 69, 51, 30, 57, 66, 81, 12, 55, 14, 28, 11, 73, 107, 50, 33, 6, 1, 28, 9, 32, 87, 1, 72, 27, 8, 16, 45, 15, 132, 29, 33, 87, 57, 24, 83, 2, 51, 15, 47, 28, 78, 15, 92, 38, 33, 94, 64, 43, 66, 6, 14, 30, 30, 28, 43, 2, 42, 14, 48, 54, 9, 36, 19, 19, 54, 111, 37, 111, 28, 41, 5, 78, 14, 31, 83, 21, 29, 27, 17, 5, 28, 38, 16, 20, 6, 40, 87, 137, 83, 30, 46, 73, 33, 23, 49, 15, 9, 75, 9, 26, 145, 6, 51, 2, 106, 34, 27, 46, 64, 49, 12, 26, 52, 36, 23, 50, 83, 13, 15, 59, 100, 14, 78, 4, 27, 33, 50, 5, 39, 72, 24, 35, 5, 40, 7, 92, 53, 8, 50, 82, 23, 45, 90, 43, 18, 15, 61, 27, 79, 30, 11, 15, 47, 18, 15, 35, 80, 55, 23, 29, 50, 10, 45, 67, 83, 35, 43, 26, 10, 15, 2, 95, 25, 19, 75, 21, 54, 53, 84, 67, 13, 72, 5, 10, 58, 82, 111, 104, 10, 43, 141, 17, 33, 13, 23, 2, 61, 61, 24, 56, 1, 51, 24, 17, 102, 10, 81, 40, 46, 26, 145, 117, 64, 109, 10, 81, 28, 16, 2, 28, 19, 39, 34, 39, 59, 80, 94, 23, 145, 21, 23, 6, 39, 65, 90, 21, 29, 77, 23, 2, 2, 9, 72, 21, 31, 7, 35, 104, 68, 15, 21, 147, 48, 23, 1, 39, 84, 93, 58, 60, 22, 30, 32, 46, 3, 29, 5, 21, 10, 34, 112, 53, 96, 19, 7, 121, 47, 21, 3, 21, 46, 7, 10, 37, 2, 17, 73, 2, 39, 38, 19, 41, 38, 18, 49, 26, 74, 32, 36, 56, 47, 71, 20, 39, 61, 10, 7, 16, 37, 38, 21, 28, 140, 35, 39, 81, 25, 43, 9, 38, 56, 31, 1, 75, 99, 44, 1, 72, 69, 45, 9, 141, 32, 32, 8, 42, 13, 26, 31, 65, 19, 32, 40, 49, 61, 6, 4, 49, 8, 98, 6, 42, 21, 13, 62, 46, 2, 13, 3, 22, 16, 9, 9, 13, 70], \"z\": [942.3399999999999, 918.9799999999999, 1759.5, 397.11999999999995, 1468.1199999999997, 430.15, 1018.7100000000003, 383.03000000000003, 417.37999999999994, 683.1299999999994, 1118.99, 325.9599999999999, 871.5399999999998, 1050.8899999999999, 135.17999999999995, 1881.6999999999998, 1289.1500000000003, 504.20000000000005, 147.12, 380.64000000000004, 343.2300000000001, 841.6399999999999, 552.57, 1463.0399999999995, 703.4700000000001, 309.05000000000007, 1158.2699999999995, 1351.0900000000001, 380.46999999999997, 188.14, 347.29999999999995, 509.57999999999976, 246.0, 1662.3, 594.0, 1301.4399999999998, 164.23000000000002, 176.97, 929.9500000000003, 694.0499999999998, 105.10000000000001, 409.90000000000003, 606.2799999999999, 1012.9000000000003, 114.14, 876.29, 683.9000000000001, 604.51, 1407.29, 1843.0, 1042.0700000000002, 1382.8400000000004, 329.84999999999997, 266.39000000000004, 771.9099999999996, 160.18, 1194.7500000000002, 135.95, 452.23999999999995, 372.21999999999997, 97.5, 1215.6200000000001, 545.0, 409.50000000000006, 503.76, 414.75999999999993, 902.2200000000001, 200.72, 1197.94, 534.8500000000001, 149.05, 81.57, 1311.6200000000008, 789.8899999999996, 204.0, 689.9000000000001, 936.1499999999997, 659.6800000000001, 1247.5, 799.4800000000001, 996.5199999999999, 642.77, 886.6300000000001, 881.07, 908.46, 676.9900000000001, 305.28, 629.31, 656.6800000000002, 1201.96, 271.4, 248.61, 1119.4900000000005, 430.9000000000001, 115.46000000000002, 344.0, 919.61, 729.2700000000001, 220.09999999999997, 303.75, 319.82, 459.83, 1708.8600000000006, 74.4, 207.35999999999999, 243.94, 1098.48, 59.5, 1524.0700000000004, 766.84, 485.19000000000005, 984.9099999999996, 1124.9999999999993, 922.3900000000002, 259.16999999999996, 64.0, 1039.2999999999997, 962.3900000000001, 423.71999999999997, 307.0899999999999, 614.77, 228.91, 712.8000000000001, 1676.0599999999997, 486.22, 971.76, 1721.5699999999993, 1201.0600000000004, 91.8, 1644.9899999999996, 1021.4799999999999, 791.3300000000002, 712.88, 116.01000000000002, 426.8099999999999, 353.65000000000003, 492.8400000000001, 282.45, 121.17999999999999, 1539.6900000000003, 114.60000000000001, 260.68, 911.9400000000002, 117.88000000000001, 60.7, 870.09, 869.4599999999999, 250.26000000000002, 353.47999999999996, 1197.4199999999998, 780.5799999999998, 1518.4300000000003, 133.62000000000003, 62.64, 819.29, 358.0, 605.1200000000001, 727.2700000000001, 680.8300000000002, 663.6500000000001, 270.40000000000003, 121.74000000000001, 430.5, 501.12, 465.6799999999999, 711.41, 390.65999999999997, 0.0, 698.5799999999999, 292.3199999999999, 557.6200000000001, 178.25999999999988, 276.56000000000006, 138.97999999999996, 590.93, 258.4, 542.73, 126.3, 814.8600000000001, 1047.84, 93.66, 578.9399999999999, 87.4, 2089.8500000000004, 360.0, 618.0899999999998, 15.0, 1367.6100000000001, 1083.63, 598.57, 1555.3199999999993, 578.6600000000001, 640.76, 1491.7000000000003, 567.36, 199.48, 787.85, 675.3, 740.3999999999999, 1140.9299999999996, 350.9, 795.12, 341.36, 233.76, 247.31999999999996, 910.7199999999998, 373.94, 389.2800000000001, 743.5300000000003, 674.7, 768.2400000000001, 431.25999999999993, 992.5000000000002, 2.1316282072803006e-14, 56.160000000000004, 378.64, 772.8999999999997, 1019.7600000000003, 572.5599999999997, 627.1500000000001, 797.96, 544.0799999999999, 1325.2899999999997, 1539.1799999999998, 621.2300000000002, 75.0, 252.48999999999998, 572.4509999999999, 988.9100000000001, 213.55000000000004, 1390.5, 712.5000000000001, 640.83, 221.05999999999995, 140.35, 1624.2099999999998, 582.6, 218.46999999999994, 1006.8000000000001, 648.6899999999998, 1269.0999999999995, 534.24, 196.88999999999996, 296.64000000000004, 1104.2300000000002, 291.88, 2043.7200000000003, 1007.3499999999997, 1737.8199999999997, 183.44, 1445.0000000000002, 674.6800000000002, 297.95000000000005, 1083.71, 165.0, 417.53999999999996, 1441.529999999999, 140.34000000000003, 1122.4099999999999, 575.4000000000001, 449.52, 1215.82, 1990.1199999999994, 617.93, 1146.96, 1136.7700000000002, 292.0, 216.84999999999997, 295.93, 979.7200000000001, 205.09999999999997, 152.20000000000002, 891.1200000000002, 1389.4100000000003, 659.4399999999998, 110.8, 125.80000000000001, 680.1800000000001, 628.78, 307.76, 210.30999999999983, 1280.85, 605.8400000000001, 291.4099999999999, 626.9899999999999, 682.41, 916.1199999999999, 584.0600000000001, 174.37000000000003, 1799.3299999999988, 777.5300000000001, 647.7400000000006, 240.22000000000006, 373.74999999999994, 294.4, 732.0699999999997, 1658.2999999999988, 467.03999999999996, 347.0, 379.65000000000003, 1117.1300000000003, 247.95999999999995, 396.96999999999997, 167.4200000000001, 693.3200000000002, 428.88999999999993, 164.34, 280.53999999999996, 678.0099999999996, 1158.2000000000003, 544.18, 213.85, 672.4400000000002, 1624.0200000000002, 3021.77, 1071.0300000000002, 941.6199999999999, 810.4999999999998, 122.64000000000001, 1033.3400000000001, 519.44, 252.1, 1670.22, 94.2, 1095.08, 932.9700000000004, 382.13999999999993, 879.08, 84.65000000000002, 305.0199999999998, 218.55, 349.70000000000016, 396.9199999999999, 827.83, 910.0, 172.25, 1466.8700000000006, 151.3, 711.8600000000001, 180.48000000000002, 1432.2600000000002, 1041.68, 799.8999999999999, 524.14, 1079.6600000000003, 333.4800000000001, 1016.1399999999999, 752.5999999999998, 491.86, 216.9, 666.33, 1340.1499999999996, 1156.36, 948.2499999999998, 1647.2599999999998, 1186.2800000000002, 659.41, 286.78999999999996, 1070.65, 1689.4599999999998, 344.99999999999994, 178.7, 360.01, 911.9999999999992, 2462.7899999999995, 309.04, 348.79999999999995, 1047.68, 195.54999999999995, 688.8600000000002, 324.79999999999995, 924.5999999999999, 256.38, 1747.66, 385.64, 632.0000000000001, 957.6600000000001, 1698.9399999999998, 412.0499999999998, 209.49000000000004, 40.949999999999996, 834.57, 361.62, 312.98, 847.6100000000004, 1255.0, 1537.95, 1586.8099999999995, 1056.94, 216.16999999999996, 1240.0000000000005, 501.56, 145.67, 1015.2900000000002, 381.70000000000005, 122.69999999999999, 117.24000000000001, 1281.53, 1131.28, 781.3000000000002, 243.56000000000003, 605.63, 416.9, 632.97, 535.9699999999999, 311.15999999999997, 388.52000000000004, 332.63999999999993, 613.9499999999999, 272.04, 1212.8400000000001, 351.13000000000005, 616.6499999999999, 223.85000000000002, 348.99, 464.56999999999994, 337.3399999999999, 1230.9300000000003, 608.7899999999998, 71.66, 556.7499999999999, 839.1400000000002, 561.57, 90.6, 728.5600000000001, 378.5899999999999, 598.1999999999999, 230.22, 169.55, 190.25000000000009, 413.59, 196.79, 869.8700000000001, 200.14000000000001, 488.03000000000003, 320.46000000000004, 1266.0799999999997, 850.6299999999999, 76.8, 1383.4899999999998, 2030.33, 529.73, 962.1899999999999, 473.02, 505.18000000000006, 917.34, 1398.9600000000005, 642.8000000000001, 584.0699999999998, 327.7, 104.82000000000002, 467.65999999999997, 512.02, 1428.0200000000002, 1554.4799999999989, 152.2, 1659.75, 1290.0099999999998, 746.3600000000001, 225.35999999999993, 260.25, 92.46, 725.6400000000001, 1188.3199999999997, 374.69999999999993, 139.54, 942.2599999999998, 122.46999999999997, 499.41999999999996, 1049.3700000000003, 375.09999999999997, 45.599999999999994, 181.66999999999996, 161.0, 442.8499999999999, 147.34999999999997, 194.9, 1314.7300000000002, 1260.3300000000002, 594.1600000000001, 80.19999999999999, 688.6, 1377.92, 1382.7400000000002, 90.0, 419.58000000000004, 643.6300000000001, 709.7099999999996, 637.5000000000001, 1123.86, 590.3399999999999, 982.3800000000005, 415.81999999999994, 920.0499999999996, 879.0300000000003, 115.8, 3148.2, 468.4, 658.6400000000001, 611.0900000000001, 400.4300000000002, 507.66000000000014, 2445.9100000000008, 1631.7700000000002, 574.8399999999999, 363.78999999999996, 450.84000000000003, 134.46, 554.46, 452.89, 2018.91, 853.3900000000001, 335.52, 663.4999999999999, 688.0400000000001, 161.02999999999997, 218.78000000000003, 151.73999999999998, 1070.48, 1000.2299999999997, 1839.3, 169.48000000000002, 89.94, 975.23, 1050.1200000000001, 1450.6, 1447.5100000000007, 490.86, 890.3400000000005, 1474.0600000000006, 120.0, 1163.4499999999998, 1279.0899999999997, 437.96000000000004, 559.9700000000001, 1019.3899999999996, 578.4500000000002, 1910.0100000000004, 151.23, 911.2599999999999, 1046.5599999999993, 154.7, 1284.0599999999997, 43.2, 632.04, 2083.4199999999996, 1611.5899999999995, 120.0, 508.58, 574.2600000000001, 462.65999999999997, 866.3099999999998, 351.45, 1614.9100000000008, 607.7100000000002, 889.9300000000002, 108.97999999999999, 1021.5800000000002, 133.50000000000006, 163.62, 666.9399999999999, 225.77000000000012, 882.5800000000002, 161.20000000000002, 348.1, 202.6800000000001, 626.07, 1247.6899999999998, 202.11, 999.7199999999998, 487.99, 559.7, 1426.3100000000002, 1434.7200000000003, 156.75, 2111.0799999999995, 1908.2499999999998, 761.3300000000002, 1485.1300000000003, 490.22, 385.87, 813.11, 322.08, 363.34000000000003, 1372.8, 89.06, -43.400000000000006, 2357.6800000000003, 1545.1400000000006, 1400.8800000000003, 1163.2300000000005, 375.35, 662.5900000000001, 264.44000000000005, 1837.9199999999996, 383.34, 529.62, 598.7599999999999, 461.19000000000005, 234.34, 537.71, 799.8199999999997, 1307.8100000000002, 279.05, 321.91999999999996, 165.75000000000003, 1047.4300000000003, 139.56, 123.79999999999998, 356.85, 190.30999999999997, 673.2599999999995, 1368.1799999999994, 276.41999999999996, 1267.41, 438.49, 1055.35, 330.45, 174.37, 270.6, 974.54, 241.09000000000003, 364.22, 1812.6200000000006, 355.5600000000001, 388.2499999999999, 537.48, 996.26, 1461.6499999999999, 765.6200000000001, 186.23000000000002, 859.27, 324.14000000000004, 0.0, 1080.7600000000004, 1524.4600000000005, 227.39, 859.7100000000011, 168.63, 138.6, 114.11, 157.05, 617.9900000000001, 379.82999999999987, 883.1500000000002, 221.97000000000003, 213.96000000000004, 1785.1499999999999, 601.5600000000001, 538.59, 869.3499999999999, 225.84999999999997, 671.96, 1006.9799999999998, 609.8500000000001, 443.6, 110.46, 96.12, 780.4599999999999, 654.5999999999998, 114.18000000000002, 1930.15, 838.2700000000001, 247.14999999999998, 285.73999999999995, 107.95, 637.89, 1258.3800000000003, 195.24999999999997, 1736.3999999999994, 604.7499999999999, 2543.24, 498.95, 628.3799999999999, 358.61, 2114.3299999999995, 582.0500000000001, 318.1699999999999, 1096.6699999999998, 606.1300000000002, 917.07, 160.19, 867.3800000000001, 329.6799999999999, 663.8100000000003, 187.91999999999996, 718.08, 380.0199999999999, 1164.55, 1289.9399999999998, 1400.3400000000004, 1088.53, 1167.16, 1311.7899999999997, 389.63999999999993, 563.15, 638.0500000000001, 738.9599999999998, 420.5, 1484.0599999999995, 255.90000000000003, 250.55, 254.10999999999996, 139.50000000000003, 139.26, 1011.9, -17.45, 730.8599999999999, 447.67999999999995, 289.99, 77.4, 679.4399999999998, 197.64000000000001, 745.0600000000001, 0.0, 214.14000000000001, 1272.11, 173.74, 157.7, 193.1399999999999, 353.2699999999999, 554.65, 193.39000000000004, 778.5, 657.8, 272.06999999999994, 507.2900000000001, 1127.7100000000003, 644.65, 197.13, 1698.3500000000001, 102.44999999999999, 511.34999999999985, 463.04999999999995, 645.6500000000001, 1311.3800000000006, 1165.6499999999996, 1352.0399999999993, 168.62000000000003, 125.79000000000002, 841.2000000000002, 266.76, 52.2, 721.95, 522.3799999999997, 1448.7200000000003, 706.1900000000002, 255.4, 589.7, 756.6400000000001, 765.3199999999999, 1862.0, 554.38, 1237.8500000000004, 655.7499999999999, 1366.38, 1228.3199999999995, 1414.9900000000005, 314.11000000000007, 1025.4399999999998, 277.79999999999995, 389.86000000000007, 1227.4300000000005, 258.83000000000004, 1264.8399999999997, 1610.1499999999996, 1316.0700000000004, 749.0999999999998, 223.88, 100.9, 290.82000000000005, 1066.5699999999995, 361.25, 311.69000000000005, 289.82, 336.16999999999985, 499.6799999999999, 684.9699999999999, 221.26999999999992, 598.9999999999999, 191.3199999999999, 463.8, 147.59, 1592.06, 114.77000000000002, 1314.45, 114.39, 279.94, 765.8599999999997, 213.26999999999998, 326.4, 233.23000000000005, 540.98, 490.52, 502.08999999999975, 308.94000000000005, 423.0399999999996, 260.16999999999996, 125.58000000000003, 456.26, 905.0399999999995, 377.01, 469.0, 1051.9499999999996, 627.13, 518.28, 668.14, 252.72999999999996, 465.55, 665.5899999999997, 537.0, 380.5699999999998, 1727.1700000000005, 697.79, 302.09999999999997, 303.0899999999999, 987.8599999999999, 760.5899999999999, 1744.7600000000004, 553.3599999999998, 982.0699999999997, 612.4300000000001, 748.8700000000002, 773.0300000000002, 487.34999999999985, 1140.27, 476.96, 1364.6999999999996, 219.39, 248.07999999999996, 410.48, 310.03, 703.3599999999998, 1407.7300000000002, 970.2499999999999, 1567.4799999999998, 340.11000000000007, 1352.7500000000002, 1550.13, 244.8, 343.8199999999999, 457.71999999999997, 1612.1299999999994, 184.19, 406.53000000000003, 1419.5400000000009, 977.9300000000002, 982.4199999999998, 1387.99, 1282.4500000000005, 498.74, 1194.7300000000005, 301.28999999999996, 520.8, 329.25, 240.26999999999992, 961.4899999999999, 401.4000000000001, 304.4699999999999, 843.0499999999997, 106.56, 224.14000000000007, 680.2799999999999, 406.76, 310.62000000000006, 411.40999999999997, 1044.3200000000004, 499.32, 656.4399999999998, 193.64, 1268.6999999999998, 927.8400000000003, 648.8299999999998, 420.29999999999995, 867.62, 894.41, 615.99, 96.6, 1219.4, 612.0600000000001, 1412.320000000001, 1056.5399999999997, 764.3399999999999, 1685.57, 316.68, 631.57, 356.0, 740.7800000000001, 915.2999999999996, 300.36000000000007, 890.8499999999999, 1780.77, 254.82000000000002, 156.50999999999996, 393.74000000000007, 1506.1200000000001, 1717.36, 408.8, 2298.2000000000003, 721.9399999999998, 716.5700000000003, 609.1899999999998, 135.31000000000003, 255.89999999999998, 240.55, 485.24, 935.1000000000004, 635.04, 496.4399999999999, 680.3000000000001, 1174.3499999999997, 205.3, 921.1000000000001, 52.0, 551.54, 312.62, 267.13, 602.9699999999998, 162.2899999999999, 208.75000000000003, 1005.5, 714.96, 173.97000000000003, 557.5699999999998, 2020.52, 391.75999999999993, 364.5, 476.58000000000004, 367.69000000000005, 158.03999999999996, 277.05000000000007, 427.92999999999995, 913.1900000000004, 602.5100000000001, 446.94000000000005, 2007.4, 168.0, 1233.3599999999997, 1682.36, 316.88, 1515.7299999999996, 231.86, 288.17999999999995, 1339.6299999999999, 815.7699999999999, 666.7, 626.7699999999999, 426.60999999999996, 1346.3800000000003, 774.8999999999999, 508.8000000000001, 135.86, 950.3599999999996, 43.5, 93.78, 364.89999999999975, 171.19, 417.86999999999983, 997.4800000000004, 149.29000000000005, 156.57999999999998, 383.67999999999995, 971.2200000000001, 429.84, 538.73, 161.64, 234.60000000000002, 126.14, 334.53000000000014, 511.88000000000005, 438.46, 504.50000000000006, 469.47999999999985, 371.56, 1465.2, 454.10999999999984, 1441.4199999999996, 91.32000000000001, 1090.03, 659.4599999999999, 1259.7, 1131.5600000000004, 52.83000000000001, 62.43, 343.49999999999994, 398.84, 412.00999999999993, 440.0, 148.44, 746.9199999999996, 538.46, 213.30000000000004, 85.13000000000002, 292.7199999999999, 575.63, 436.05999999999995, 437.22999999999985, 279.77, 473.65, 722.7400000000001, 173.15999999999997, 186.01000000000002, 758.2899999999998, 1375.7100000000003, 650.43, 607.45, 940.6700000000002, 348.5999999999999, 682.9100000000001, 722.6099999999999, 913.6800000000002, 388.58, 199.8, 1343.3400000000001, 315.71999999999997, 235.68, 761.74, 1083.6300000000003, 48.480000000000004, 216.39000000000001, 1198.23, 1093.68, 112.46, 1568.3900000000003, 195.15, 747.0310000000003, 336.40000000000003, 1524.4, 1158.7700000000002, 301.03, 588.1300000000001, 1504.56, 675.8000000000001, 1180.3999999999999, 243.55, 724.76, 223.36, 425.31999999999994, 612.0099999999998, 646.3000000000001, 337.74, 877.4399999999999, 922.5300000000002, 748.5000000000001, 30.0, 306.45000000000005, 1552.0099999999998, 138.14000000000001, 358.63000000000005, 301.32000000000005, 677.69, 323.69, 657.23, 352.70000000000005, 781.2799999999999, 1333.6800000000003, 946.3599999999998, 193.75, 254.1, 239.76000000000002, 191.04000000000002, 309.6499999999999, 1001.8100000000001, 1072.3600000000001, 346.75, 330.8799999999998, 1118.8100000000004, 598.7300000000001, 507.0799999999998, 415.2500000000001, -134.8, 1108.3800000000003, 1339.45, 1121.2099999999998, 449.12000000000006, 154.88000000000002, 784.4600000000004, 34.8, 1071.24, 182.95999999999998, 974.0399999999995, 149.30999999999995, 455.67, 714.4200000000001, 205.25, 583.75, 1048.67, 315.05999999999995, 581.83, 635.6800000000001, 270.8, 241.62000000000003, 333.56, 246.3, 220.84999999999997, 1604.4400000000003, 948.9599999999999, 610.0100000000001, 2207.4, 884.1400000000002, 699.0800000000002, 1042.1899999999998, 415.82, 784.5799999999999, 903.9000000000001, 399.2099999999999, 1145.4299999999992, 1801.14, 1842.7300000000005, 2100.6000000000004, 570.96, 885.4699999999999, 1649.36, 636.14, 547.7, 747.7599999999999, 954.0899999999996, 117.47, 391.97999999999996, 1020.7400000000001, 345.65999999999997, 1209.1000000000004, 130.74, 389.27, 238.85000000000002, 110.80000000000001, 712.2399999999997, 297.0, 68.84, 1769.7800000000002, 895.1300000000002, 230.52999999999994, 354.0899999999999, 360.9299999999999, 440.78, 396.47999999999996, 379.34999999999997, 181.09, 141.26999999999998, 1384.6799999999998, 351.1099999999999, 363.8799999999999, 164.67999999999998, 639.89, 426.63000000000017, 1107.4600000000003, 145.35, 404.58, 337.43999999999994, 1708.2400000000002, 955.2400000000001, 364.7199999999999, 669.57, 806.5699999999998, 428.88999999999993, 104.35, 470.7600000000001, 845.6399999999999, 418.8299999999999, 582.8999999999999, 371.01, 1054.7299999999996, 1098.7800000000002, 2398.8599999999997, 1037.4200000000003, 168.12, 158.03000000000003, 792.11, 41.989999999999995, 427.07000000000005, 1044.7799999999993, 478.7800000000001, 992.7099999999999, 1415.2899999999997, 653.1299999999998, 211.87999999999994, 408.90000000000003, 851.0100000000001, 719.81, 251.23999999999992, 439.66, 236.09000000000006, 852.12, 548.9399999999999, 758.9199999999994, 454.3299999999999, 1313.5500000000006, 3166.4, 1147.3700000000001, 773.9900000000004, 1340.7000000000003, 243.69000000000005, 362.06000000000006, 1511.9499999999996, 783.8999999999999, 664.85, 1153.6199999999992, 1521.8700000000001, 852.15, 326.24000000000007, 1352.0000000000002, 176.60000000000002, 1317.6200000000003, 1119.31, 779.36, 17.0, 1041.83, 2005.6300000000003, 731.8999999999999, 1245.9599999999998, 1842.1400000000003, 1429.6399999999999, 302.36, 108.38, 816.1, 195.74, 423.36, 1294.14, 684.42, 307.78, 656.2500000000001, 603.6900000000002, 709.3800000000002, 635.41, 703.7700000000001, 620.4, 375.0, 280.52000000000004, 1824.2300000000002, 644.2400000000001, 1009.4500000000004, 802.5300000000002, 1822.9700000000003, 73.2, 1140.21, 1406.5699999999993, 1009.5500000000001, 1037.5899999999997, 331.95, 197.90000000000003, 215.83, 305.5400000000001, 338.7100000000001, 1155.5400000000002, 529.41, 981.8600000000001, 215.47999999999996, 215.08, 400.681, 589.15, 405.71000000000004, 761.38, 537.06, 394.38, 664.2600000000001, 2262.62, 542.77, 681.19, 159.0, 242.35000000000002, 864.86, 1295.3000000000004, 1010.5999999999999, 983.2299999999998, 422.13, 858.4099999999996, 432.19999999999993, 372.9, 409.09999999999974, 1352.3600000000008, 152.94, 1800.0700000000006, 1035.45, 746.8299999999999, 861.8899999999998, 667.6499999999999, 411.7000000000001, 537.8299999999999, 2062.06, 823.9699999999996, 280.90000000000003, 1328.5500000000004, 598.1999999999998, 212.82, 361.2199999999999, 2560.0, 686.6700000000001, 616.26, 274.15000000000003, 1341.6499999999999, 328.15, 326.74999999999994, 428.6799999999998, 510.5400000000001, 242.21, 151.05, 549.0699999999998, 322.41, 370.47999999999996, 575.4100000000001, 887.6500000000001, 1100.4699999999996, 494.44000000000005, 395.79999999999995, 658.88, 1460.3699999999994, 896.6600000000001, 652.0699999999996, 109.36000000000001, 707.0399999999997, 1540.4200000000005, 327.3, 804.4899999999994, 497.42999999999984, 367.92999999999984, 473.0299999999997, 977.5200000000007, 1780.5900000000001, 668.3599999999996, 584.4999999999999, 555.8899999999999, 317.20000000000016, 1362.27, 1412.0600000000004, 1631.1500000000003, 408.57, 303.93, 443.0500000000001, 163.07, 214.64999999999998, 151.83, 262.20000000000005, 126.25, 210.34999999999985, 1026.9899999999998, 675.2700000000002, 959.4799999999999, 346.12, -2.95, 284.55, 300.85, 287.4, 184.26000000000002, 798.3499999999997, 381.2, 638.7700000000002, 230.51000000000002, 2.8999999999941792, 259.0099999999998, 266.97, -8.15, 814.7199999999996, 102.0, 1383.7000000000003, 74.9, 544.3, 331.0, 300.83, 769.2899999999995, 220.61999999999998, 363.65, 492.19999999999993, 731.5, 1329.6600000000005, 684.4100000000003, 1562.2200000000003, 400.86, 1421.4300000000005, 484.37999999999977, 777.6, 90.30000000000001, 874.5899999999999, 101.7, 480.9200000000002, 215.08, 228.06000000000003, 244.41, 1244.5900000000001, 593.75, 539.02, 1388.81, 119.62, 922.12, 641.5500000000001, 285.89, 281.84999999999997, 816.5099999999998, 511.12000000000006, 1077.74, 614.01, 124.2, 1285.22, 999.6999999999999, 648.4099999999997, 451.43999999999977, 313.61999999999995, 908.03, 459.2399999999999, 213.5, 330.0299999999999, 181.08999999999997, 360.1600000000003, 250.15, 90.04000000000002, 813.5200000000001, 244.79999999999995, 494.7299999999999, 482.47, 1187.6599999999999, 618.59, 500.42000000000013, 178.96000000000004, 813.4800000000002, 810.5699999999999, 322.8, 417.72999999999985, 1124.5900000000001, 1676.4699999999998, 1169.3799999999999, 231.10000000000002, 679.83, 270.85999999999996, 518.4200000000001, 1166.9200000000003, 594.9699999999999, 810.45, 118.98, 570.1299999999998, 306.71999999999997, 1692.27, 319.61000000000007, 1558.7199999999998, 183.70000000000002, 1770.3400000000004, 1027.9999999999998, 324.24, 1260.8600000000001, 303.26, 208.62999999999997, 482.0099999999998, 657.9, 531.35, 656.6300000000001, 1651.0299999999995, 301.71999999999997, 155.23999999999998, 589.15, 702.79, 603.7499999999998, 650.51, 417.59999999999997, 0.0, 826.96, 1515.8999999999992, 623.93, 1764.7199999999998, 223.92, 369.34, 772.84, 316.61999999999995, 1501.3799999999997, 458.0399999999999, 744.9000000000003, 171.59, 654.9200000000001, 388.2799999999999, 226.35000000000005, 245.94, 425.18999999999994, 107.6, 597.4799999999999, 80.8, 1520.1199999999997, 243.83999999999997, 305.62, 332.29999999999995, 536.99, 801.4899999999996, 1121.59, 288.42, 547.0699999999999, 417.06000000000006, 1446.9500000000003, 497.61000000000007, 460.64, 775.1800000000001, 341.70000000000005, 128.5, 325.90999999999997, 1106.5299999999997, 180.85000000000002, 251.87, 1260.4399999999998, 214.32000000000002, 193.44, 281.42, 342.45, 144.91, 328.4, 35.400000000000006, 473.13999999999976, 151.65, 481.35, 207.73999999999998, 805.6199999999998, 680.02, 0.0, 432.0, 705.1199999999998, 429.84, 471.50999999999965, 194.88, 496.8399999999997, 219.13999999999996, 444.4599999999999, 187.6900000000003, 1706.88, 373.24, 579.7700000000002, 364.14000000000004, 208.45999999999995, 621.6800000000001, 576.2600000000003, 1043.3399999999997, 169.79000000000005, 739.4999999999995, 543.0500000000001, 1295.3900000000006, 380.55000000000007, 161.94, 530.08, 950.93, 262.68, 435.02, 1161.2700000000002, 1178.56, 1262.7500000000014, 167.61, 20.8, 2085.0800000000004, 292.34000000000003, 117.35000000000001, 507.04999999999995, 234.17, 2148.4700000000003, 439.4300000000001, 650.4100000000002, 232.20999999999987, 344.33, 384.06, 1873.2, 126.12, 1133.25, 1601.86, 1427.46, 484.82000000000005, 1487.78, 1412.9399999999996, 781.7800000000001, 877.4300000000001, 185.46, 270.90000000000003, 565.5799999999997, 920.0999999999998, 71.0, 95.85, 357.77, 716.0, 146.87, 380.35, 1030.1399999999999, 734.57, 1253.2199999999996, 112.40000000000003, 449.7299999999999, 1065.7700000000002, 1044.3800000000003, 897.43, 339.44, 1100.9, 864.3199999999998, 413.75000000000006, 496.37999999999994, 1353.8300000000004, 1179.8899999999999, 1421.5899999999992, 859.3500000000003, -112.35, 312.13999999999993, 813.7700000000001, 841.08, 378.2000000000001, 118.80000000000001, 285.5, 290.1600000000001, 1405.7799999999995, 2041.850000000001, 1088.1999999999994, 992.6800000000003, 971.74, 1621.7299999999998, 869.6799999999998, 248.60999999999999, 747.2199999999997, 806.8999999999997, 593.6099999999999, 138.32, 259.34999999999997, 424.99999999999994, 1139.7299999999998, 984.5699999999998, 749.78, 1679.6400000000003, 124.88, 213.77999999999997, 329.34000000000003, 251.69999999999996, 306.54999999999995, 1266.9699999999993, 1534.7300000000002, 293.1, 189.48999999999998, 816.8800000000006, 313.26, 1430.9400000000003, 780.3800000000001, 239.91999999999996, 144.0, 384.3999999999999, 249.74, 1674.46, 1013.01, 692.2200000000001, 342.63, 384.08, 204.24, 984.1199999999997, 114.23, 335.13, 354.15, 939.32, 318.76000000000005, 421.5200000000001, 190.88, 550.0600000000001, 916.1300000000002, 314.69, 1135.0399999999997, 954.8999999999997, 282.18999999999994, 318.65000000000003, 384.52, 353.8599999999999, 178.26, 272.44000000000005, 298.40999999999997, 239.99999999999997, 603.3699999999998, 1253.3600000000001, 562.8999999999997, 310.63999999999993, 317.61999999999995, 763.64, 111.98000000000002, 187.82999999999998, 1703.4100000000003, 153.92000000000004, 1064.1100000000001, 936.1600000000004, 525.2399999999998, 556.9499999999997, 131.78000000000006, 498.42, 669.1100000000001, 197.6300000000001, 1119.9299999999998, 82.75, 1384.8500000000001, 644.3, 2288.1299999999997, 2524.0200000000004, 1200.6199999999997, 700.8599999999999, 990.2300000000002, 523.11, 363.9, 175.2, 494.24999999999994, 243.36, 160.56999999999994, 537.74, 228.96, 1256.19, 587.15, 1740.0, 1393.06, 388.1399999999999, 127.85999999999999, 585.7900000000002, 488.2, 446.18, 423.8899999999998, 646.9200000000001, 203.2, 404.66, 65.4, 199.29000000000002, 336.40000000000003, 261.11000000000007, 2686.42, 784.11, 1259.56, 696.4099999999999, 653.3799999999999, 281.62000000000006, 967.2199999999998, 1214.7199999999996, 748.9399999999999, 1258.0600000000002, 778.0, 507.8399999999999, 463.4600000000001, 598.8300000000002, 663.6300000000003, 759.1699999999995, 100.8, 512.1200000000001, 265.76000000000005, 365.76000000000005, 303.16, 216.3, 541.53, 486.71999999999997, 1737.6999999999998, 316.49999999999994, 657.3, 452.63000000000005, 757.4599999999996, 662.9399999999999, 763.2800000000003, 137.0, 1125.0700000000002, 194.36999999999995, 506.51, 1249.3400000000006, 414.04, 376.63999999999993, 497.56000000000006, 272.21999999999997, 1138.0, 689.0999999999999, 558.9599999999999, 294.28999999999996, 308.48, 513.2, 208.65, 639.0199999999998, 768.0800000000002, 1839.0700000000004, 546.8100000000001, 721.9599999999998, 1070.71, 652.7400000000001, 706.6999999999999, 888.86, 293.45000000000005, 223.36, 897.6200000000003, 98.42000000000002, 570.4, 645.9599999999999, 148.86, 909.9599999999999, 1487.6, 483.25999999999993, 541.4599999999999, 854.9500000000002, 167.61999999999998, 1107.3799999999999, 454.0099999999999, 226.75, 362.8999999999999, 440.1999999999999, 1227.3000000000002, 1240.2000000000003, 993.1799999999995, 388.7900000000001, 161.67000000000002, -1165.2999999999997, 193.42000000000007, 390.0699999999999, 329.6, 971.5800000000002, 81.44, 1336.1, 527.05, 843.4799999999997, 75.75000000000001, 528.33, 1242.3399999999997, 265.93000000000006, 547.06, 621.6600000000001, 712.2900000000002, 133.06, 1789.55, 861.74, 166.07999999999998, 1175.88, 1674.69, 485.87999999999994, 196.0, 1788.27, 604.64, 728.1599999999999, 347.74999999999994, 1284.0800000000002, 551.0400000000001, 1383.2700000000004, 1992.1100000000006, 184.39999999999998, 239.41, 733.4399999999999, 187.02, 283.12000000000006, 765.34, 1719.7200000000003, 798.7399999999999, 385.1, 522.91, 1195.94, 3276.4, 995.6500000000002, 1042.55, 878.2000000000002, 692.1899999999998, 700.63, 337.4899999999999, 168.24, 355.11, 64.65, 834.9899999999998, 287.59, 712.78, 818.8200000000002, 271.20000000000005, 245.81, 182.76999999999998, 642.17, 283.4699999999997, 131.94000000000003, 278.74, 1117.9, 106.1, 323.03999999999996, 697.9000000000002, 780.4300000000003, 1199.01, 512.31, 546.0399999999998, 732.1600000000001, 36.55999999999999, 387.6799999999999, 298.4, 398.7, 35.400000000000006, 155.3700000000001, 350.63999999999993, 110.21, 338.80000000000007, 2033.1, 901.2000000000003, 114.34, 1393.7900000000002, 597.5000000000002, 325.7, 622.7500000000002, 428.1799999999999, 1764.3600000000004, 379.45000000000005, 671.7699999999994, 717.4499999999994, 190.18999999999997, 899.6099999999999, 111.35, 525.78, 244.10000000000002, 97.99999999999997, 256.32, 152.06, 110.38000000000001, 178.91999999999993, 800.24, 366.23, 411.6, 336.4299999999999, 341.2799999999999, 1304.04, 826.5200000000003, 397.29, 212.54000000000005, 834.5, 1740.4799999999998, 408.36, 1331.5699999999997, 704.25, 145.79, 389.8399999999999, 1983.5800000000004, 304.56, 77.50000000000001, 176.68, 472.12000000000006, 990.8400000000003, 111.67999999999998, 508.4599999999999, 102.82999999999998, 471.6999999999999, 1098.43, 337.04, 288.14, 737.8100000000001, 152.68000000000006, 634.9499999999999, 20.8, 191.17, 629.6899999999999, 382.05999999999995, 417.23, 249.71999999999989, 444.68, 2116.19, 166.42000000000002, 120.03, 523.0, 122.13999999999996, 38.45, 115.30999999999999, 220.69999999999996, 97.97000000000004, 422.8800000000001, 730.4000000000001, 405.6199999999999, 357.20000000000005, 165.04999999999998, 559.5099999999996, 189.39999999999995, 297.07000000000005, 170.16, 296.71, 2119.4099999999994, 814.0, 318.0, 396.3300000000001, 1231.5, 343.45, 703.3699999999997, 87.52999999999999, 167.66999999999996, 2083.42, 168.31000000000003, 223.65, 754.6400000000002, 113.48000000000002, 206.05, 352.69, 320.71999999999997, 673.1000000000001, 589.4399999999999, 206.83000000000007, 348.7299999999999, 1045.7400000000002, 681.9100000000001, 761.8299999999998, 1000.1599999999997, 160.35, 179.33999999999997, 612.08, 566.5800000000002, 653.3499999999999, 399.18999999999994, 347.82000000000005, 734.94, 451.7500000000001, 638.0600000000002, 1612.7899999999997, 394.70000000000005, 1355.51, 202.65000000000003, 980.3100000000002, 1208.5099999999995, 2106.84, 104.0, 1314.1699999999994, 1573.4099999999996, 382.79999999999995, 49.8, 1998.49, 1084.34, 957.9699999999999, 895.9999999999999, 689.1300000000003, 163.8, 517.36, 139.10000000000002, 600.07, 299.34000000000003, 481.75, 621.75, 1033.31, 443.0, 769.1999999999999, 582.47, 882.24, 987.0999999999998, 422.58000000000004, 596.0999999999999, 783.02, 95.34, 526.6699999999996, 103.3, 2338.600000000001, 324.23999999999995, 149.48, 1211.0800000000002, 801.5100000000001, 0.0, 238.95000000000005, 204.0, 1.2434497875801753e-14, 323.3599999999999, 97.63, 173.89999999999998, 176.59999999999997, 1837.2799999999997]}, {\"hoverlabel\": {\"namelength\": 0}, \"hovertemplate\": \"Cluster_Id=3<br>Recency=%{x}<br>Frequency=%{y}<br>Amount=%{z}\", \"legendgroup\": \"Cluster_Id=3\", \"marker\": {\"color\": \"#ab63fa\", \"symbol\": \"circle\"}, \"mode\": \"markers\", \"name\": \"Cluster_Id=3\", \"scene\": \"scene\", \"showlegend\": true, \"type\": \"scatter3d\", \"x\": [2, 4, 25, 63, 3, 3, 11, 15, 8, 0, 0, 8, 266, 32, 0, 0, 10, 28, 25, 3, 29, 3, 17, 0, 4, 44, 11, 25, 6, 1, 16, 1, 9, 0, 22, 2, 3, 8, 22, 6, 3, 16, 23, 4, 9, 1, 1, 1, 4, 8, 23, 8, 7, 9, 1, 0, 19, 8, 2, 3, 3, 3, 15, 10, 7, 0, 0, 8, 3, 9, 47, 21, 7, 45, 10, 8, 2, 4, 15, 18, 6, 24, 7, 16, 9, 2, 31, 8, 4, 50, 30, 4, 14, 1, 0, 15, 22, 6, 6, 10, 9, 3, 16, 39, 43, 22, 11, 4, 8, 36, 2, 1, 99, 31, 9, 8, 13, 4, 1, 1, 0, 14, 21, 1, 46, 8, 18, 8, 18, 35, 86, 4, 3, 30, 1, 7, 13, 42, 4, 3, 3, 11, 77, 2, 2, 29, 11, 32, 15, 23, 11, 2, 0, 10, 0, 150, 8, 3, 0, 12, 23, 29, 3, 57, 7, 0, 1, 3, 22, 24, 6, 29, 3, 22, 37, 2, 1, 18, 12, 21, 301, 30, 3, 4, 14, 11, 6, 25, 1, 1, 16, 14, 1, 2, 38, 11], \"y\": [316, 439, 551, 47, 308, 342, 409, 459, 422, 470, 380, 161, 170, 437, 310, 280, 705, 347, 265, 120, 329, 612, 447, 320, 500, 134, 314, 444, 394, 306, 427, 342, 130, 264, 59, 501, 346, 114, 338, 633, 353, 505, 291, 203, 111, 451, 277, 263, 604, 112, 285, 269, 533, 291, 353, 612, 631, 298, 558, 417, 367, 446, 114, 576, 359, 348, 501, 216, 205, 237, 392, 392, 506, 149, 317, 479, 563, 513, 400, 461, 451, 140, 218, 344, 278, 326, 358, 121, 212, 247, 519, 561, 306, 385, 523, 252, 674, 702, 330, 414, 429, 495, 302, 412, 280, 307, 547, 463, 560, 509, 9, 502, 176, 297, 662, 260, 319, 671, 298, 200, 474, 280, 80, 117, 588, 312, 402, 447, 632, 668, 358, 452, 718, 222, 344, 449, 325, 379, 289, 710, 547, 696, 418, 268, 322, 516, 297, 421, 487, 472, 546, 566, 407, 69, 487, 548, 424, 503, 414, 468, 419, 271, 272, 369, 417, 452, 565, 582, 319, 270, 286, 258, 395, 254, 278, 220, 690, 412, 313, 410, 312, 389, 696, 489, 297, 474, 363, 472, 90, 454, 162, 197, 299, 286, 245, 164], \"z\": [5583.620000000003, 3876.399999999998, 3986.2199999999953, 11581.8, 10930.259999999998, 9797.920000000013, 5613.429999999999, 7272.749999999996, 5684.610000000003, 3717.819999999998, 12432.279999999997, 8689.390000000003, 7741.47, 5893.319999999993, 6336.290000000001, 10510.000000000007, 3605.0799999999995, 3348.4799999999996, 5725.470000000003, 9803.960000000003, 5820.16, 2763.4100000000008, 3167.639999999999, 5315.919999999999, 10664.33999999999, 10736.47999999999, 5845.439999999999, 2916.45, 9537.919999999998, 5656.750000000002, 8910.609999999999, 5613.080000000015, 6703.3, 5030.5999999999985, 7792.36, 6216.069999999984, 6249.110000000003, 8025.0199999999995, 6389.800000000004, 8986.69, 7024.530000000005, 5639.149999999996, 6147.4000000000015, 6135.379999999998, 10464.85, 4435.789999999997, 4604.3099999999995, 4660.010000000002, 11216.74999999999, 12650.079999999996, 4595.809999999998, 4928.740000000004, 9167.820000000007, 4592.470000000003, 3471.9100000000008, 5811.559999999999, 2351.02, 4221.369999999997, 4075.349999999999, 2487.0200000000023, 3986.739999999999, 4709.22, 11341.100000000002, 9231.200000000004, 5107.379999999999, 3250.639999999998, 2005.0600000000063, 9451.539999999997, 5807.69, 4965.379999999999, 4236.339999999998, 7904.279999999997, 11020.260000000007, 7912.79, 7006.580000000002, 1872.2800000000025, 6763.15999999999, 2571.020000000001, 4277.659999999998, 7629.3799999999965, 9623.350000000022, 11117.050000000001, 6530.040000000007, 5303.969999999995, 4684.240000000001, 7521.169999999997, 6657.360000000006, 10327.109999999999, 7803.77, 5028.119999999999, 2766.499999999999, 8234.799999999992, 5927.859999999999, 3212.159999999999, 12396.459999999994, 5541.459999999999, 3967.779999999997, 4954.839999999991, 4109.97, 6745.359999999997, 10360.03999999999, 12433.339999999982, 5178.960000000001, 2628.9300000000026, 4834.200000000004, 5452.169999999996, 3000.360000000001, 3797.7899999999986, 2756.8199999999997, 3084.1699999999987, 12393.7, 5352.969999999997, 10217.480000000001, 6841.239999999998, 2607.8700000000067, 5423.150000000002, 3844.22, 3411.6900000000005, 9295.670000000007, 11895.570000000007, 8257.04000000001, 5450.960000000006, 8568.24, 8093.589999999999, 3043.4799999999987, 5040.000000000003, 2483.04, 3645.4299999999957, 6840.230000000009, 7076.279999999985, 7170.700000000005, 6694.310000000009, 2758.2500000000027, 5580.599999999999, 10454.04999999999, 1692.9799999999998, 6500.600000000003, 10183.820000000007, 7066.309999999998, 3754.2699999999986, 1510.060000000002, 6666.829999999986, 4392.419999999996, 8574.110000000002, 5594.780000000006, 3095.0399999999995, 4531.340000000004, 10380.429999999995, 10585.569999999985, 3198.2500000000027, 3127.820000000003, 3744.65, 8628.55, 8600.730000000005, 6204.459999999995, 1944.3200000000033, 11891.179999999997, 2611.58, 4455.729999999996, 4801.559999999999, 3925.919999999996, 6838.340000000002, 5022.259999999998, 6100.740000000002, 3457.7799999999975, 10736.109999999991, 5050.769999999997, 3947.8699999999994, 4509.37, 4737.1299999999965, 5739.460000000007, 4748.450000000001, 10097.369999999995, 5505.790000000001, 5367.800000000004, 5288.829999999997, 13110.019999999991, 3456.7000000000025, 3960.6299999999997, 3026.0799999999967, 5288.630000000009, 10158.539999999994, 4204.0999999999885, 2295.370000000001, 4393.6100000000015, 4161.139999999996, 6752.14, 2021.8200000000004, 9065.760000000002, 7925.319999999997, 8393.219999999996, 7490.170000000001, 6315.230000000003, 5361.02, 5192.100000000004, 7276.900000000001]}],\n",
              "                        {\"legend\": {\"tracegroupgap\": 0}, \"margin\": {\"t\": 60}, \"scene\": {\"domain\": {\"x\": [0.0, 1.0], \"y\": [0.0, 1.0]}, \"xaxis\": {\"title\": {\"text\": \"Recency\"}}, \"yaxis\": {\"title\": {\"text\": \"Frequency\"}}, \"zaxis\": {\"title\": {\"text\": \"Amount\"}}}, \"template\": {\"data\": {\"bar\": [{\"error_x\": {\"color\": \"#2a3f5f\"}, \"error_y\": {\"color\": \"#2a3f5f\"}, \"marker\": {\"line\": {\"color\": \"#E5ECF6\", \"width\": 0.5}}, \"type\": \"bar\"}], \"barpolar\": [{\"marker\": {\"line\": {\"color\": \"#E5ECF6\", \"width\": 0.5}}, \"type\": \"barpolar\"}], \"carpet\": [{\"aaxis\": {\"endlinecolor\": \"#2a3f5f\", \"gridcolor\": \"white\", \"linecolor\": \"white\", \"minorgridcolor\": \"white\", \"startlinecolor\": \"#2a3f5f\"}, \"baxis\": {\"endlinecolor\": \"#2a3f5f\", \"gridcolor\": \"white\", \"linecolor\": \"white\", \"minorgridcolor\": \"white\", \"startlinecolor\": \"#2a3f5f\"}, \"type\": \"carpet\"}], \"choropleth\": [{\"colorbar\": {\"outlinewidth\": 0, \"ticks\": \"\"}, \"type\": \"choropleth\"}], \"contour\": [{\"colorbar\": {\"outlinewidth\": 0, \"ticks\": \"\"}, \"colorscale\": [[0.0, \"#0d0887\"], [0.1111111111111111, \"#46039f\"], [0.2222222222222222, \"#7201a8\"], [0.3333333333333333, \"#9c179e\"], [0.4444444444444444, \"#bd3786\"], [0.5555555555555556, \"#d8576b\"], [0.6666666666666666, \"#ed7953\"], [0.7777777777777778, \"#fb9f3a\"], [0.8888888888888888, \"#fdca26\"], [1.0, \"#f0f921\"]], \"type\": \"contour\"}], \"contourcarpet\": [{\"colorbar\": {\"outlinewidth\": 0, \"ticks\": \"\"}, \"type\": \"contourcarpet\"}], \"heatmap\": [{\"colorbar\": {\"outlinewidth\": 0, \"ticks\": \"\"}, \"colorscale\": [[0.0, \"#0d0887\"], [0.1111111111111111, \"#46039f\"], [0.2222222222222222, \"#7201a8\"], [0.3333333333333333, \"#9c179e\"], [0.4444444444444444, \"#bd3786\"], [0.5555555555555556, \"#d8576b\"], [0.6666666666666666, \"#ed7953\"], [0.7777777777777778, \"#fb9f3a\"], [0.8888888888888888, \"#fdca26\"], [1.0, \"#f0f921\"]], \"type\": \"heatmap\"}], \"heatmapgl\": [{\"colorbar\": {\"outlinewidth\": 0, \"ticks\": \"\"}, \"colorscale\": [[0.0, \"#0d0887\"], [0.1111111111111111, \"#46039f\"], [0.2222222222222222, \"#7201a8\"], [0.3333333333333333, \"#9c179e\"], [0.4444444444444444, \"#bd3786\"], [0.5555555555555556, \"#d8576b\"], [0.6666666666666666, \"#ed7953\"], [0.7777777777777778, \"#fb9f3a\"], [0.8888888888888888, \"#fdca26\"], [1.0, \"#f0f921\"]], \"type\": \"heatmapgl\"}], \"histogram\": [{\"marker\": {\"colorbar\": {\"outlinewidth\": 0, \"ticks\": \"\"}}, \"type\": \"histogram\"}], \"histogram2d\": [{\"colorbar\": {\"outlinewidth\": 0, \"ticks\": \"\"}, \"colorscale\": [[0.0, \"#0d0887\"], [0.1111111111111111, \"#46039f\"], [0.2222222222222222, \"#7201a8\"], [0.3333333333333333, \"#9c179e\"], [0.4444444444444444, \"#bd3786\"], [0.5555555555555556, \"#d8576b\"], [0.6666666666666666, \"#ed7953\"], [0.7777777777777778, \"#fb9f3a\"], [0.8888888888888888, \"#fdca26\"], [1.0, \"#f0f921\"]], \"type\": \"histogram2d\"}], \"histogram2dcontour\": [{\"colorbar\": {\"outlinewidth\": 0, \"ticks\": \"\"}, \"colorscale\": [[0.0, \"#0d0887\"], [0.1111111111111111, \"#46039f\"], [0.2222222222222222, \"#7201a8\"], [0.3333333333333333, \"#9c179e\"], [0.4444444444444444, \"#bd3786\"], [0.5555555555555556, \"#d8576b\"], [0.6666666666666666, \"#ed7953\"], [0.7777777777777778, \"#fb9f3a\"], [0.8888888888888888, \"#fdca26\"], [1.0, \"#f0f921\"]], \"type\": \"histogram2dcontour\"}], \"mesh3d\": [{\"colorbar\": {\"outlinewidth\": 0, \"ticks\": \"\"}, \"type\": \"mesh3d\"}], \"parcoords\": [{\"line\": {\"colorbar\": {\"outlinewidth\": 0, \"ticks\": \"\"}}, \"type\": \"parcoords\"}], \"pie\": [{\"automargin\": true, \"type\": \"pie\"}], \"scatter\": [{\"marker\": {\"colorbar\": {\"outlinewidth\": 0, \"ticks\": \"\"}}, \"type\": \"scatter\"}], \"scatter3d\": [{\"line\": {\"colorbar\": {\"outlinewidth\": 0, \"ticks\": \"\"}}, \"marker\": {\"colorbar\": {\"outlinewidth\": 0, \"ticks\": \"\"}}, \"type\": \"scatter3d\"}], \"scattercarpet\": [{\"marker\": {\"colorbar\": {\"outlinewidth\": 0, \"ticks\": \"\"}}, \"type\": \"scattercarpet\"}], \"scattergeo\": [{\"marker\": {\"colorbar\": {\"outlinewidth\": 0, \"ticks\": \"\"}}, \"type\": \"scattergeo\"}], \"scattergl\": [{\"marker\": {\"colorbar\": {\"outlinewidth\": 0, \"ticks\": \"\"}}, \"type\": \"scattergl\"}], \"scattermapbox\": [{\"marker\": {\"colorbar\": {\"outlinewidth\": 0, \"ticks\": \"\"}}, \"type\": \"scattermapbox\"}], \"scatterpolar\": [{\"marker\": {\"colorbar\": {\"outlinewidth\": 0, \"ticks\": \"\"}}, \"type\": \"scatterpolar\"}], \"scatterpolargl\": [{\"marker\": {\"colorbar\": {\"outlinewidth\": 0, \"ticks\": \"\"}}, \"type\": \"scatterpolargl\"}], \"scatterternary\": [{\"marker\": {\"colorbar\": {\"outlinewidth\": 0, \"ticks\": \"\"}}, \"type\": \"scatterternary\"}], \"surface\": [{\"colorbar\": {\"outlinewidth\": 0, \"ticks\": \"\"}, \"colorscale\": [[0.0, \"#0d0887\"], [0.1111111111111111, \"#46039f\"], [0.2222222222222222, \"#7201a8\"], [0.3333333333333333, \"#9c179e\"], [0.4444444444444444, \"#bd3786\"], [0.5555555555555556, \"#d8576b\"], [0.6666666666666666, \"#ed7953\"], [0.7777777777777778, \"#fb9f3a\"], [0.8888888888888888, \"#fdca26\"], [1.0, \"#f0f921\"]], \"type\": \"surface\"}], \"table\": [{\"cells\": {\"fill\": {\"color\": \"#EBF0F8\"}, \"line\": {\"color\": \"white\"}}, \"header\": {\"fill\": {\"color\": \"#C8D4E3\"}, \"line\": {\"color\": \"white\"}}, \"type\": \"table\"}]}, \"layout\": {\"annotationdefaults\": {\"arrowcolor\": \"#2a3f5f\", \"arrowhead\": 0, \"arrowwidth\": 1}, \"coloraxis\": {\"colorbar\": {\"outlinewidth\": 0, \"ticks\": \"\"}}, \"colorscale\": {\"diverging\": [[0, \"#8e0152\"], [0.1, \"#c51b7d\"], [0.2, \"#de77ae\"], [0.3, \"#f1b6da\"], [0.4, \"#fde0ef\"], [0.5, \"#f7f7f7\"], [0.6, \"#e6f5d0\"], [0.7, \"#b8e186\"], [0.8, \"#7fbc41\"], [0.9, \"#4d9221\"], [1, \"#276419\"]], \"sequential\": [[0.0, \"#0d0887\"], [0.1111111111111111, \"#46039f\"], [0.2222222222222222, \"#7201a8\"], [0.3333333333333333, \"#9c179e\"], [0.4444444444444444, \"#bd3786\"], [0.5555555555555556, \"#d8576b\"], [0.6666666666666666, \"#ed7953\"], [0.7777777777777778, \"#fb9f3a\"], [0.8888888888888888, \"#fdca26\"], [1.0, \"#f0f921\"]], \"sequentialminus\": [[0.0, \"#0d0887\"], [0.1111111111111111, \"#46039f\"], [0.2222222222222222, \"#7201a8\"], [0.3333333333333333, \"#9c179e\"], [0.4444444444444444, \"#bd3786\"], [0.5555555555555556, \"#d8576b\"], [0.6666666666666666, \"#ed7953\"], [0.7777777777777778, \"#fb9f3a\"], [0.8888888888888888, \"#fdca26\"], [1.0, \"#f0f921\"]]}, \"colorway\": [\"#636efa\", \"#EF553B\", \"#00cc96\", \"#ab63fa\", \"#FFA15A\", \"#19d3f3\", \"#FF6692\", \"#B6E880\", \"#FF97FF\", \"#FECB52\"], \"font\": {\"color\": \"#2a3f5f\"}, \"geo\": {\"bgcolor\": \"white\", \"lakecolor\": \"white\", \"landcolor\": \"#E5ECF6\", \"showlakes\": true, \"showland\": true, \"subunitcolor\": \"white\"}, \"hoverlabel\": {\"align\": \"left\"}, \"hovermode\": \"closest\", \"mapbox\": {\"style\": \"light\"}, \"paper_bgcolor\": \"white\", \"plot_bgcolor\": \"#E5ECF6\", \"polar\": {\"angularaxis\": {\"gridcolor\": \"white\", \"linecolor\": \"white\", \"ticks\": \"\"}, \"bgcolor\": \"#E5ECF6\", \"radialaxis\": {\"gridcolor\": \"white\", \"linecolor\": \"white\", \"ticks\": \"\"}}, \"scene\": {\"xaxis\": {\"backgroundcolor\": \"#E5ECF6\", \"gridcolor\": \"white\", \"gridwidth\": 2, \"linecolor\": \"white\", \"showbackground\": true, \"ticks\": \"\", \"zerolinecolor\": \"white\"}, \"yaxis\": {\"backgroundcolor\": \"#E5ECF6\", \"gridcolor\": \"white\", \"gridwidth\": 2, \"linecolor\": \"white\", \"showbackground\": true, \"ticks\": \"\", \"zerolinecolor\": \"white\"}, \"zaxis\": {\"backgroundcolor\": \"#E5ECF6\", \"gridcolor\": \"white\", \"gridwidth\": 2, \"linecolor\": \"white\", \"showbackground\": true, \"ticks\": \"\", \"zerolinecolor\": \"white\"}}, \"shapedefaults\": {\"line\": {\"color\": \"#2a3f5f\"}}, \"ternary\": {\"aaxis\": {\"gridcolor\": \"white\", \"linecolor\": \"white\", \"ticks\": \"\"}, \"baxis\": {\"gridcolor\": \"white\", \"linecolor\": \"white\", \"ticks\": \"\"}, \"bgcolor\": \"#E5ECF6\", \"caxis\": {\"gridcolor\": \"white\", \"linecolor\": \"white\", \"ticks\": \"\"}}, \"title\": {\"x\": 0.05}, \"xaxis\": {\"automargin\": true, \"gridcolor\": \"white\", \"linecolor\": \"white\", \"ticks\": \"\", \"title\": {\"standoff\": 15}, \"zerolinecolor\": \"white\", \"zerolinewidth\": 2}, \"yaxis\": {\"automargin\": true, \"gridcolor\": \"white\", \"linecolor\": \"white\", \"ticks\": \"\", \"title\": {\"standoff\": 15}, \"zerolinecolor\": \"white\", \"zerolinewidth\": 2}}}},\n",
              "                        {\"responsive\": true}\n",
              "                    ).then(function(){\n",
              "                            \n",
              "var gd = document.getElementById('1b339016-627e-4a4d-aad0-dca3408b6301');\n",
              "var x = new MutationObserver(function (mutations, observer) {{\n",
              "        var display = window.getComputedStyle(gd).display;\n",
              "        if (!display || display === 'none') {{\n",
              "            console.log([gd, 'removed!']);\n",
              "            Plotly.purge(gd);\n",
              "            observer.disconnect();\n",
              "        }}\n",
              "}});\n",
              "\n",
              "// Listen for the removal of the full notebook cells\n",
              "var notebookContainer = gd.closest('#notebook-container');\n",
              "if (notebookContainer) {{\n",
              "    x.observe(notebookContainer, {childList: true});\n",
              "}}\n",
              "\n",
              "// Listen for the clearing of the current output cell\n",
              "var outputEl = gd.closest('.output');\n",
              "if (outputEl) {{\n",
              "    x.observe(outputEl, {childList: true});\n",
              "}}\n",
              "\n",
              "                        })\n",
              "                };\n",
              "                \n",
              "            </script>\n",
              "        </div>\n",
              "</body>\n",
              "</html>"
            ]
          },
          "metadata": {
            "tags": []
          }
        }
      ]
    },
    {
      "cell_type": "markdown",
      "metadata": {
        "id": "sq-T7ikLMHYv"
      },
      "source": [
        "**Finding the best K: A fundamental step for any unsupervised algorithm is to determine the optimal number of clusters into which the data may be clustered.**"
      ]
    },
    {
      "cell_type": "markdown",
      "metadata": {
        "id": "gdTVR5dbMPiv"
      },
      "source": [
        "Method 1: Finding the elbow point for (inertia_) \"Sum of squared distances of samples to their closest cluster center\".\n",
        "\n"
      ]
    },
    {
      "cell_type": "code",
      "metadata": {
        "colab": {
          "base_uri": "https://localhost:8080/",
          "height": 500
        },
        "id": "rp4MZy-OO7NE",
        "outputId": "5a299456-178b-4033-fd5a-7cbb55d1625c"
      },
      "source": [
        "SSE=[]\n",
        "for k in range(0,10):\n",
        "  kmeans=KMeans(n_clusters=k+1,random_state=123).fit(rfm_df_scaled)\n",
        "  SSE.append(kmeans.inertia_)\n",
        "\n",
        "sns.pointplot(x=list(range(1,11)),y=SSE)\n"
      ],
      "execution_count": null,
      "outputs": [
        {
          "output_type": "execute_result",
          "data": {
            "text/plain": [
              "<matplotlib.axes._subplots.AxesSubplot at 0x7f1006692ad0>"
            ]
          },
          "metadata": {
            "tags": []
          },
          "execution_count": 34
        },
        {
          "output_type": "display_data",
          "data": {
            "image/png": "[encoded data removed]",
            "text/plain": [
              "<Figure size 720x576 with 1 Axes>"
            ]
          },
          "metadata": {
            "tags": [],
            "needs_background": "light"
          }
        }
      ]
    },
    {
      "cell_type": "markdown",
      "metadata": {
        "id": "nhK_iORJR1mZ"
      },
      "source": [
        "This shows an elbow at 4 as after that the decrement is insignificant\n"
      ]
    },
    {
      "cell_type": "code",
      "metadata": {
        "colab": {
          "base_uri": "https://localhost:8080/",
          "height": 748
        },
        "id": "m7xrFz7KT2gJ",
        "outputId": "cf921bce-d099-4002-cebf-b7d4e5dd7faa"
      },
      "source": [
        "from yellowbrick.cluster import SilhouetteVisualizer\n",
        "from sklearn.cluster import KMeans\n",
        "model = SilhouetteVisualizer(KMeans(4))\n",
        "model.fit(rfm_df_scaled)\n",
        "model.show()"
      ],
      "execution_count": null,
      "outputs": [
        {
          "output_type": "error",
          "ename": "AttributeError",
          "evalue": "ignored",
          "traceback": [
            "\u001b[0;31m---------------------------------------------------------------------------\u001b[0m",
            "\u001b[0;31mAttributeError\u001b[0m                            Traceback (most recent call last)",
            "\u001b[0;32m<ipython-input-40-16bb5c18d33b>\u001b[0m in \u001b[0;36m<module>\u001b[0;34m()\u001b[0m\n\u001b[1;32m      3\u001b[0m \u001b[0mmodel\u001b[0m \u001b[0;34m=\u001b[0m \u001b[0mSilhouetteVisualizer\u001b[0m\u001b[0;34m(\u001b[0m\u001b[0mKMeans\u001b[0m\u001b[0;34m(\u001b[0m\u001b[0;36m4\u001b[0m\u001b[0;34m)\u001b[0m\u001b[0;34m)\u001b[0m\u001b[0;34m\u001b[0m\u001b[0;34m\u001b[0m\u001b[0m\n\u001b[1;32m      4\u001b[0m \u001b[0mmodel\u001b[0m\u001b[0;34m.\u001b[0m\u001b[0mfit\u001b[0m\u001b[0;34m(\u001b[0m\u001b[0mrfm_df_scaled\u001b[0m\u001b[0;34m)\u001b[0m\u001b[0;34m\u001b[0m\u001b[0;34m\u001b[0m\u001b[0m\n\u001b[0;32m----> 5\u001b[0;31m \u001b[0mmodel\u001b[0m\u001b[0;34m.\u001b[0m\u001b[0mshow\u001b[0m\u001b[0;34m(\u001b[0m\u001b[0;34m)\u001b[0m\u001b[0;34m\u001b[0m\u001b[0;34m\u001b[0m\u001b[0m\n\u001b[0m",
            "\u001b[0;32m/usr/local/lib/python3.7/dist-packages/yellowbrick/utils/wrapper.py\u001b[0m in \u001b[0;36m__getattr__\u001b[0;34m(self, attr)\u001b[0m\n\u001b[1;32m     40\u001b[0m     \u001b[0;32mdef\u001b[0m \u001b[0m__getattr__\u001b[0m\u001b[0;34m(\u001b[0m\u001b[0mself\u001b[0m\u001b[0;34m,\u001b[0m \u001b[0mattr\u001b[0m\u001b[0;34m)\u001b[0m\u001b[0;34m:\u001b[0m\u001b[0;34m\u001b[0m\u001b[0;34m\u001b[0m\u001b[0m\n\u001b[1;32m     41\u001b[0m         \u001b[0;31m# proxy to the wrapped object\u001b[0m\u001b[0;34m\u001b[0m\u001b[0;34m\u001b[0m\u001b[0;34m\u001b[0m\u001b[0m\n\u001b[0;32m---> 42\u001b[0;31m         \u001b[0;32mreturn\u001b[0m \u001b[0mgetattr\u001b[0m\u001b[0;34m(\u001b[0m\u001b[0mself\u001b[0m\u001b[0;34m.\u001b[0m\u001b[0m_wrapped\u001b[0m\u001b[0;34m,\u001b[0m \u001b[0mattr\u001b[0m\u001b[0;34m)\u001b[0m\u001b[0;34m\u001b[0m\u001b[0;34m\u001b[0m\u001b[0m\n\u001b[0m",
            "\u001b[0;31mAttributeError\u001b[0m: 'KMeans' object has no attribute 'show'"
          ]
        },
        {
          "output_type": "display_data",
          "data": {
            "image/png": "[encoded data removed]",
            "text/plain": [
              "<Figure size 720x576 with 1 Axes>"
            ]
          },
          "metadata": {
            "tags": [],
            "needs_background": "light"
          }
        }
      ]
    },
    {
      "cell_type": "markdown",
      "metadata": {
        "id": "KT_A1dHnSbFT"
      },
      "source": [
        "**Now we do a hierarchial clustering**"
      ]
    },
    {
      "cell_type": "code",
      "metadata": {
        "id": "Grjd5aU6R1Jm"
      },
      "source": [
        "from scipy.cluster.hierarchy import linkage\n",
        "from scipy.cluster.hierarchy import dendrogram\n",
        "from scipy.cluster.hierarchy import cut_tree"
      ],
      "execution_count": null,
      "outputs": []
    },
    {
      "cell_type": "code",
      "metadata": {
        "colab": {
          "base_uri": "https://localhost:8080/",
          "height": 484
        },
        "id": "YQlDBrw2SlTw",
        "outputId": "1e659792-da47-4b87-fb4b-2d088424a03a"
      },
      "source": [
        "mergings = linkage(rfm_df_scaled, method=\"complete\", metric='euclidean')\n",
        "dendrogram(mergings)\n",
        "plt.show()"
      ],
      "execution_count": null,
      "outputs": [
        {
          "output_type": "display_data",
          "data": {
            "image/png": "[encoded data removed]",
            "text/plain": [
              "<Figure size 720x576 with 1 Axes>"
            ]
          },
          "metadata": {
            "tags": [],
            "needs_background": "light"
          }
        }
      ]
    },
    {
      "cell_type": "markdown",
      "metadata": {
        "id": "BiPRz5GMWNoF"
      },
      "source": [
        "**Summary**   \n",
        "RFM analysis can segment customers into homogenous group quickly with set of minimum variables. Scoring system can be defined and ranged differently. We get a better result for clustering steps by applying scoring rather than using the raw calculated RFM values. Therefore, segmenting should be done by RFM scoring and further analysis on the spending behavior should be done on the raw values for the targeted cluster to expose more insight and characteristics. RFM analysis solely depends on purchasing behavior and histories, analysis can be further improved by exploring weighted composite scoring or including customer demographic information and product information. A good analysis can increase effectiveness and efficiency of marketing plans, hence increase profitability at minimum cost"
      ]
    }
  ]
}